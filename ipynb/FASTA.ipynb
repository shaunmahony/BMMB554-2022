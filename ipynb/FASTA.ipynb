{
  "nbformat": 4,
  "nbformat_minor": 0,
  "metadata": {
    "kernelspec": {
      "display_name": "Python 3",
      "language": "python",
      "name": "python3"
    },
    "language_info": {
      "codemirror_mode": {
        "name": "ipython",
        "version": 3
      },
      "file_extension": ".py",
      "mimetype": "text/x-python",
      "name": "python",
      "nbconvert_exporter": "python",
      "pygments_lexer": "ipython3",
      "version": "3.7.3"
    },
    "colab": {
      "name": "FASTA.ipynb",
      "provenance": []
    }
  },
  "cells": [
    {
      "cell_type": "markdown",
      "metadata": {
        "id": "vrb5J07BZvVl"
      },
      "source": [
        "\n",
        "\n",
        "\n",
        "FASTA\n",
        "=====\n",
        "\n",
        "--------\n",
        "\n",
        "This notebook is a simplified version of the one originally developed by [Ben Langmead](https://github.com/BenLangmead/ads1-notebooks).\n",
        "\n",
        "-----\n",
        "\n",
        "This notebook briefly explores the [FASTA] format, a very common format for storing DNA sequences.  FASTA is the preferred format for storing *reference genomes*.\n",
        "\n",
        "FASTA and FASTQ are rather similar, but FASTQ is almost always used for storing *sequencing reads* (with associated quality values), whereas FASTA is used for storing all kinds of DNA, RNA or protein sequencines (without associated quality values).\n",
        "\n",
        "Before delving into the format, I should mention that the [BioPython] project makes parsing and using many file formats, including FASTA, quite easy.  See the BioPython [SeqIO] module in particular.  As far as I know, though, [SeqIO] does not use FASTA indexes, discussed toward the bottom, which is a disadvantage.\n",
        "\n",
        "[FASTA]: http://en.wikipedia.org/wiki/FASTA_format\n",
        "[BioPython]: http://biopython.org/wiki/Main_Page\n",
        "[SeqIO]: http://biopython.org/wiki/SeqIO"
      ]
    },
    {
      "cell_type": "markdown",
      "metadata": {
        "id": "T70t38llZvVp"
      },
      "source": [
        "### Basic format\n",
        "\n",
        "Here is the basic format:\n",
        "\n",
        "    >sequence1_short_name with optional additional info after whitespace\n",
        "    ACATCACCCCATAAACAAATAGGTTTGGTCCTAGCCTTTCTATTAGCTCTTAGTAAGATTACACATGCAA\n",
        "    GCATCCCCGTTCCAGTGAGTTCACCCTCTAAATCACCACGATCAAAAGGAACAAGCATCAAGCACGCAGC\n",
        "    AATGCAGCTCAAAACGCTTAGCCTAGCCACACCCCCACGGGAAACAGCAGTGAT\n",
        "    >sequence2_short_name with optional additional info after whitespace\n",
        "    GCCCCAAACCCACTCCACCTTACTACCAGACAACCTTAGCCAAACCATTTACCCAAATAAAGTATAGGCG\n",
        "    ATAGAAATTGAAACCTGGCGCAATAGATATAGTACCGCAAGGGAAAGATGAAAAATTATAACCAAGCATA\n",
        "    ATATAG"
      ]
    },
    {
      "cell_type": "markdown",
      "metadata": {
        "id": "NV93UOkFZvVp"
      },
      "source": [
        "A line starting with a `>` (greater-than) sign indicates the beginning of a new sequence and specifies its name.  Take the first line above.  Everything after the `>` up to and excluding the first whitespace character (`sequence1_short_name`), is the \"short name.\"  Everything after the `>` up to the end of the *line* (`sequence1_short_name with optional additional info after whitespace`) is the \"long name.\"  We usually use the short name when referring to FASTA sequences.\n",
        "\n",
        "The next three lines consists of several nucleotides.  There is a maximum number of nucleotides permitted per line; in this case, it is 70.  If the sequence is longer then 70 nucleotides, it \"wraps\" down to the next line.  Not every FASTA file uses the same maximum, but a given FASTA file must use the same maximum throughout the file.\n",
        "\n",
        "The sequences above are made up.  Here's a real-world reference sequence of SARS-CoV-2 in FASTA format:\n"
      ]
    },
    {
      "cell_type": "code",
      "metadata": {
        "id": "tX34YqCDZvVq"
      },
      "source": [
        "import gzip\n",
        "import urllib.request\n",
        "url = 'ftp://hgdownload.soe.ucsc.edu/goldenPath/wuhCor1/chromosomes/NC_045512v2.fa.gz'\n",
        "response = urllib.request.urlopen(url)\n",
        "print(gzip.decompress(response.read()).decode('UTF8'))"
      ],
      "execution_count": null,
      "outputs": []
    },
    {
      "cell_type": "code",
      "metadata": {
        "id": "XrBdtYp9geif"
      },
      "source": [
        "!wget ftp://hgdownload.soe.ucsc.edu/goldenPath/wuhCor1/chromosomes/NC_045512v2.fa.gz"
      ],
      "execution_count": null,
      "outputs": []
    },
    {
      "cell_type": "code",
      "metadata": {
        "id": "d_Fd2NRdgixo"
      },
      "source": [
        "!ls"
      ],
      "execution_count": null,
      "outputs": []
    },
    {
      "cell_type": "code",
      "metadata": {
        "id": "RYSjnJ9wgkWM"
      },
      "source": [
        "!gunzip NC_045512v2.fa.gz"
      ],
      "execution_count": null,
      "outputs": []
    },
    {
      "cell_type": "markdown",
      "metadata": {
        "id": "W3KTMlG3ZvVq"
      },
      "source": [
        "This FASTA file shown above has just one sequence in it.  As we saw in the first example above, it's also possible for one FASTA file to contain multiple sequences.  These are sometimes called multi-FASTA files.  When you write code to interpret FASTA files, it's a good idea to *always* allow for the possibility that the FASTA file might contain multiple sequences.\n",
        "\n",
        "FASTA files are often stored with the `.fa` file name extension, but this is not a rule.  `.fasta` is another popular extenson.  You may also see `.fas`, `.fna`, `.mfa` (for multi-FASTA), and others."
      ]
    },
    {
      "cell_type": "markdown",
      "metadata": {
        "id": "F6WRGvjcZvVr"
      },
      "source": [
        "### Parsing FASTA\n",
        "\n",
        "Here is a simple function for parsing a FASTA file into a Python dictionary.  The dictionary maps short names to corresponding nucleotide strings (with whitespace removed)."
      ]
    },
    {
      "cell_type": "code",
      "metadata": {
        "id": "tr8cnsZnZvVr"
      },
      "source": [
        "def parse_fasta(fh):\n",
        "    fa = {}\n",
        "    current_short_name = None\n",
        "    # Part 1: compile list of lines per sequence\n",
        "    for ln in fh:\n",
        "        if ln[0] == '>':\n",
        "            # new name line; remember current sequence's short name\n",
        "            long_name = ln[1:].rstrip()\n",
        "            current_short_name = long_name.split()[0]\n",
        "            fa[current_short_name] = []\n",
        "        else:\n",
        "            # append nucleotides to current sequence\n",
        "            fa[current_short_name].append(ln.rstrip())\n",
        "    # Part 2: join lists into strings\n",
        "    for short_name, nuc_list in fa.items():\n",
        "        # join this sequence's lines into one long string\n",
        "        fa[short_name] = ''.join(nuc_list)\n",
        "    return fa"
      ],
      "execution_count": null,
      "outputs": []
    },
    {
      "cell_type": "markdown",
      "metadata": {
        "id": "6BN7Y3ALZvVr"
      },
      "source": [
        "The first part accumulates a list of strings (one per line) for each sequence.  The second part joins those lines together so that we end up with one long string per sequence.  Why divide it up this way?  Mainly to avoid the [poor performance](http://www.skymind.com/~ocrow/python_string/) of repeatedly concatenating (immutable) Python strings.\n",
        "\n",
        "I'll test it by running it on the simple multi-FASTA file we saw before:"
      ]
    },
    {
      "cell_type": "code",
      "metadata": {
        "id": "zCJoVfrRZvVr"
      },
      "source": [
        "from io import StringIO\n",
        "fasta_example = StringIO(\n",
        "'''>sequence1_short_name with optional additional info after whitespace\n",
        "ACATCACCCCATAAACAAATAGGTTTGGTCCTAGCCTTTCTATTAGCTCTTAGTAAGATTACACATGCAA\n",
        "GCATCCCCGTTCCAGTGAGTTCACCCTCTAAATCACCACGATCAAAAGGAACAAGCATCAAGCACGCAGC\n",
        "AATGCAGCTCAAAACGCTTAGCCTAGCCACACCCCCACGGGAAACAGCAGTGAT\n",
        ">sequence2_short_name with optional additional info after whitespace\n",
        "GCCCCAAACCCACTCCACCTTACTACCAGACAACCTTAGCCAAACCATTTACCCAAATAAAGTATAGGCG\n",
        "ATAGAAATTGAAACCTGGCGCAATAGATATAGTACCGCAAGGGAAAGATGAAAAATTATAACCAAGCATA\n",
        "ATATAG''')\n",
        "parsed_fa = parse_fasta(fasta_example)\n",
        "parsed_fa"
      ],
      "execution_count": null,
      "outputs": []
    },
    {
      "cell_type": "markdown",
      "metadata": {
        "id": "zRAapo81ZvVr"
      },
      "source": [
        "Note that only the short names survive.  This is usually fine, but it's not hard to modify the function so that information relating short names to long names is also retained."
      ]
    },
    {
      "cell_type": "markdown",
      "metadata": {
        "id": "dmK5mGzrZvVv"
      },
      "source": [
        "### Other resources\n",
        "\n",
        "* [Wikipedia page for FASTA format](http://en.wikipedia.org/wiki/Fasta_format)\n",
        "* The [original FASTA paper](http://www.sciencedirect.com/science/article/pii/007668799083007V) by Bill Pearson.  This is the software tool that made the format popular.\n",
        "* [BioPython], which has [its own ways of parsing FASTA](http://biopython.org/wiki/SeqIO)\n",
        "* [Many](https://github.com/brentp/pyfasta) [other](https://github.com/lh3/seqtk) [libraries](https://github.com/mdshw5/pyfaidx) and [tools]((http://hannonlab.cshl.edu/fastx_toolkit/)\n",
        "\n",
        "[BioPython]: http://biopython.org/wiki/Main_Page\n",
        "[SeqIO]: http://biopython.org/wiki/SeqIO"
      ]
    }
  ]
}