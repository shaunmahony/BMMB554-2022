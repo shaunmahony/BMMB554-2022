{
  "nbformat": 4,
  "nbformat_minor": 0,
  "metadata": {
    "colab": {
      "name": "matplotlib.ipynb",
      "provenance": [],
      "authorship_tag": "ABX9TyNQ3sb9E4iRS6PjnOtePFUo"
    },
    "kernelspec": {
      "name": "python3",
      "display_name": "Python 3"
    },
    "language_info": {
      "name": "python"
    }
  },
  "cells": [
    {
      "cell_type": "markdown",
      "source": [
        "#Plotting with matplotlib and seaborn"
      ],
      "metadata": {
        "id": "6zWYdsgPPMFv"
      }
    },
    {
      "cell_type": "markdown",
      "source": [
        "Let's begin by importing data to plot. We'll use the Stockholm temperature data again. "
      ],
      "metadata": {
        "id": "Pelh7eFRPQPS"
      }
    },
    {
      "cell_type": "code",
      "execution_count": null,
      "metadata": {
        "id": "5c4nxMWSPKwJ"
      },
      "outputs": [],
      "source": [
        "!wget https://raw.githubusercontent.com/jrjohansson/scientific-python-lectures/master/stockholm_td_adj.dat"
      ]
    },
    {
      "cell_type": "code",
      "source": [
        "import numpy as np\n"
      ],
      "metadata": {
        "id": "TGBak8kcP1ct"
      },
      "execution_count": null,
      "outputs": []
    }
  ]
}