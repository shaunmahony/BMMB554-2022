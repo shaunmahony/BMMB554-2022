{
  "nbformat": 4,
  "nbformat_minor": 0,
  "metadata": {
    "colab": {
      "name": "matplotlib.ipynb",
      "provenance": [],
      "toc_visible": true
    },
    "kernelspec": {
      "name": "python3",
      "display_name": "Python 3"
    },
    "language_info": {
      "name": "python"
    }
  },
  "cells": [
    {
      "cell_type": "markdown",
      "source": [
        "This tutorial combines material from the [SoftwareCarpentary Python tutorial](http://swcarpentry.github.io/python-novice-gapminder/), and the [Matplotlib tutorial](https://matplotlib.org/stable/tutorials/introductory/usage.html)"
      ],
      "metadata": {
        "id": "Pelh7eFRPQPS"
      }
    },
    {
      "cell_type": "markdown",
      "source": [
        "# matplotlib\n",
        "matplotlib is a very popular Python library for creating plots. One of the original motivations behind matplotlib was to recreate the types of plotting functions avilable in MATLAB, hence the name. "
      ],
      "metadata": {
        "id": "60XCUrBSa4v-"
      }
    },
    {
      "cell_type": "markdown",
      "source": [
        "## matplotlib basics"
      ],
      "metadata": {
        "id": "Fmop3obguhOq"
      }
    },
    {
      "cell_type": "code",
      "source": [
        "# Import MatPlotlib\n",
        "%matplotlib inline\n",
        "import matplotlib.pyplot as plt"
      ],
      "metadata": {
        "id": "iEGO5Bzga2yc"
      },
      "execution_count": null,
      "outputs": []
    },
    {
      "cell_type": "markdown",
      "source": [
        "Let's make a simple set of data and plot a line graph."
      ],
      "metadata": {
        "id": "yP8eFehLb2UH"
      }
    },
    {
      "cell_type": "code",
      "source": [
        "time = [0, 1, 2, 3]\n",
        "position = [0, 100, 200, 300]\n",
        "\n",
        "plt.plot(time, position)\n",
        "plt.xlabel('Time (hr)')\n",
        "plt.ylabel('Position (km)')\n"
      ],
      "metadata": {
        "id": "q3jXfE2Cb7Wh"
      },
      "execution_count": null,
      "outputs": []
    },
    {
      "cell_type": "markdown",
      "source": [
        "In our CoLab notebook session, the plots will appear automatically once we execute each code cell. However, in a Python script or command-line session, we need to tell Python to display the plot with the following code:\n",
        "`plt.show()`"
      ],
      "metadata": {
        "id": "tiYkkLM0cgqR"
      }
    },
    {
      "cell_type": "markdown",
      "source": [
        "## Plotting data from a Pandas DataFrame (wide format)\n",
        "Let's grab some data that tracks large city populations since 1950. We'll load it as a Pandas DataFrame"
      ],
      "metadata": {
        "id": "EjnOQYtod_Mj"
      }
    },
    {
      "cell_type": "code",
      "source": [
        "!wget https://raw.githubusercontent.com/shaunmahony/BMMB554-2022/main/data/city-populations-reformat.csv"
      ],
      "metadata": {
        "id": "6d9vYsGueIcg"
      },
      "execution_count": null,
      "outputs": []
    },
    {
      "cell_type": "code",
      "source": [
        "!head city-populations-reformat.csv"
      ],
      "metadata": {
        "id": "ax9Lvp4SeXNU"
      },
      "execution_count": null,
      "outputs": []
    },
    {
      "cell_type": "code",
      "source": [
        "import numpy as np\n",
        "import pandas as pd\n",
        "\n",
        "cities = pd.read_csv('city-populations-reformat.csv')\n",
        "\n",
        "cities.head()"
      ],
      "metadata": {
        "id": "BHHpLNFQeRmt"
      },
      "execution_count": null,
      "outputs": []
    },
    {
      "cell_type": "markdown",
      "source": [
        "What format is this table in? Wide or long (tidy)?\n",
        "\n",
        "Matplotlib is an example of a library that works best with wide format data. "
      ],
      "metadata": {
        "id": "plQEuNBTSEk0"
      }
    },
    {
      "cell_type": "markdown",
      "source": [
        "Let's plot the New York column. "
      ],
      "metadata": {
        "id": "Bg2GgXE5qVzs"
      }
    },
    {
      "cell_type": "code",
      "source": [
        "cities['New York'].plot()\n",
        "plt.ylabel('Population')"
      ],
      "metadata": {
        "id": "BPgDKvwvm1Cz"
      },
      "execution_count": null,
      "outputs": []
    },
    {
      "cell_type": "markdown",
      "source": [
        "Why isn't the x-axis showing the years? It's actually showing the index, which by default is set to 0,1,.. etc. "
      ],
      "metadata": {
        "id": "REpYoIE-qZry"
      }
    },
    {
      "cell_type": "code",
      "source": [
        "cities.index.values"
      ],
      "metadata": {
        "id": "16_5UdEdqllf"
      },
      "execution_count": null,
      "outputs": []
    },
    {
      "cell_type": "markdown",
      "source": [
        "Instead, let's set it to the Year column and otherwise delete that column from the the DataFrame `cities.set_index('Year',drop=True,inplace=True)`\n",
        "\n",
        "Note that we could alternatively have just plotted the New York column against the Year column: `cities['New York'].plot(x='Year')`\n",
        "\n",
        "Or, when we loaded the data, we could have defined the first column to be the index: `cities = pd.read_csv('city-populations-reformat.csv', index_col=0)`"
      ],
      "metadata": {
        "id": "RMoLMXCFqsuQ"
      }
    },
    {
      "cell_type": "code",
      "source": [
        "# Let's set index to be the Year column\n",
        "cities.set_index('Year',drop=True,inplace=True)\n"
      ],
      "metadata": {
        "id": "gqvQP5ddp5os"
      },
      "execution_count": null,
      "outputs": []
    },
    {
      "cell_type": "code",
      "source": [
        "cities['New York'].plot()"
      ],
      "metadata": {
        "id": "wFN6L-FdsCKp"
      },
      "execution_count": null,
      "outputs": []
    },
    {
      "cell_type": "markdown",
      "source": [
        "Plotting multiple cities at once:"
      ],
      "metadata": {
        "id": "DeE5pDfQaPd8"
      }
    },
    {
      "cell_type": "code",
      "source": [
        "cities[['New York','Paris','Beijing','Mumbai']].plot()"
      ],
      "metadata": {
        "id": "jJnibqCOaQd_"
      },
      "execution_count": null,
      "outputs": []
    },
    {
      "cell_type": "markdown",
      "source": [
        "## Plot styles/types\n",
        "There are lots of other plot styles and types available. See the [documentation](https://pandas.pydata.org/docs/reference/api/pandas.DataFrame.plot.html) for the DataFrame plot method. \n",
        "\n"
      ],
      "metadata": {
        "id": "cmscDoSDu4da"
      }
    },
    {
      "cell_type": "code",
      "source": [
        "plt.style.use('ggplot')\n",
        "cities[['New York','Paris','Beijing','Mumbai']].plot(kind='bar')\n",
        "plt.ylabel('Population')"
      ],
      "metadata": {
        "id": "00DZ2IHmx5VI"
      },
      "execution_count": null,
      "outputs": []
    },
    {
      "cell_type": "markdown",
      "source": [
        "You can also create plots by calling the `matplotlib plot` function directly. "
      ],
      "metadata": {
        "id": "iFawuC_UyfGc"
      }
    },
    {
      "cell_type": "code",
      "source": [
        "years = cities.index.values\n",
        "newyork = cities['New York']\n",
        "\n",
        "plt.plot(years, newyork)\n",
        "plt.ylabel('Population')\n",
        "plt.xlabel('Years')"
      ],
      "metadata": {
        "id": "ADP-sMNqydmZ"
      },
      "execution_count": null,
      "outputs": []
    },
    {
      "cell_type": "markdown",
      "source": [
        "We can add multiple elements onto the same plot."
      ],
      "metadata": {
        "id": "NkoRMGvRzXo5"
      }
    },
    {
      "cell_type": "code",
      "source": [
        "years = cities.index.values\n",
        "newyork = cities['New York']\n",
        "delhi = cities['Delhi']\n",
        "rio = cities['Rio de Janeiro']\n",
        "\n",
        "plt.plot(years, newyork, label='New York')\n",
        "plt.plot(years, delhi, label='Delhi')\n",
        "plt.plot(years, rio, label='Rio de Janeiro')\n",
        "plt.ylabel('Population')\n",
        "plt.xlabel('Years')\n",
        "plt.legend()\n",
        "plt.show()"
      ],
      "metadata": {
        "id": "gnz8aQEpzcDW"
      },
      "execution_count": null,
      "outputs": []
    },
    {
      "cell_type": "markdown",
      "source": [
        "Let's plot New York versus Rio as a scatter."
      ],
      "metadata": {
        "id": "HAw-skPT0Ibv"
      }
    },
    {
      "cell_type": "code",
      "source": [
        "plt.scatter(newyork, rio)\n",
        "plt.show()"
      ],
      "metadata": {
        "id": "efF0u3iK0M63"
      },
      "execution_count": null,
      "outputs": []
    },
    {
      "cell_type": "markdown",
      "source": [
        "## Saving plots\n",
        "\n",
        "Once you are happy with the format and style of the plot, you will likely want to save it as a file. You can do so with the `savefig` method. \n",
        "\n",
        "`plt.savefig('my_figure.png')`\n",
        "\n",
        "This will save the current figure to the file my_figure.png. The file format will determined from the file name extension (other formats are pdf, ps, eps and svg).\n",
        "\n",
        "The `savefig` method operates on the current `figure`. Once the plot has been displayed to the screen, matplotlib starts a new empty figure. Thus, you will need to call `savefig` before the plot has been displayed. \n",
        "\n",
        "When plotting from DataFrames, there is an added complication that the plot is made and displayed in a single line, so you can't call `savefig` before displaying the figure. In this case, you can save a reference to the current figure in a local variable (with `plt.get_figure()`) and then call the `savefig` method from that variable."
      ],
      "metadata": {
        "id": "ZAbezbL_0laJ"
      }
    },
    {
      "cell_type": "code",
      "source": [
        "plot = cities[['New York','Paris','Beijing','Mumbai']].plot()\n",
        "plt.ylabel('Population')\n",
        "fig = plot.get_figure()\n",
        "fig.savefig('my_figure.png')"
      ],
      "metadata": {
        "id": "KrgsCEcm2YZD"
      },
      "execution_count": null,
      "outputs": []
    },
    {
      "cell_type": "markdown",
      "source": [
        "## Matplotlib plots from a tidy Pandas DataFrame"
      ],
      "metadata": {
        "id": "2F-YXelBVZ5c"
      }
    },
    {
      "cell_type": "markdown",
      "source": [
        "Matplotlib works best with wide format tables, but could we have done the same thing with tidy data? Yes, but we're more limited in terms of easily making multi-series plots *in matplotlib* while the data is in tidy format. Let's go through some steps again, but this time tidying the dataframe first. \n",
        "\n",
        "Let's load the data again to make everything clear. "
      ],
      "metadata": {
        "id": "LB75Hd-iViXN"
      }
    },
    {
      "cell_type": "code",
      "source": [
        "import numpy as np\n",
        "import pandas as pd\n",
        "\n",
        "cities2 = pd.read_csv('city-populations-reformat.csv')\n",
        "\n",
        "cities2.head()"
      ],
      "metadata": {
        "id": "872IJJPxVZTx"
      },
      "execution_count": null,
      "outputs": []
    },
    {
      "cell_type": "markdown",
      "source": [
        "Let's melt the dataframe to get a tidy representation."
      ],
      "metadata": {
        "id": "xDiQV1habFbw"
      }
    },
    {
      "cell_type": "code",
      "source": [
        "cities2 = pd.melt(cities2, value_name='Population', var_name=['City'],value_vars=cities2.columns[1:],id_vars=['Year'])\n",
        "\n",
        "cities2.head()"
      ],
      "metadata": {
        "id": "WIgA_HRtSX6j"
      },
      "execution_count": null,
      "outputs": []
    },
    {
      "cell_type": "markdown",
      "source": [
        "Now we want to get the rows where the City equals 'New York\", and we want to plot the Year and Population for those rows."
      ],
      "metadata": {
        "id": "Xj44-dUqWCqj"
      }
    },
    {
      "cell_type": "code",
      "source": [
        "cities2.loc[cities2['City']== 'New York', : ].plot(x='Year', y='Population')"
      ],
      "metadata": {
        "id": "8fruDE4BWB1b"
      },
      "execution_count": null,
      "outputs": []
    },
    {
      "cell_type": "markdown",
      "source": [
        "# Seaborn\n",
        "\n",
        "seaborn is a plotting library that is built on top of matplotlib. It complements matplotlib to make aesthetically pleasing statistical plots. The creator of seaborn, Michael Waksom, puts the goal of seaborn as follows:\n",
        "\n",
        "> If Matplotlib tries to make easy things easy and hard things possible, seaborn tries to make a well-defined set of hard things easy too\n",
        "\n",
        "\n"
      ],
      "metadata": {
        "id": "LjNPmqTAumke"
      }
    },
    {
      "cell_type": "markdown",
      "source": [
        "## Basic plots in seaborn"
      ],
      "metadata": {
        "id": "6W2Uw2wr5zDb"
      }
    },
    {
      "cell_type": "code",
      "source": [
        "# Import Seaborn for plotting and styling\n",
        "import seaborn as sns"
      ],
      "metadata": {
        "id": "YbrWYu-yydZ_"
      },
      "execution_count": null,
      "outputs": []
    },
    {
      "cell_type": "markdown",
      "source": [
        "Okay, so let's see how to create our city population line plot looks like in seaborn. Note that seaborn is naturally compatible with Pandas DataFrames, and favors the tidy data representation. "
      ],
      "metadata": {
        "id": "plGW46pdzucg"
      }
    },
    {
      "cell_type": "markdown",
      "source": [
        "**Remember: `cities` here is in wide format while `cities2` is in long format**"
      ],
      "metadata": {
        "id": "Jm70-hhTgIZ7"
      }
    },
    {
      "cell_type": "markdown",
      "source": [
        "Let's try plotting columns from the wide format data first."
      ],
      "metadata": {
        "id": "FB1_jU-qm1Y1"
      }
    },
    {
      "cell_type": "code",
      "source": [
        "sns.lineplot(data=cities[['New York','Paris','Beijing','Mumbai']])\n",
        "plt.ylabel('Population')\n",
        "plt.show()"
      ],
      "metadata": {
        "id": "L-3GLwfE0L7B"
      },
      "execution_count": null,
      "outputs": []
    },
    {
      "cell_type": "markdown",
      "source": [
        "Now let's do the same thing from the long form dataframe (let's extract the relevant cities first)."
      ],
      "metadata": {
        "id": "dljtZvFfiVI1"
      }
    },
    {
      "cell_type": "code",
      "source": [
        "cities2_subset = cities2.loc[cities2['City'].isin(['New York','Paris','Beijing','Mumbai'])]"
      ],
      "metadata": {
        "id": "Ne0FHpP6jMy9"
      },
      "execution_count": null,
      "outputs": []
    },
    {
      "cell_type": "code",
      "source": [
        "sns.lineplot(data=cities2_subset, x='Year', y='Population', hue='City')"
      ],
      "metadata": {
        "id": "9xn9LYc-g3BT"
      },
      "execution_count": null,
      "outputs": []
    },
    {
      "cell_type": "markdown",
      "source": [
        "Not very different from the basic matplotlib style here. Let's change style and color palette. More info:\n",
        "https://seaborn.pydata.org/tutorial/aesthetics.html "
      ],
      "metadata": {
        "id": "rj-rGdj-3s_C"
      }
    },
    {
      "cell_type": "code",
      "source": [
        "sns.set_theme(style='white', palette='pastel')\n",
        "sns.lineplot(data=cities2_subset, x='Year', y='Population', hue='City')"
      ],
      "metadata": {
        "id": "gbxB3SOH3_Oo"
      },
      "execution_count": null,
      "outputs": []
    },
    {
      "cell_type": "markdown",
      "source": [
        "Great, but I want to show this plot in a talk, and I'm afraid the text elements are too small to be legible on the screen. Seaborn provides a method called set_context(), where you can easily scale the various elements using four preset 'contexts':\n",
        "\n",
        "*   paper\n",
        "*   notebook (default)\n",
        "*   talk\n",
        "*   poster\n",
        "\n"
      ],
      "metadata": {
        "id": "TBNBU0ia4ONZ"
      }
    },
    {
      "cell_type": "code",
      "source": [
        "sns.set_theme(style='white', palette='pastel')\n",
        "sns.set_context('talk')\n",
        "sns.lineplot(data=cities2_subset, x='Year', y='Population', hue='City')"
      ],
      "metadata": {
        "id": "ihJH-iMM5J_U"
      },
      "execution_count": null,
      "outputs": []
    },
    {
      "cell_type": "markdown",
      "source": [
        "## Combining plots on tidy data\n",
        "\n",
        "Let's say we want to take another view of our population data. Instead of tracking individual cities, we want to look at the distribution of populations of these 30 cities over time. One type of plot that might be suitable here is a violin plot. Let's try it in seaborn on the tidy format data. "
      ],
      "metadata": {
        "id": "Z9DYC25u54NO"
      }
    },
    {
      "cell_type": "code",
      "source": [
        "#Reset our theme\n",
        "sns.set_theme()\n",
        "\n",
        "sns.violinplot(data=cities2, x='Year', y='Population')\n"
      ],
      "metadata": {
        "id": "dspKYAP2667w"
      },
      "execution_count": null,
      "outputs": []
    },
    {
      "cell_type": "markdown",
      "source": [
        "This is what we wanted, but it's a bit crowded. Let's make it bigger. "
      ],
      "metadata": {
        "id": "ms5G-C5t8TTc"
      }
    },
    {
      "cell_type": "code",
      "source": [
        "plt.figure(figsize=(12,8))\n",
        "sns.set_context('talk')\n",
        "sns.violinplot(data=cities2, x='Year', y='Population')\n",
        "plt.show()"
      ],
      "metadata": {
        "id": "4t9Znjvg8YlA"
      },
      "execution_count": null,
      "outputs": []
    },
    {
      "cell_type": "markdown",
      "source": [
        "Another plot style that would show the same information, but using the individual data points, is a swwarmplot. "
      ],
      "metadata": {
        "id": "OHnY4x4I8smY"
      }
    },
    {
      "cell_type": "code",
      "source": [
        "plt.figure(figsize=(12,8))\n",
        "sns.set_context('talk')\n",
        "sns.swarmplot(data=cities2, x='Year', y='Population')\n",
        "plt.show()"
      ],
      "metadata": {
        "id": "7yCwWVRB88Wi"
      },
      "execution_count": null,
      "outputs": []
    },
    {
      "cell_type": "markdown",
      "source": [
        "Could we show both a violinplot and a swarmplot together? Yes!"
      ],
      "metadata": {
        "id": "CQBPLwDR9DsV"
      }
    },
    {
      "cell_type": "code",
      "source": [
        "plt.figure(figsize=(12,8))\n",
        "sns.set_context('talk')\n",
        "\n",
        "sns.violinplot(\n",
        "    data=cities2, \n",
        "    x='Year', \n",
        "    y='Population',\n",
        "    inner=None) # Remove the bars inside the violins\n",
        "\n",
        "sns.swarmplot(\n",
        "    data=cities2, \n",
        "    x='Year', \n",
        "    y='Population',\n",
        "    color='k', # Make points black\n",
        "    alpha=0.7) # and slightly transparent\n",
        "\n",
        "plt.show()"
      ],
      "metadata": {
        "id": "T-yn1YvL9IZw"
      },
      "execution_count": null,
      "outputs": []
    },
    {
      "cell_type": "markdown",
      "source": [
        "## Heatmaps\n",
        "Heatmaps are a very popular and useful type of plot in genomics. They may not be particularly useful for displaying our city population data, but let's stick with the theme for now. Let's see what a default heatmap would display on our wide format data. (note that in this case, Seaborn wants \"a 2D dataset that can be coerced into an ndarray\"). "
      ],
      "metadata": {
        "id": "lSYounYL94Bx"
      }
    },
    {
      "cell_type": "code",
      "source": [
        "plt.figure(figsize=(12,8))\n",
        "sns.heatmap(data=cities, \n",
        "            cmap=sns.color_palette(\"Reds\", as_cmap=True)) #Sets a new color palette\n",
        "plt.show()"
      ],
      "metadata": {
        "id": "nXmdUJg8-KyG"
      },
      "execution_count": null,
      "outputs": []
    },
    {
      "cell_type": "markdown",
      "source": [
        "What if we want to automatically cluster cities with similar population trends? Seaborn has a related heatmap function called `clustermap()` that enables hierarchical clustering on rows, columns, or both. "
      ],
      "metadata": {
        "id": "PluJ2zB-_9Em"
      }
    },
    {
      "cell_type": "code",
      "source": [
        "plt.figure(figsize=(14,8))\n",
        "sns.clustermap(data=cities, \n",
        "               col_cluster=True, \n",
        "               row_cluster=False,\n",
        "               cmap=sns.color_palette(\"Reds\", as_cmap=True))\n",
        "plt.show()"
      ],
      "metadata": {
        "id": "oGpu7hFN-sIX"
      },
      "execution_count": null,
      "outputs": []
    }
  ]
}