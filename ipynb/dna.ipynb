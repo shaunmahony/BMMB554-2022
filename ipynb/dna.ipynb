{
  "nbformat": 4,
  "nbformat_minor": 0,
  "metadata": {
    "kernelspec": {
      "display_name": "Python 3",
      "language": "python",
      "name": "python3"
    },
    "language_info": {
      "codemirror_mode": {
        "name": "ipython",
        "version": 3
      },
      "file_extension": ".py",
      "mimetype": "text/x-python",
      "name": "python",
      "nbconvert_exporter": "python",
      "pygments_lexer": "ipython3",
      "version": "3.4.3"
    },
    "colab": {
      "name": "dna.ipynb",
      "provenance": []
    }
  },
  "cells": [
    {
      "cell_type": "markdown",
      "metadata": {
        "id": "ilwEAE8nTQ4c"
      },
      "source": [
        "# Strings in Python\n",
        "\n",
        "--------\n",
        "\n",
        "This notebook is based on materials developed by [Ben Langmead](https://github.com/BenLangmead/ads1-notebooks)."
      ]
    },
    {
      "cell_type": "markdown",
      "metadata": {
        "id": "shbPe4KOYUuV"
      },
      "source": [
        "## A note about functions"
      ]
    },
    {
      "cell_type": "code",
      "metadata": {
        "id": "z7D_MLIpYZWS"
      },
      "source": [
        "# Let's suppose that for some reason you need to multiply by 10 and subtract 2\n",
        "\n",
        "a = 7\n",
        "a*10-2\n",
        "\n"
      ],
      "execution_count": null,
      "outputs": []
    },
    {
      "cell_type": "code",
      "metadata": {
        "id": "FNlIjULwZM-5"
      },
      "source": [
        "def ms(input,multiply_by,subtract):\n",
        "    return(input*multiply_by-subtract)\n",
        "\n",
        "ms(a,10,2)"
      ],
      "execution_count": null,
      "outputs": []
    },
    {
      "cell_type": "markdown",
      "metadata": {
        "id": "eNnSG5O4ZTft"
      },
      "source": [
        "## Practical examples"
      ]
    },
    {
      "cell_type": "code",
      "metadata": {
        "id": "lxf2xdrDYKIG"
      },
      "source": [
        "def longestCommonPrefix(s1, s2):\n",
        "    i = 0\n",
        "    while i < len(s1) and i < len(s2) and s1[i] == s2[i]:\n",
        "        i += 1\n",
        "    return s1[:i]\n",
        "longestCommonPrefix('ACCATTG', 'ACCAAGTC')"
      ],
      "execution_count": null,
      "outputs": []
    },
    {
      "cell_type": "code",
      "metadata": {
        "id": "mfVxovfBYKIK"
      },
      "source": [
        "def match(s1, s2):\n",
        "    if not len(s1) == len(s2):\n",
        "        return False\n",
        "    for i in range(0, len(s1)):\n",
        "        if not s1[i] == s2[i]:\n",
        "            return False\n",
        "    return True\n",
        "match('ACCATTG', 'ACCATTG')"
      ],
      "execution_count": null,
      "outputs": []
    },
    {
      "cell_type": "code",
      "metadata": {
        "id": "-UaYU562YKIK"
      },
      "source": [
        "'ACCATTG' == 'ACCATTG'"
      ],
      "execution_count": null,
      "outputs": []
    },
    {
      "cell_type": "code",
      "metadata": {
        "id": "YZQoo4RyYKIL"
      },
      "source": [
        "complement = {\n",
        "    'A': 'T', \n",
        "    'C': 'G', \n",
        "    'G': 'C', \n",
        "    'T': 'A'}"
      ],
      "execution_count": null,
      "outputs": []
    },
    {
      "cell_type": "code",
      "metadata": {
        "id": "49et5upYYKIL"
      },
      "source": [
        "complement['A']"
      ],
      "execution_count": null,
      "outputs": []
    },
    {
      "cell_type": "code",
      "metadata": {
        "id": "zoW-MWnuYKIL"
      },
      "source": [
        "complement['C']"
      ],
      "execution_count": null,
      "outputs": []
    },
    {
      "cell_type": "code",
      "metadata": {
        "id": "MXcYU9tiYKIL"
      },
      "source": [
        "def reverseComplement(s):\n",
        "    complement = {'A': 'T', 'C': 'G', 'G': 'C', 'T': 'A'}\n",
        "    t = ''\n",
        "    for base in s:\n",
        "        t = complement[base] + t\n",
        "    return t\n",
        "reverseComplement('ACCATTG')"
      ],
      "execution_count": null,
      "outputs": []
    }
  ]
}