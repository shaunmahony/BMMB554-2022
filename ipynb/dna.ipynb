{
  "nbformat": 4,
  "nbformat_minor": 0,
  "metadata": {
    "kernelspec": {
      "display_name": "Python 2",
      "language": "python",
      "name": "python2"
    },
    "language_info": {
      "codemirror_mode": {
        "name": "ipython",
        "version": 2
      },
      "file_extension": ".py",
      "mimetype": "text/x-python",
      "name": "python",
      "nbconvert_exporter": "python",
      "pygments_lexer": "ipython2",
      "version": "2.7.10"
    },
    "colab": {
      "name": "dna.ipynb",
      "provenance": []
    }
  },
  "cells": [
    {
      "cell_type": "markdown",
      "metadata": {
        "id": "ilwEAE8nTQ4c"
      },
      "source": [
        "# Strings in Python\n",
        "\n",
        "--------\n",
        "\n",
        "This notebook is based on materials developed by [Ben Langmead](https://github.com/BenLangmead/ads1-notebooks)."
      ]
    },
    {
      "cell_type": "markdown",
      "metadata": {
        "id": "shbPe4KOYUuV"
      },
      "source": [
        "## A note about functions"
      ]
    },
    {
      "cell_type": "code",
      "metadata": {
        "id": "z7D_MLIpYZWS",
        "outputId": "511639a1-9b56-4e42-dbb0-1054b6736bb7",
        "colab": {
          "base_uri": "https://localhost:8080/"
        }
      },
      "source": [
        "# Let's suppose that for some reason you need to multiply by 10 and subtract 2\n",
        "\n",
        "a = 7\n",
        "a*10-2\n",
        "\n"
      ],
      "execution_count": 4,
      "outputs": [
        {
          "output_type": "execute_result",
          "data": {
            "text/plain": [
              "68"
            ]
          },
          "metadata": {
            "tags": []
          },
          "execution_count": 4
        }
      ]
    },
    {
      "cell_type": "code",
      "metadata": {
        "id": "FNlIjULwZM-5",
        "outputId": "ebc2c89d-3ded-4186-c034-c1fa8a720a80",
        "colab": {
          "base_uri": "https://localhost:8080/"
        }
      },
      "source": [
        "def ms(input,multiple_by,subtract):\n",
        "    return(input*multiple_by-subtract)\n",
        "\n",
        "ms(a,10,2)"
      ],
      "execution_count": 6,
      "outputs": [
        {
          "output_type": "execute_result",
          "data": {
            "text/plain": [
              "68"
            ]
          },
          "metadata": {
            "tags": []
          },
          "execution_count": 6
        }
      ]
    },
    {
      "cell_type": "markdown",
      "metadata": {
        "id": "eNnSG5O4ZTft"
      },
      "source": [
        "## Practical examples"
      ]
    },
    {
      "cell_type": "code",
      "metadata": {
        "id": "lxf2xdrDYKIG",
        "outputId": "42e6ad54-63b1-4f0b-8926-745eaa2d9090",
        "colab": {
          "base_uri": "https://localhost:8080/",
          "height": 35
        }
      },
      "source": [
        "def longestCommonPrefix(s1, s2):\n",
        "    i = 0\n",
        "    while i < len(s1) and i < len(s2) and s1[i] == s2[i]:\n",
        "        i += 1\n",
        "    return s1[:i]\n",
        "longestCommonPrefix('ACCATTG', 'ACCAAGTC')"
      ],
      "execution_count": 1,
      "outputs": [
        {
          "output_type": "execute_result",
          "data": {
            "application/vnd.google.colaboratory.intrinsic+json": {
              "type": "string"
            },
            "text/plain": [
              "'ACCA'"
            ]
          },
          "metadata": {
            "tags": []
          },
          "execution_count": 1
        }
      ]
    },
    {
      "cell_type": "code",
      "metadata": {
        "id": "mfVxovfBYKIK",
        "outputId": "c5e28f5f-6055-4abe-bbb8-58fcc231b5f0"
      },
      "source": [
        "def match(s1, s2):\n",
        "    if not len(s1) == len(s2):\n",
        "        return False\n",
        "    for i in range(0, len(s1)):\n",
        "        if not s1[i] == s2[i]:\n",
        "            return False\n",
        "    return True\n",
        "match('ACCATTG', 'ACCATTG')"
      ],
      "execution_count": null,
      "outputs": [
        {
          "output_type": "execute_result",
          "data": {
            "text/plain": [
              "True"
            ]
          },
          "metadata": {
            "tags": []
          },
          "execution_count": 2
        }
      ]
    },
    {
      "cell_type": "code",
      "metadata": {
        "id": "-UaYU562YKIK",
        "outputId": "28bc2ec1-0f74-4ce9-929d-e8deb275a23a"
      },
      "source": [
        "'ACCATTG' == 'ACCATTG'"
      ],
      "execution_count": null,
      "outputs": [
        {
          "output_type": "execute_result",
          "data": {
            "text/plain": [
              "True"
            ]
          },
          "metadata": {
            "tags": []
          },
          "execution_count": 3
        }
      ]
    },
    {
      "cell_type": "code",
      "metadata": {
        "id": "YZQoo4RyYKIL"
      },
      "source": [
        "complement = {'A': 'T', 'C': 'G', 'G': 'C', 'T': 'A'}"
      ],
      "execution_count": null,
      "outputs": []
    },
    {
      "cell_type": "code",
      "metadata": {
        "id": "49et5upYYKIL",
        "outputId": "3fef420e-f65a-4928-f10a-977a83019a43"
      },
      "source": [
        "complement['A']"
      ],
      "execution_count": null,
      "outputs": [
        {
          "output_type": "execute_result",
          "data": {
            "text/plain": [
              "'T'"
            ]
          },
          "metadata": {
            "tags": []
          },
          "execution_count": 5
        }
      ]
    },
    {
      "cell_type": "code",
      "metadata": {
        "id": "zoW-MWnuYKIL",
        "outputId": "3961c0a3-4981-4f4e-a32c-7bbd18138809"
      },
      "source": [
        "complement['C']"
      ],
      "execution_count": null,
      "outputs": [
        {
          "output_type": "execute_result",
          "data": {
            "text/plain": [
              "'G'"
            ]
          },
          "metadata": {
            "tags": []
          },
          "execution_count": 6
        }
      ]
    },
    {
      "cell_type": "code",
      "metadata": {
        "id": "MXcYU9tiYKIL",
        "outputId": "34de44d8-aca5-42ca-a8bb-7d8dc172d11a"
      },
      "source": [
        "def reverseComplement(s):\n",
        "    complement = {'A': 'T', 'C': 'G', 'G': 'C', 'T': 'A'}\n",
        "    t = ''\n",
        "    for base in s:\n",
        "        t = complement[base] + t\n",
        "    return t\n",
        "reverseComplement('ACCATTG')"
      ],
      "execution_count": null,
      "outputs": [
        {
          "output_type": "execute_result",
          "data": {
            "text/plain": [
              "'CAATGGT'"
            ]
          },
          "metadata": {
            "tags": []
          },
          "execution_count": 7
        }
      ]
    }
  ]
}