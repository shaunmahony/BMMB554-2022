{
  "nbformat": 4,
  "nbformat_minor": 0,
  "metadata": {
    "colab": {
      "name": "DeBruijnGraph",
      "provenance": [],
      "authorship_tag": "ABX9TyM/FhNI01Yg/W63QyuMHx19"
    },
    "kernelspec": {
      "name": "python3",
      "display_name": "Python 3"
    },
    "language_info": {
      "name": "python"
    }
  },
  "cells": [
    {
      "cell_type": "markdown",
      "source": [
        "## De Bruijn Graphs\n",
        "\n",
        "(*inspired by Ben Langmead*)\n",
        "\n",
        "In this notebook, we will make and visualize De Bruijn graphs constructed from genome sequences and from a set of length k reads. "
      ],
      "metadata": {
        "id": "i1pzmu2CWHWv"
      }
    },
    {
      "cell_type": "markdown",
      "source": [
        "First up, let's define a function that makes a set of k-1-mer nodes and edges from a genome string. "
      ],
      "metadata": {
        "id": "A5lnBFf3WsJv"
      }
    },
    {
      "cell_type": "code",
      "execution_count": 2,
      "metadata": {
        "id": "uhLpXZwvIbR-"
      },
      "outputs": [],
      "source": [
        "def de_bruijn_ize(st, k):\n",
        "    \"\"\" Return a list holding, for each k-mer, its left\n",
        "        k-1-mer and its right k-1-mer in a pair \"\"\"\n",
        "    edges = []\n",
        "    nodes = set()\n",
        "    for i in range(len(st) - k + 1):\n",
        "        edges.append((st[i:i+k-1], st[i+1:i+k]))\n",
        "        nodes.add(st[i:i+k-1])\n",
        "        nodes.add(st[i+1:i+k])\n",
        "    return nodes, edges\n",
        "\n"
      ]
    },
    {
      "cell_type": "markdown",
      "source": [
        "Call this function to define the De Bruijn graph for a given \"genome\" sequence and for a given k-mer length k. "
      ],
      "metadata": {
        "id": "NYRscu3FW3D4"
      }
    },
    {
      "cell_type": "code",
      "source": [
        "nodes, edges = de_bruijn_ize(\"ATGGCGTGCAATG\", 4)\n"
      ],
      "metadata": {
        "id": "OvY44jbgIgSf"
      },
      "execution_count": 19,
      "outputs": []
    },
    {
      "cell_type": "code",
      "source": [
        "nodes"
      ],
      "metadata": {
        "colab": {
          "base_uri": "https://localhost:8080/"
        },
        "id": "fZfs89UKIn77",
        "outputId": "a3dd8943-45e2-43c0-ff7e-1f1f51eef33d"
      },
      "execution_count": 20,
      "outputs": [
        {
          "output_type": "execute_result",
          "data": {
            "text/plain": [
              "{'AAT', 'ATG', 'CAA', 'CGT', 'GCA', 'GCG', 'GGC', 'GTG', 'TGC', 'TGG'}"
            ]
          },
          "metadata": {},
          "execution_count": 20
        }
      ]
    },
    {
      "cell_type": "code",
      "source": [
        "edges"
      ],
      "metadata": {
        "colab": {
          "base_uri": "https://localhost:8080/"
        },
        "id": "i0LiLbQlIpjU",
        "outputId": "9c27c75b-0c0e-40f1-9c07-a272bffd2e7b"
      },
      "execution_count": 21,
      "outputs": [
        {
          "output_type": "execute_result",
          "data": {
            "text/plain": [
              "[('ATG', 'TGG'),\n",
              " ('TGG', 'GGC'),\n",
              " ('GGC', 'GCG'),\n",
              " ('GCG', 'CGT'),\n",
              " ('CGT', 'GTG'),\n",
              " ('GTG', 'TGC'),\n",
              " ('TGC', 'GCA'),\n",
              " ('GCA', 'CAA'),\n",
              " ('CAA', 'AAT'),\n",
              " ('AAT', 'ATG')]"
            ]
          },
          "metadata": {},
          "execution_count": 21
        }
      ]
    },
    {
      "cell_type": "markdown",
      "source": [
        "Let's visualize the graph with the graphviz library. Colab displays a graphviz object as a formatted graph. "
      ],
      "metadata": {
        "id": "sTHxvR3wXBal"
      }
    },
    {
      "cell_type": "code",
      "source": [
        "import graphviz"
      ],
      "metadata": {
        "id": "q61yGVxHNnTT"
      },
      "execution_count": 8,
      "outputs": []
    },
    {
      "cell_type": "code",
      "source": [
        "def visualize_de_bruijn(nodes, edges):\n",
        "    \"\"\" Visualize a directed multigraph using graphviz \"\"\"\n",
        "\n",
        "    g = graphviz.Digraph(comment='DeBruijn graph')\n",
        "\n",
        "    for n in nodes:\n",
        "        g.node(n, n)\n",
        "    for src, dst in edges:\n",
        "        g.edge(src, dst)\n",
        "    return g"
      ],
      "metadata": {
        "id": "6Wba8Yg5NpYK"
      },
      "execution_count": 9,
      "outputs": []
    },
    {
      "cell_type": "code",
      "source": [
        "visualize_de_bruijn(nodes, edges)"
      ],
      "metadata": {
        "colab": {
          "base_uri": "https://localhost:8080/",
          "height": 943
        },
        "id": "wzBwdwiFOXFS",
        "outputId": "168e4203-5e78-493c-8ec6-c5467b9d3273"
      },
      "execution_count": 22,
      "outputs": [
        {
          "output_type": "execute_result",
          "data": {
            "text/plain": [
              "<graphviz.dot.Digraph at 0x7f80dc1c1410>"
            ],
            "image/svg+xml": "<?xml version=\"1.0\" encoding=\"UTF-8\" standalone=\"no\"?>\n<!DOCTYPE svg PUBLIC \"-//W3C//DTD SVG 1.1//EN\"\n \"http://www.w3.org/Graphics/SVG/1.1/DTD/svg11.dtd\">\n<!-- Generated by graphviz version 2.40.1 (20161225.0304)\n -->\n<!-- Title: %3 Pages: 1 -->\n<svg width=\"99pt\" height=\"692pt\"\n viewBox=\"0.00 0.00 99.09 692.00\" xmlns=\"http://www.w3.org/2000/svg\" xmlns:xlink=\"http://www.w3.org/1999/xlink\">\n<g id=\"graph0\" class=\"graph\" transform=\"scale(1 1) rotate(0) translate(4 688)\">\n<title>%3</title>\n<polygon fill=\"#ffffff\" stroke=\"transparent\" points=\"-4,4 -4,-688 95.0946,-688 95.0946,4 -4,4\"/>\n<!-- GGC -->\n<g id=\"node1\" class=\"node\">\n<title>GGC</title>\n<ellipse fill=\"none\" stroke=\"#000000\" cx=\"59.5473\" cy=\"-666\" rx=\"30.5947\" ry=\"18\"/>\n<text text-anchor=\"middle\" x=\"59.5473\" y=\"-662.3\" font-family=\"Times,serif\" font-size=\"14.00\" fill=\"#000000\">GGC</text>\n</g>\n<!-- GCG -->\n<g id=\"node3\" class=\"node\">\n<title>GCG</title>\n<ellipse fill=\"none\" stroke=\"#000000\" cx=\"30.5473\" cy=\"-594\" rx=\"30.5947\" ry=\"18\"/>\n<text text-anchor=\"middle\" x=\"30.5473\" y=\"-590.3\" font-family=\"Times,serif\" font-size=\"14.00\" fill=\"#000000\">GCG</text>\n</g>\n<!-- GGC&#45;&gt;GCG -->\n<g id=\"edge3\" class=\"edge\">\n<title>GGC&#45;&gt;GCG</title>\n<path fill=\"none\" stroke=\"#000000\" d=\"M52.3787,-648.2022C49.0776,-640.0064 45.0885,-630.1024 41.4281,-621.0145\"/>\n<polygon fill=\"#000000\" stroke=\"#000000\" points=\"44.6161,-619.5612 37.6334,-611.593 38.123,-622.1766 44.6161,-619.5612\"/>\n</g>\n<!-- ATG -->\n<g id=\"node2\" class=\"node\">\n<title>ATG</title>\n<ellipse fill=\"none\" stroke=\"#000000\" cx=\"32.5473\" cy=\"-90\" rx=\"29.4969\" ry=\"18\"/>\n<text text-anchor=\"middle\" x=\"32.5473\" y=\"-86.3\" font-family=\"Times,serif\" font-size=\"14.00\" fill=\"#000000\">ATG</text>\n</g>\n<!-- TGG -->\n<g id=\"node6\" class=\"node\">\n<title>TGG</title>\n<ellipse fill=\"none\" stroke=\"#000000\" cx=\"60.5473\" cy=\"-18\" rx=\"30.5947\" ry=\"18\"/>\n<text text-anchor=\"middle\" x=\"60.5473\" y=\"-14.3\" font-family=\"Times,serif\" font-size=\"14.00\" fill=\"#000000\">TGG</text>\n</g>\n<!-- ATG&#45;&gt;TGG -->\n<g id=\"edge1\" class=\"edge\">\n<title>ATG&#45;&gt;TGG</title>\n<path fill=\"none\" stroke=\"#000000\" d=\"M39.4686,-72.2022C42.6559,-64.0064 46.5075,-54.1024 50.0416,-45.0145\"/>\n<polygon fill=\"#000000\" stroke=\"#000000\" points=\"53.343,-46.1817 53.7056,-35.593 46.819,-43.6445 53.343,-46.1817\"/>\n</g>\n<!-- CGT -->\n<g id=\"node10\" class=\"node\">\n<title>CGT</title>\n<ellipse fill=\"none\" stroke=\"#000000\" cx=\"30.5473\" cy=\"-522\" rx=\"29.795\" ry=\"18\"/>\n<text text-anchor=\"middle\" x=\"30.5473\" y=\"-518.3\" font-family=\"Times,serif\" font-size=\"14.00\" fill=\"#000000\">CGT</text>\n</g>\n<!-- GCG&#45;&gt;CGT -->\n<g id=\"edge4\" class=\"edge\">\n<title>GCG&#45;&gt;CGT</title>\n<path fill=\"none\" stroke=\"#000000\" d=\"M30.5473,-575.8314C30.5473,-568.131 30.5473,-558.9743 30.5473,-550.4166\"/>\n<polygon fill=\"#000000\" stroke=\"#000000\" points=\"34.0474,-550.4132 30.5473,-540.4133 27.0474,-550.4133 34.0474,-550.4132\"/>\n</g>\n<!-- GTG -->\n<g id=\"node4\" class=\"node\">\n<title>GTG</title>\n<ellipse fill=\"none\" stroke=\"#000000\" cx=\"30.5473\" cy=\"-450\" rx=\"30.5947\" ry=\"18\"/>\n<text text-anchor=\"middle\" x=\"30.5473\" y=\"-446.3\" font-family=\"Times,serif\" font-size=\"14.00\" fill=\"#000000\">GTG</text>\n</g>\n<!-- TGC -->\n<g id=\"node9\" class=\"node\">\n<title>TGC</title>\n<ellipse fill=\"none\" stroke=\"#000000\" cx=\"30.5473\" cy=\"-378\" rx=\"29.795\" ry=\"18\"/>\n<text text-anchor=\"middle\" x=\"30.5473\" y=\"-374.3\" font-family=\"Times,serif\" font-size=\"14.00\" fill=\"#000000\">TGC</text>\n</g>\n<!-- GTG&#45;&gt;TGC -->\n<g id=\"edge6\" class=\"edge\">\n<title>GTG&#45;&gt;TGC</title>\n<path fill=\"none\" stroke=\"#000000\" d=\"M30.5473,-431.8314C30.5473,-424.131 30.5473,-414.9743 30.5473,-406.4166\"/>\n<polygon fill=\"#000000\" stroke=\"#000000\" points=\"34.0474,-406.4132 30.5473,-396.4133 27.0474,-406.4133 34.0474,-406.4132\"/>\n</g>\n<!-- AAT -->\n<g id=\"node5\" class=\"node\">\n<title>AAT</title>\n<ellipse fill=\"none\" stroke=\"#000000\" cx=\"31.5473\" cy=\"-162\" rx=\"29.4969\" ry=\"18\"/>\n<text text-anchor=\"middle\" x=\"31.5473\" y=\"-158.3\" font-family=\"Times,serif\" font-size=\"14.00\" fill=\"#000000\">AAT</text>\n</g>\n<!-- AAT&#45;&gt;ATG -->\n<g id=\"edge10\" class=\"edge\">\n<title>AAT&#45;&gt;ATG</title>\n<path fill=\"none\" stroke=\"#000000\" d=\"M31.7996,-143.8314C31.9066,-136.131 32.0338,-126.9743 32.1526,-118.4166\"/>\n<polygon fill=\"#000000\" stroke=\"#000000\" points=\"35.6522,-118.4609 32.2915,-108.4133 28.6529,-118.3637 35.6522,-118.4609\"/>\n</g>\n<!-- TGG&#45;&gt;GGC -->\n<g id=\"edge2\" class=\"edge\">\n<title>TGG&#45;&gt;GGC</title>\n<path fill=\"none\" stroke=\"#000000\" d=\"M66.5561,-35.9514C75.0504,-62.9694 89.5473,-115.8415 89.5473,-162 89.5473,-522 89.5473,-522 89.5473,-522 89.5473,-563.1661 77.6516,-609.5867 68.8417,-638.3211\"/>\n<polygon fill=\"#000000\" stroke=\"#000000\" points=\"65.4386,-637.4749 65.7633,-648.0648 72.1134,-639.5838 65.4386,-637.4749\"/>\n</g>\n<!-- GCA -->\n<g id=\"node7\" class=\"node\">\n<title>GCA</title>\n<ellipse fill=\"none\" stroke=\"#000000\" cx=\"30.5473\" cy=\"-306\" rx=\"30.5947\" ry=\"18\"/>\n<text text-anchor=\"middle\" x=\"30.5473\" y=\"-302.3\" font-family=\"Times,serif\" font-size=\"14.00\" fill=\"#000000\">GCA</text>\n</g>\n<!-- CAA -->\n<g id=\"node8\" class=\"node\">\n<title>CAA</title>\n<ellipse fill=\"none\" stroke=\"#000000\" cx=\"30.5473\" cy=\"-234\" rx=\"30.5947\" ry=\"18\"/>\n<text text-anchor=\"middle\" x=\"30.5473\" y=\"-230.3\" font-family=\"Times,serif\" font-size=\"14.00\" fill=\"#000000\">CAA</text>\n</g>\n<!-- GCA&#45;&gt;CAA -->\n<g id=\"edge8\" class=\"edge\">\n<title>GCA&#45;&gt;CAA</title>\n<path fill=\"none\" stroke=\"#000000\" d=\"M30.5473,-287.8314C30.5473,-280.131 30.5473,-270.9743 30.5473,-262.4166\"/>\n<polygon fill=\"#000000\" stroke=\"#000000\" points=\"34.0474,-262.4132 30.5473,-252.4133 27.0474,-262.4133 34.0474,-262.4132\"/>\n</g>\n<!-- CAA&#45;&gt;AAT -->\n<g id=\"edge9\" class=\"edge\">\n<title>CAA&#45;&gt;AAT</title>\n<path fill=\"none\" stroke=\"#000000\" d=\"M30.7996,-215.8314C30.9066,-208.131 31.0338,-198.9743 31.1526,-190.4166\"/>\n<polygon fill=\"#000000\" stroke=\"#000000\" points=\"34.6522,-190.4609 31.2915,-180.4133 27.6529,-190.3637 34.6522,-190.4609\"/>\n</g>\n<!-- TGC&#45;&gt;GCA -->\n<g id=\"edge7\" class=\"edge\">\n<title>TGC&#45;&gt;GCA</title>\n<path fill=\"none\" stroke=\"#000000\" d=\"M30.5473,-359.8314C30.5473,-352.131 30.5473,-342.9743 30.5473,-334.4166\"/>\n<polygon fill=\"#000000\" stroke=\"#000000\" points=\"34.0474,-334.4132 30.5473,-324.4133 27.0474,-334.4133 34.0474,-334.4132\"/>\n</g>\n<!-- CGT&#45;&gt;GTG -->\n<g id=\"edge5\" class=\"edge\">\n<title>CGT&#45;&gt;GTG</title>\n<path fill=\"none\" stroke=\"#000000\" d=\"M30.5473,-503.8314C30.5473,-496.131 30.5473,-486.9743 30.5473,-478.4166\"/>\n<polygon fill=\"#000000\" stroke=\"#000000\" points=\"34.0474,-478.4132 30.5473,-468.4133 27.0474,-478.4133 34.0474,-478.4132\"/>\n</g>\n</g>\n</svg>\n"
          },
          "metadata": {},
          "execution_count": 22
        }
      ]
    },
    {
      "cell_type": "markdown",
      "source": [
        "Okay, next up, let's define a De Bruijn graph from a set of length k reads. "
      ],
      "metadata": {
        "id": "XYRuAoz3XPb2"
      }
    },
    {
      "cell_type": "code",
      "source": [
        "reads = [\"ATGG\",\n",
        "\"TGGC\",\n",
        "\"GGCG\",\n",
        "\"GCGT\",\n",
        "\"CGTG\",\n",
        "\"GTGC\",\n",
        "\"TGCA\",\n",
        "\"GCAA\",\n",
        "\"CAAT\",\n",
        "\"AATG\"]\n"
      ],
      "metadata": {
        "id": "CIs59thzQg69"
      },
      "execution_count": 26,
      "outputs": []
    },
    {
      "cell_type": "markdown",
      "source": [
        "We will define a similar De Bruijn graph construction function, this time taking a list of reads. "
      ],
      "metadata": {
        "id": "ys2KYVKhXW0_"
      }
    },
    {
      "cell_type": "code",
      "source": [
        "def de_bruijn_ize_reads(reads, k):\n",
        "    \"\"\" Return a list holding, for each k-length read, its left\n",
        "        k-1-mer and its right k-1-mer in a pair \"\"\"\n",
        "    edges = []\n",
        "    nodes = set()\n",
        "    for read in reads:\n",
        "        edges.append((read[:k-1], read[1:k]))\n",
        "        nodes.add(read[:k-1])\n",
        "        nodes.add(read[1:k])\n",
        "    return nodes, edges"
      ],
      "metadata": {
        "id": "O3aXYpLzQWgs"
      },
      "execution_count": 27,
      "outputs": []
    },
    {
      "cell_type": "code",
      "source": [
        "nodes2, edges2 = de_bruijn_ize_reads(reads, 4)\n"
      ],
      "metadata": {
        "id": "wgLarwmiSA8W"
      },
      "execution_count": 38,
      "outputs": []
    },
    {
      "cell_type": "code",
      "source": [
        "nodes2"
      ],
      "metadata": {
        "colab": {
          "base_uri": "https://localhost:8080/"
        },
        "id": "PkkQNxT2SCHu",
        "outputId": "e6bf16eb-8de1-420e-b3a4-e701ba2b00d4"
      },
      "execution_count": 39,
      "outputs": [
        {
          "output_type": "execute_result",
          "data": {
            "text/plain": [
              "{'AAT', 'ATG', 'CAA', 'CGT', 'GCA', 'GCG', 'GGC', 'GTG', 'TGC', 'TGG'}"
            ]
          },
          "metadata": {},
          "execution_count": 39
        }
      ]
    },
    {
      "cell_type": "code",
      "source": [
        "edges2"
      ],
      "metadata": {
        "colab": {
          "base_uri": "https://localhost:8080/"
        },
        "id": "5WVBs7twSEFw",
        "outputId": "c9a1f98a-4a0c-4de4-eef8-a415a61cb829"
      },
      "execution_count": 40,
      "outputs": [
        {
          "output_type": "execute_result",
          "data": {
            "text/plain": [
              "[('ATG', 'TGG'),\n",
              " ('TGG', 'GGC'),\n",
              " ('GGC', 'GCG'),\n",
              " ('GCG', 'CGT'),\n",
              " ('CGT', 'GTG'),\n",
              " ('GTG', 'TGC'),\n",
              " ('TGC', 'GCA'),\n",
              " ('GCA', 'CAA'),\n",
              " ('CAA', 'AAT'),\n",
              " ('AAT', 'ATG')]"
            ]
          },
          "metadata": {},
          "execution_count": 40
        }
      ]
    },
    {
      "cell_type": "code",
      "source": [
        "visualize_de_bruijn(nodes2, edges2)"
      ],
      "metadata": {
        "colab": {
          "base_uri": "https://localhost:8080/",
          "height": 943
        },
        "id": "L1bqkWjISWco",
        "outputId": "2af60c7e-48d1-4f2b-b978-15896a1d7909"
      },
      "execution_count": 42,
      "outputs": [
        {
          "output_type": "execute_result",
          "data": {
            "text/plain": [
              "<graphviz.dot.Digraph at 0x7f5aac73eb10>"
            ],
            "image/svg+xml": "<?xml version=\"1.0\" encoding=\"UTF-8\" standalone=\"no\"?>\n<!DOCTYPE svg PUBLIC \"-//W3C//DTD SVG 1.1//EN\"\n \"http://www.w3.org/Graphics/SVG/1.1/DTD/svg11.dtd\">\n<!-- Generated by graphviz version 2.40.1 (20161225.0304)\n -->\n<!-- Title: %3 Pages: 1 -->\n<svg width=\"99pt\" height=\"692pt\"\n viewBox=\"0.00 0.00 99.09 692.00\" xmlns=\"http://www.w3.org/2000/svg\" xmlns:xlink=\"http://www.w3.org/1999/xlink\">\n<g id=\"graph0\" class=\"graph\" transform=\"scale(1 1) rotate(0) translate(4 688)\">\n<title>%3</title>\n<polygon fill=\"#ffffff\" stroke=\"transparent\" points=\"-4,4 -4,-688 95.0946,-688 95.0946,4 -4,4\"/>\n<!-- GCG -->\n<g id=\"node1\" class=\"node\">\n<title>GCG</title>\n<ellipse fill=\"none\" stroke=\"#000000\" cx=\"60.5473\" cy=\"-666\" rx=\"30.5947\" ry=\"18\"/>\n<text text-anchor=\"middle\" x=\"60.5473\" y=\"-662.3\" font-family=\"Times,serif\" font-size=\"14.00\" fill=\"#000000\">GCG</text>\n</g>\n<!-- CGT -->\n<g id=\"node8\" class=\"node\">\n<title>CGT</title>\n<ellipse fill=\"none\" stroke=\"#000000\" cx=\"31.5473\" cy=\"-594\" rx=\"29.795\" ry=\"18\"/>\n<text text-anchor=\"middle\" x=\"31.5473\" y=\"-590.3\" font-family=\"Times,serif\" font-size=\"14.00\" fill=\"#000000\">CGT</text>\n</g>\n<!-- GCG&#45;&gt;CGT -->\n<g id=\"edge4\" class=\"edge\">\n<title>GCG&#45;&gt;CGT</title>\n<path fill=\"none\" stroke=\"#000000\" d=\"M53.3787,-648.2022C50.0776,-640.0064 46.0885,-630.1024 42.4281,-621.0145\"/>\n<polygon fill=\"#000000\" stroke=\"#000000\" points=\"45.6161,-619.5612 38.6334,-611.593 39.123,-622.1766 45.6161,-619.5612\"/>\n</g>\n<!-- GCA -->\n<g id=\"node2\" class=\"node\">\n<title>GCA</title>\n<ellipse fill=\"none\" stroke=\"#000000\" cx=\"30.5473\" cy=\"-378\" rx=\"30.5947\" ry=\"18\"/>\n<text text-anchor=\"middle\" x=\"30.5473\" y=\"-374.3\" font-family=\"Times,serif\" font-size=\"14.00\" fill=\"#000000\">GCA</text>\n</g>\n<!-- CAA -->\n<g id=\"node6\" class=\"node\">\n<title>CAA</title>\n<ellipse fill=\"none\" stroke=\"#000000\" cx=\"30.5473\" cy=\"-306\" rx=\"30.5947\" ry=\"18\"/>\n<text text-anchor=\"middle\" x=\"30.5473\" y=\"-302.3\" font-family=\"Times,serif\" font-size=\"14.00\" fill=\"#000000\">CAA</text>\n</g>\n<!-- GCA&#45;&gt;CAA -->\n<g id=\"edge8\" class=\"edge\">\n<title>GCA&#45;&gt;CAA</title>\n<path fill=\"none\" stroke=\"#000000\" d=\"M30.5473,-359.8314C30.5473,-352.131 30.5473,-342.9743 30.5473,-334.4166\"/>\n<polygon fill=\"#000000\" stroke=\"#000000\" points=\"34.0474,-334.4132 30.5473,-324.4133 27.0474,-334.4133 34.0474,-334.4132\"/>\n</g>\n<!-- ATG -->\n<g id=\"node3\" class=\"node\">\n<title>ATG</title>\n<ellipse fill=\"none\" stroke=\"#000000\" cx=\"30.5473\" cy=\"-162\" rx=\"29.4969\" ry=\"18\"/>\n<text text-anchor=\"middle\" x=\"30.5473\" y=\"-158.3\" font-family=\"Times,serif\" font-size=\"14.00\" fill=\"#000000\">ATG</text>\n</g>\n<!-- TGG -->\n<g id=\"node4\" class=\"node\">\n<title>TGG</title>\n<ellipse fill=\"none\" stroke=\"#000000\" cx=\"30.5473\" cy=\"-90\" rx=\"30.5947\" ry=\"18\"/>\n<text text-anchor=\"middle\" x=\"30.5473\" y=\"-86.3\" font-family=\"Times,serif\" font-size=\"14.00\" fill=\"#000000\">TGG</text>\n</g>\n<!-- ATG&#45;&gt;TGG -->\n<g id=\"edge1\" class=\"edge\">\n<title>ATG&#45;&gt;TGG</title>\n<path fill=\"none\" stroke=\"#000000\" d=\"M30.5473,-143.8314C30.5473,-136.131 30.5473,-126.9743 30.5473,-118.4166\"/>\n<polygon fill=\"#000000\" stroke=\"#000000\" points=\"34.0474,-118.4132 30.5473,-108.4133 27.0474,-118.4133 34.0474,-118.4132\"/>\n</g>\n<!-- GGC -->\n<g id=\"node5\" class=\"node\">\n<title>GGC</title>\n<ellipse fill=\"none\" stroke=\"#000000\" cx=\"59.5473\" cy=\"-18\" rx=\"30.5947\" ry=\"18\"/>\n<text text-anchor=\"middle\" x=\"59.5473\" y=\"-14.3\" font-family=\"Times,serif\" font-size=\"14.00\" fill=\"#000000\">GGC</text>\n</g>\n<!-- TGG&#45;&gt;GGC -->\n<g id=\"edge2\" class=\"edge\">\n<title>TGG&#45;&gt;GGC</title>\n<path fill=\"none\" stroke=\"#000000\" d=\"M37.7158,-72.2022C41.0169,-64.0064 45.0061,-54.1024 48.6664,-45.0145\"/>\n<polygon fill=\"#000000\" stroke=\"#000000\" points=\"51.9716,-46.1766 52.4612,-35.593 45.4785,-43.5612 51.9716,-46.1766\"/>\n</g>\n<!-- GGC&#45;&gt;GCG -->\n<g id=\"edge3\" class=\"edge\">\n<title>GGC&#45;&gt;GCG</title>\n<path fill=\"none\" stroke=\"#000000\" d=\"M65.7633,-35.9352C74.5505,-62.9324 89.5473,-115.7784 89.5473,-162 89.5473,-522 89.5473,-522 89.5473,-522 89.5473,-563.1099 78.0482,-609.5451 69.5319,-638.298\"/>\n<polygon fill=\"#000000\" stroke=\"#000000\" points=\"66.1276,-637.4624 66.5561,-648.0486 72.8228,-639.5057 66.1276,-637.4624\"/>\n</g>\n<!-- AAT -->\n<g id=\"node10\" class=\"node\">\n<title>AAT</title>\n<ellipse fill=\"none\" stroke=\"#000000\" cx=\"30.5473\" cy=\"-234\" rx=\"29.4969\" ry=\"18\"/>\n<text text-anchor=\"middle\" x=\"30.5473\" y=\"-230.3\" font-family=\"Times,serif\" font-size=\"14.00\" fill=\"#000000\">AAT</text>\n</g>\n<!-- CAA&#45;&gt;AAT -->\n<g id=\"edge9\" class=\"edge\">\n<title>CAA&#45;&gt;AAT</title>\n<path fill=\"none\" stroke=\"#000000\" d=\"M30.5473,-287.8314C30.5473,-280.131 30.5473,-270.9743 30.5473,-262.4166\"/>\n<polygon fill=\"#000000\" stroke=\"#000000\" points=\"34.0474,-262.4132 30.5473,-252.4133 27.0474,-262.4133 34.0474,-262.4132\"/>\n</g>\n<!-- TGC -->\n<g id=\"node7\" class=\"node\">\n<title>TGC</title>\n<ellipse fill=\"none\" stroke=\"#000000\" cx=\"30.5473\" cy=\"-450\" rx=\"29.795\" ry=\"18\"/>\n<text text-anchor=\"middle\" x=\"30.5473\" y=\"-446.3\" font-family=\"Times,serif\" font-size=\"14.00\" fill=\"#000000\">TGC</text>\n</g>\n<!-- TGC&#45;&gt;GCA -->\n<g id=\"edge7\" class=\"edge\">\n<title>TGC&#45;&gt;GCA</title>\n<path fill=\"none\" stroke=\"#000000\" d=\"M30.5473,-431.8314C30.5473,-424.131 30.5473,-414.9743 30.5473,-406.4166\"/>\n<polygon fill=\"#000000\" stroke=\"#000000\" points=\"34.0474,-406.4132 30.5473,-396.4133 27.0474,-406.4133 34.0474,-406.4132\"/>\n</g>\n<!-- GTG -->\n<g id=\"node9\" class=\"node\">\n<title>GTG</title>\n<ellipse fill=\"none\" stroke=\"#000000\" cx=\"30.5473\" cy=\"-522\" rx=\"30.5947\" ry=\"18\"/>\n<text text-anchor=\"middle\" x=\"30.5473\" y=\"-518.3\" font-family=\"Times,serif\" font-size=\"14.00\" fill=\"#000000\">GTG</text>\n</g>\n<!-- CGT&#45;&gt;GTG -->\n<g id=\"edge5\" class=\"edge\">\n<title>CGT&#45;&gt;GTG</title>\n<path fill=\"none\" stroke=\"#000000\" d=\"M31.2949,-575.8314C31.188,-568.131 31.0608,-558.9743 30.942,-550.4166\"/>\n<polygon fill=\"#000000\" stroke=\"#000000\" points=\"34.4417,-550.3637 30.803,-540.4133 27.4423,-550.4609 34.4417,-550.3637\"/>\n</g>\n<!-- GTG&#45;&gt;TGC -->\n<g id=\"edge6\" class=\"edge\">\n<title>GTG&#45;&gt;TGC</title>\n<path fill=\"none\" stroke=\"#000000\" d=\"M30.5473,-503.8314C30.5473,-496.131 30.5473,-486.9743 30.5473,-478.4166\"/>\n<polygon fill=\"#000000\" stroke=\"#000000\" points=\"34.0474,-478.4132 30.5473,-468.4133 27.0474,-478.4133 34.0474,-478.4132\"/>\n</g>\n<!-- AAT&#45;&gt;ATG -->\n<g id=\"edge10\" class=\"edge\">\n<title>AAT&#45;&gt;ATG</title>\n<path fill=\"none\" stroke=\"#000000\" d=\"M30.5473,-215.8314C30.5473,-208.131 30.5473,-198.9743 30.5473,-190.4166\"/>\n<polygon fill=\"#000000\" stroke=\"#000000\" points=\"34.0474,-190.4132 30.5473,-180.4133 27.0474,-190.4133 34.0474,-190.4132\"/>\n</g>\n</g>\n</svg>\n"
          },
          "metadata": {},
          "execution_count": 42
        }
      ]
    }
  ]
}