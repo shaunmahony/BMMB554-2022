{
  "nbformat": 4,
  "nbformat_minor": 0,
  "metadata": {
    "colab": {
      "name": "DeBruijnGraph",
      "provenance": [],
      "authorship_tag": "ABX9TyM/FhNI01Yg/W63QyuMHx19"
    },
    "kernelspec": {
      "name": "python3",
      "display_name": "Python 3"
    },
    "language_info": {
      "name": "python"
    }
  },
  "cells": [
    {
      "cell_type": "markdown",
      "source": [
        "## De Bruijn Graphs\n",
        "\n",
        "(*inspired by Ben Langmead*)\n",
        "\n",
        "In this notebook, we will make and visualize De Bruijn graphs constructed from genome sequences and from a set of length k reads. "
      ],
      "metadata": {
        "id": "i1pzmu2CWHWv"
      }
    },
    {
      "cell_type": "markdown",
      "source": [
        "First up, let's define a function that makes a set of k-1-mer nodes and edges from a genome string. "
      ],
      "metadata": {
        "id": "A5lnBFf3WsJv"
      }
    },
    {
      "cell_type": "code",
      "execution_count": null,
      "metadata": {
        "id": "uhLpXZwvIbR-"
      },
      "outputs": [],
      "source": [
        "def de_bruijn_ize(st, k):\n",
        "    \"\"\" Return a list holding, for each k-mer, its left\n",
        "        k-1-mer and its right k-1-mer in a pair \"\"\"\n",
        "    edges = []\n",
        "    nodes = set()\n",
        "    for i in range(len(st) - k + 1):\n",
        "        edges.append((st[i:i+k-1], st[i+1:i+k]))\n",
        "        nodes.add(st[i:i+k-1])\n",
        "        nodes.add(st[i+1:i+k])\n",
        "    return nodes, edges\n",
        "\n"
      ]
    },
    {
      "cell_type": "markdown",
      "source": [
        "Call this function to define the De Bruijn graph for a given \"genome\" sequence and for a given k-mer length k. "
      ],
      "metadata": {
        "id": "NYRscu3FW3D4"
      }
    },
    {
      "cell_type": "code",
      "source": [
        "nodes, edges = de_bruijn_ize(\"ATGGCGTGCAATG\", 4)\n"
      ],
      "metadata": {
        "id": "OvY44jbgIgSf"
      },
      "execution_count": null,
      "outputs": []
    },
    {
      "cell_type": "code",
      "source": [
        "nodes"
      ],
      "metadata": {
        "id": "fZfs89UKIn77"
      },
      "execution_count": null,
      "outputs": []
    },
    {
      "cell_type": "code",
      "source": [
        "edges"
      ],
      "metadata": {
        "id": "i0LiLbQlIpjU"
      },
      "execution_count": null,
      "outputs": []
    },
    {
      "cell_type": "markdown",
      "source": [
        "Let's visualize the graph with the graphviz library. Colab displays a graphviz object as a formatted graph. "
      ],
      "metadata": {
        "id": "sTHxvR3wXBal"
      }
    },
    {
      "cell_type": "code",
      "source": [
        "import graphviz"
      ],
      "metadata": {
        "id": "q61yGVxHNnTT"
      },
      "execution_count": null,
      "outputs": []
    },
    {
      "cell_type": "code",
      "source": [
        "def visualize_de_bruijn(nodes, edges):\n",
        "    \"\"\" Visualize a directed multigraph using graphviz \"\"\"\n",
        "\n",
        "    g = graphviz.Digraph(comment='DeBruijn graph')\n",
        "\n",
        "    for n in nodes:\n",
        "        g.node(n, n)\n",
        "    for src, dst in edges:\n",
        "        g.edge(src, dst)\n",
        "    return g"
      ],
      "metadata": {
        "id": "6Wba8Yg5NpYK"
      },
      "execution_count": null,
      "outputs": []
    },
    {
      "cell_type": "code",
      "source": [
        "visualize_de_bruijn(nodes, edges)"
      ],
      "metadata": {
        "id": "wzBwdwiFOXFS"
      },
      "execution_count": null,
      "outputs": []
    },
    {
      "cell_type": "markdown",
      "source": [
        "Okay, next up, let's define a De Bruijn graph from a set of length k reads. "
      ],
      "metadata": {
        "id": "XYRuAoz3XPb2"
      }
    },
    {
      "cell_type": "code",
      "source": [
        "reads = [\"ATGG\",\n",
        "\"TGGC\",\n",
        "\"GGCG\",\n",
        "\"GCGT\",\n",
        "\"CGTG\",\n",
        "\"GTGC\",\n",
        "\"TGCA\",\n",
        "\"GCAA\",\n",
        "\"CAAT\",\n",
        "\"AATG\"]\n"
      ],
      "metadata": {
        "id": "CIs59thzQg69"
      },
      "execution_count": null,
      "outputs": []
    },
    {
      "cell_type": "markdown",
      "source": [
        "We will define a similar De Bruijn graph construction function, this time taking a list of reads. "
      ],
      "metadata": {
        "id": "ys2KYVKhXW0_"
      }
    },
    {
      "cell_type": "code",
      "source": [
        "def de_bruijn_ize_reads(reads, k):\n",
        "    \"\"\" Return a list holding, for each k-length read, its left\n",
        "        k-1-mer and its right k-1-mer in a pair \"\"\"\n",
        "    edges = []\n",
        "    nodes = set()\n",
        "    for read in reads:\n",
        "        edges.append((read[:k-1], read[1:k]))\n",
        "        nodes.add(read[:k-1])\n",
        "        nodes.add(read[1:k])\n",
        "    return nodes, edges"
      ],
      "metadata": {
        "id": "O3aXYpLzQWgs"
      },
      "execution_count": null,
      "outputs": []
    },
    {
      "cell_type": "code",
      "source": [
        "nodes2, edges2 = de_bruijn_ize_reads(reads, 4)\n"
      ],
      "metadata": {
        "id": "wgLarwmiSA8W"
      },
      "execution_count": null,
      "outputs": []
    },
    {
      "cell_type": "code",
      "source": [
        "nodes2"
      ],
      "metadata": {
        "id": "PkkQNxT2SCHu"
      },
      "execution_count": null,
      "outputs": []
    },
    {
      "cell_type": "code",
      "source": [
        "edges2"
      ],
      "metadata": {
        "id": "5WVBs7twSEFw"
      },
      "execution_count": null,
      "outputs": []
    },
    {
      "cell_type": "code",
      "source": [
        "visualize_de_bruijn(nodes2, edges2)"
      ],
      "metadata": {
        "id": "L1bqkWjISWco"
      },
      "execution_count": null,
      "outputs": []
    }
  ]
}