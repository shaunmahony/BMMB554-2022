{
  "cells": [
    {
      "cell_type": "markdown",
      "metadata": {
        "id": "PAaI2OuwT8GI"
      },
      "source": [
        "# Numpy: Operations with multidimensional data\n",
        "\n",
        "This notebook is based (with some modifications) on a [NumPy tutorial](https://github.com/jrjohansson/scientific-python-lectures/blob/master/Lecture-2-Numpy.ipynb) by J.R. Johansson"
      ]
    },
    {
      "cell_type": "code",
      "execution_count": null,
      "metadata": {
        "id": "vQjkVFN3T4eY"
      },
      "outputs": [],
      "source": [
        "# Import MatPlotlib so we can look at some pretty plots\n",
        "# The reson for doing this will become clear in our MatPlotLib lecture in a couple of weeks\n",
        "%matplotlib inline\n",
        "import matplotlib.pyplot as plt"
      ]
    },
    {
      "cell_type": "markdown",
      "metadata": {
        "id": "XlcKlCdnUqjH"
      },
      "source": [
        "## Introduction\n",
        "\n",
        "-------\n",
        "\n",
        "The numpy package (module) is used in almost all numerical computation using Python. It is a package that provides high-performance vector, matrix and higher-dimensional data structures for Python. It is implemented in C and Fortran so when calculations are vectorized (formulated with vectors and matrices), performance is very good.\n",
        "\n",
        "To use numpy you need to import the module, using for example:"
      ]
    },
    {
      "cell_type": "code",
      "execution_count": null,
      "metadata": {
        "id": "sl3vLf43Ulk6"
      },
      "outputs": [],
      "source": [
        "from numpy import *"
      ]
    },
    {
      "cell_type": "markdown",
      "metadata": {
        "id": "UpGwnCxb5wo6"
      },
      "source": [
        "In the numpy package the terminology used for vectors, matrices and higher-dimensional data sets is array.\n",
        "\n",
        "## Creating numpy arrays\n",
        "\n",
        "-------\n",
        "\n",
        "There are a number of ways to initialize new numpy arrays, for example from\n",
        "\n",
        " - a Python list or tuples\n",
        " - using functions that are dedicated to generating numpy arrays, such as arange, linspace, etc.\n",
        " - reading data from files\n",
        "\n",
        "### From lists\n",
        "For example, to create new vector and matrix arrays from Python lists we can use the `numpy.array` function."
      ]
    },
    {
      "cell_type": "code",
      "execution_count": null,
      "metadata": {
        "id": "3suZc_nyUzKT"
      },
      "outputs": [],
      "source": [
        "# a vector: the argument to the array function is a Python list\n",
        "vector = array([1,2,3,4])\n",
        "\n",
        "vector[1]"
      ]
    },
    {
      "cell_type": "code",
      "execution_count": null,
      "metadata": {
        "id": "eeFilgzg6FQH"
      },
      "outputs": [],
      "source": [
        "# a matrix: the argument to the array function is a nested Python list\n",
        "matrix = array([[1, 2], [3, 4]])\n",
        "\n",
        "matrix[0,0]"
      ]
    },
    {
      "cell_type": "markdown",
      "metadata": {
        "id": "-R3SPBzj6ROt"
      },
      "source": [
        "The `v` and `M` objects are both of the type ndarray that the numpy module provides:"
      ]
    },
    {
      "cell_type": "code",
      "execution_count": null,
      "metadata": {
        "id": "3HHsPFYC6J5t"
      },
      "outputs": [],
      "source": [
        "type(vector), type(matrix)"
      ]
    },
    {
      "cell_type": "markdown",
      "metadata": {
        "id": "TotJfenG6aJq"
      },
      "source": [
        "The difference between the v and M arrays is only their shapes. We can get information about the shape of an array by using the `ndarray.shape` property:"
      ]
    },
    {
      "cell_type": "code",
      "execution_count": null,
      "metadata": {
        "id": "LMKHGwIm6X08"
      },
      "outputs": [],
      "source": [
        "vector.shape"
      ]
    },
    {
      "cell_type": "code",
      "execution_count": null,
      "metadata": {
        "id": "Kth6uJtC6nh5"
      },
      "outputs": [],
      "source": [
        "matrix.shape"
      ]
    },
    {
      "cell_type": "markdown",
      "metadata": {
        "id": "JS_60Flc63t9"
      },
      "source": [
        "The number of elements in the array is available through the `ndarray.size` property:"
      ]
    },
    {
      "cell_type": "code",
      "execution_count": null,
      "metadata": {
        "id": "h5Ahd-L96pDR"
      },
      "outputs": [],
      "source": [
        "matrix.size"
      ]
    },
    {
      "cell_type": "markdown",
      "metadata": {
        "id": "RNMkmet_7GKd"
      },
      "source": [
        "Equivalently, we could use the function `numpy.shape` and `numpy.size`:"
      ]
    },
    {
      "cell_type": "code",
      "execution_count": null,
      "metadata": {
        "id": "6_ppIH137Ep4"
      },
      "outputs": [],
      "source": [
        "shape(matrix)"
      ]
    },
    {
      "cell_type": "code",
      "execution_count": null,
      "metadata": {
        "id": "KFIz-HKp7NNy"
      },
      "outputs": [],
      "source": [
        "size(matrix)"
      ]
    },
    {
      "cell_type": "markdown",
      "metadata": {
        "id": "Uia62YXV7et7"
      },
      "source": [
        "So far the `numpy.ndarray` looks much like a Python list (or nested list). Why not simply use Python lists for computations instead of creating a new array type?\n",
        "\n",
        "There are several reasons:\n",
        "\n",
        " - Python lists are very general. They can contain any kind of object. They are dynamically typed. They do not support mathematical functions such as matrix and dot multiplications, etc. Implementing such functions for Python lists would not be very efficient because of the dynamic typing.\n",
        " - Numpy arrays are **statically typed** and **homogeneous**. The type of the elements is determined when the array is created.\n",
        " - Numpy arrays are memory efficient.\n",
        " - Because of the static typing, fast implementation of mathematical functions such as multiplication and addition of numpy arrays can be implemented in a compiled language (C and Fortran is used).\n",
        "Using the `dtype` (data type) property of an ndarray, we can see what type the data of an array has:"
      ]
    },
    {
      "cell_type": "code",
      "execution_count": null,
      "metadata": {
        "id": "hbyx74kA7Oqn"
      },
      "outputs": [],
      "source": [
        "matrix.dtype"
      ]
    },
    {
      "cell_type": "markdown",
      "metadata": {
        "id": "pU1LnYXS8DTW"
      },
      "source": [
        "We get an error if we try to assign a value of the wrong type to an element in a numpy array:"
      ]
    },
    {
      "cell_type": "code",
      "execution_count": null,
      "metadata": {
        "id": "aqpbJLaL8Bf0"
      },
      "outputs": [],
      "source": [
        "matrix[0,0] = \"hello\""
      ]
    },
    {
      "cell_type": "markdown",
      "metadata": {
        "id": "YB3dlitr8LhH"
      },
      "source": [
        "If we want, we can explicitly define the type of the array data when we create it, using the `dtype` keyword argument:"
      ]
    },
    {
      "cell_type": "code",
      "execution_count": null,
      "metadata": {
        "id": "LwWdvN-E8H8M"
      },
      "outputs": [],
      "source": [
        "matrix = array([[1, 2], [3, 4]], dtype=float)\n",
        "\n",
        "matrix\n",
        "matrix.dtype"
      ]
    },
    {
      "cell_type": "markdown",
      "metadata": {
        "id": "8tv3w6GW8b8o"
      },
      "source": [
        "Common data types that can be used with dtype are: `int`, `float`, `complex`, `bool`, etc.\n",
        "\n",
        "We can also explicitly define the bit size of the data types, for example: `int64`, `int16`, `float128`, `complex128`.\n",
        "\n"
      ]
    },
    {
      "cell_type": "markdown",
      "metadata": {
        "id": "3IXgGaQz82UZ"
      },
      "source": [
        "### Using array-generating functions\n",
        "For larger arrays it is impractical to initialize the data manually, using explicit python lists. Instead we can use one of the many functions in numpy that generate arrays of different forms. Some of the more common are:\n",
        "\n",
        "**`arange`**\n"
      ]
    },
    {
      "cell_type": "code",
      "execution_count": null,
      "metadata": {
        "id": "OXsJtv_L8W8J"
      },
      "outputs": [],
      "source": [
        "# create a range\n",
        "\n",
        "x = arange(0, 10, 1) # arguments: start, stop, step\n",
        "\n",
        "x"
      ]
    },
    {
      "cell_type": "code",
      "execution_count": null,
      "metadata": {
        "id": "U-draCYT9Lxh"
      },
      "outputs": [],
      "source": [
        "x = arange(-1, 1, 0.1)\n",
        "\n",
        "x"
      ]
    },
    {
      "cell_type": "markdown",
      "metadata": {
        "id": "id-dgLar82Sq"
      },
      "source": [
        "**`linspace`** and **`logspace`**"
      ]
    },
    {
      "cell_type": "code",
      "execution_count": null,
      "metadata": {
        "id": "x9eATKhC9Uz1"
      },
      "outputs": [],
      "source": [
        "# using linspace, both end points ARE included\n",
        "linspace(0, 10, 25)"
      ]
    },
    {
      "cell_type": "code",
      "execution_count": null,
      "metadata": {
        "id": "429mHNjV9Wuh"
      },
      "outputs": [],
      "source": [
        "logspace(0, 10, 10, base=e)"
      ]
    },
    {
      "cell_type": "markdown",
      "metadata": {
        "id": "IReqIYz09a_X"
      },
      "source": [
        "**`mgrid`**"
      ]
    },
    {
      "cell_type": "code",
      "execution_count": null,
      "metadata": {
        "id": "_DXsdEod9Y5N"
      },
      "outputs": [],
      "source": [
        "x, y = mgrid[0:5, 0:5]"
      ]
    },
    {
      "cell_type": "code",
      "execution_count": null,
      "metadata": {
        "id": "7tTa7mco9ggU"
      },
      "outputs": [],
      "source": [
        "x"
      ]
    },
    {
      "cell_type": "code",
      "execution_count": null,
      "metadata": {
        "id": "0DK_8YQx9hSP"
      },
      "outputs": [],
      "source": [
        "y"
      ]
    },
    {
      "cell_type": "markdown",
      "metadata": {
        "id": "tvhQ0jPr_Dj8"
      },
      "source": [
        "**random data**"
      ]
    },
    {
      "cell_type": "code",
      "execution_count": null,
      "metadata": {
        "id": "QzRIGenh-lKL"
      },
      "outputs": [],
      "source": [
        "from numpy import random"
      ]
    },
    {
      "cell_type": "code",
      "execution_count": null,
      "metadata": {
        "id": "J6FNot0D_J92"
      },
      "outputs": [],
      "source": [
        "# uniform random numbers in [0,1]\n",
        "random.rand(5,5)"
      ]
    },
    {
      "cell_type": "code",
      "execution_count": null,
      "metadata": {
        "id": "DJAvOD91_LWQ"
      },
      "outputs": [],
      "source": [
        "# standard normal distributed random numbers\n",
        "random.randn(5,5)"
      ]
    },
    {
      "cell_type": "code",
      "execution_count": null,
      "metadata": {
        "id": "bXcuhreV_NE_"
      },
      "outputs": [],
      "source": [
        "import seaborn as sns"
      ]
    },
    {
      "cell_type": "code",
      "execution_count": null,
      "metadata": {
        "id": "LtlFyf1v_tSD"
      },
      "outputs": [],
      "source": [
        "# Let's plot uniform distribution\n",
        "\n",
        "x = random.rand(1000)\n",
        "sns.set_style('whitegrid')\n",
        "sns.histplot(x)"
      ]
    },
    {
      "cell_type": "code",
      "execution_count": null,
      "metadata": {
        "id": "aW17W152_vQR"
      },
      "outputs": [],
      "source": [
        "# Let's plot normal distribution\n",
        "\n",
        "x = random.randn(100000)\n",
        "sns.set_style('whitegrid')\n",
        "sns.histplot(x)"
      ]
    },
    {
      "cell_type": "code",
      "execution_count": null,
      "metadata": {
        "id": "jpovzBerBqwK"
      },
      "outputs": [],
      "source": [
        "# Let's plot poisson distribution\n",
        "\n",
        "x = random.poisson(5, 1000)\n",
        "sns.set_style('whitegrid')\n",
        "sns.histplot(x, discrete=True)"
      ]
    },
    {
      "cell_type": "code",
      "execution_count": null,
      "metadata": {
        "id": "8R8faSgZMjCz"
      },
      "outputs": [],
      "source": [
        "x"
      ]
    },
    {
      "cell_type": "markdown",
      "metadata": {
        "id": "QBGwIMI8C87a"
      },
      "source": [
        "**`diag`**"
      ]
    },
    {
      "cell_type": "code",
      "execution_count": null,
      "metadata": {
        "id": "qDroPOKUCSpm"
      },
      "outputs": [],
      "source": [
        "# a diagonal matrix\n",
        "diag([1,2,3])"
      ]
    },
    {
      "cell_type": "code",
      "execution_count": null,
      "metadata": {
        "id": "vmaw6RZqDAV4"
      },
      "outputs": [],
      "source": [
        "# diagonal with offset from the main diagonal\n",
        "diag([1,2,3], k=1)"
      ]
    },
    {
      "cell_type": "markdown",
      "metadata": {
        "id": "Kz8diw8LDDUp"
      },
      "source": [
        "**zeroes** and **ones**"
      ]
    },
    {
      "cell_type": "code",
      "execution_count": null,
      "metadata": {
        "id": "L9hLnrSKDBwP"
      },
      "outputs": [],
      "source": [
        "zeros((3,3))"
      ]
    },
    {
      "cell_type": "code",
      "execution_count": null,
      "metadata": {
        "id": "fmENy-orDJmc"
      },
      "outputs": [],
      "source": [
        "ones((3,3))"
      ]
    },
    {
      "cell_type": "markdown",
      "metadata": {
        "id": "1c9CplWSDPcu"
      },
      "source": [
        "## File IO"
      ]
    },
    {
      "cell_type": "markdown",
      "metadata": {
        "id": "eq80bLd9DYa2"
      },
      "source": [
        "### Comma-separated values (CSV)\n",
        "A very common file format for data files is comma-separated values (CSV), or related formats such as TSV (tab-separated values). To read data from such files into Numpy arrays we can use the `numpy.genfromtxt` function. For example:"
      ]
    },
    {
      "cell_type": "code",
      "execution_count": null,
      "metadata": {
        "id": "3FKryGU7DK7t"
      },
      "outputs": [],
      "source": [
        "!wget https://raw.githubusercontent.com/jrjohansson/scientific-python-lectures/master/stockholm_td_adj.dat"
      ]
    },
    {
      "cell_type": "markdown",
      "source": [
        "The file we just downloaded contains daily temperatures in Stockholm since 1800. The columns of the file correspond to:\n",
        "[year, month, day, avg_temp, min_temp, max_temp]\n"
      ],
      "metadata": {
        "id": "7HX6JTgd_68Q"
      }
    },
    {
      "cell_type": "code",
      "execution_count": null,
      "metadata": {
        "id": "rw6cj3I_DmBp"
      },
      "outputs": [],
      "source": [
        "!head stockholm_td_adj.dat"
      ]
    },
    {
      "cell_type": "code",
      "execution_count": null,
      "metadata": {
        "id": "4mDe8MipDqpp"
      },
      "outputs": [],
      "source": [
        "data = genfromtxt('stockholm_td_adj.dat')"
      ]
    },
    {
      "cell_type": "code",
      "execution_count": null,
      "metadata": {
        "id": "SVwr4gHIDsSw"
      },
      "outputs": [],
      "source": [
        "data.shape"
      ]
    },
    {
      "cell_type": "markdown",
      "source": [
        "Let's plot the maximum temperatures from every day:"
      ],
      "metadata": {
        "id": "sqjsVwieAU4E"
      }
    },
    {
      "cell_type": "code",
      "execution_count": null,
      "metadata": {
        "id": "FVk3cwwHDvRI"
      },
      "outputs": [],
      "source": [
        "fig, ax = plt.subplots(figsize=(14,4))\n",
        "ax.plot(data[:,0]+data[:,1]/12.0+data[:,2]/365, data[:,5])\n",
        "ax.axis('tight')\n",
        "ax.set_title('tempeatures in Stockholm')\n",
        "ax.set_xlabel('year')\n",
        "ax.set_ylabel('temperature (C)');"
      ]
    },
    {
      "cell_type": "markdown",
      "metadata": {
        "id": "aiOGIgG5D9Np"
      },
      "source": [
        "Using `numpy.savetxt` we can store a Numpy array to a file in CSV format:"
      ]
    },
    {
      "cell_type": "code",
      "execution_count": null,
      "metadata": {
        "id": "CO1jlMKTDw1J"
      },
      "outputs": [],
      "source": [
        "M = random.rand(3,3)\n",
        "\n"
      ]
    },
    {
      "cell_type": "code",
      "execution_count": null,
      "metadata": {
        "id": "mH_0TzRoEBcH"
      },
      "outputs": [],
      "source": [
        "savetxt(\"random-matrix.csv\", M)\n"
      ]
    },
    {
      "cell_type": "code",
      "execution_count": null,
      "metadata": {
        "id": "1rjkRxqhECoZ"
      },
      "outputs": [],
      "source": [
        "!cat random-matrix.csv"
      ]
    },
    {
      "cell_type": "code",
      "execution_count": null,
      "metadata": {
        "id": "4drZZmxkEEFC"
      },
      "outputs": [],
      "source": [
        "savetxt(\"random-matrix.csv\", M, fmt='%.5f') # fmt specifies the format\n",
        "\n"
      ]
    },
    {
      "cell_type": "markdown",
      "metadata": {
        "id": "TngHFJDREI_M"
      },
      "source": [
        "### Numpy's native file format\n",
        "Useful when storing and reading back numpy array data. Use the functions `numpy.save` and `numpy.load`:"
      ]
    },
    {
      "cell_type": "code",
      "execution_count": null,
      "metadata": {
        "id": "zwK9twOyEF5D"
      },
      "outputs": [],
      "source": [
        "save(\"random-matrix.npy\", M)\n",
        "\n",
        "!ls -lh *"
      ]
    },
    {
      "cell_type": "markdown",
      "metadata": {
        "id": "nsLbEF95H09R"
      },
      "source": [
        "## Manipulating arrays\n",
        "--------\n",
        "\n",
        "### Indexing\n",
        "We can index elements in an array using square brackets and indices:"
      ]
    },
    {
      "cell_type": "code",
      "execution_count": null,
      "metadata": {
        "id": "38_h7BfaIMm1"
      },
      "outputs": [],
      "source": [
        "# vector, and has only one dimension, taking one index\n",
        "vector[0]"
      ]
    },
    {
      "cell_type": "code",
      "execution_count": null,
      "metadata": {
        "id": "SQJU3OrvETsM"
      },
      "outputs": [],
      "source": [
        "# matrix is a 2 dimensional array, taking two indices \n",
        "matrix[1,1]"
      ]
    },
    {
      "cell_type": "markdown",
      "metadata": {
        "id": "jmZXudUpIhfi"
      },
      "source": [
        "If we omit an index of a multidimensional array it returns the whole row (or, in general, a `N-1` dimensional array)\n",
        "\n"
      ]
    },
    {
      "cell_type": "code",
      "execution_count": null,
      "metadata": {
        "id": "i8w18WqeIctG"
      },
      "outputs": [],
      "source": [
        "matrix"
      ]
    },
    {
      "cell_type": "code",
      "execution_count": null,
      "metadata": {
        "id": "ZyQqPy9yImHJ"
      },
      "outputs": [],
      "source": [
        "matrix[1]"
      ]
    },
    {
      "cell_type": "markdown",
      "metadata": {
        "id": "HXh3lN0TIuSY"
      },
      "source": [
        "The same thing can be achieved with using `:` instead of an index:\n",
        "\n"
      ]
    },
    {
      "cell_type": "code",
      "execution_count": null,
      "metadata": {
        "id": "btk6C_bEIq_L"
      },
      "outputs": [],
      "source": [
        "matrix[1,:] #row 1"
      ]
    },
    {
      "cell_type": "code",
      "execution_count": null,
      "metadata": {
        "id": "GyaZv03bI0Pj"
      },
      "outputs": [],
      "source": [
        "matrix[:,1] #column 1"
      ]
    },
    {
      "cell_type": "markdown",
      "metadata": {
        "id": "7EN0OCH2I7tL"
      },
      "source": [
        "We can assign new values to elements in an array using indexing:"
      ]
    },
    {
      "cell_type": "code",
      "execution_count": null,
      "metadata": {
        "id": "pGpiwoveI5nj"
      },
      "outputs": [],
      "source": [
        "matrix[1,1] = 1"
      ]
    },
    {
      "cell_type": "code",
      "execution_count": null,
      "metadata": {
        "id": "BtDLmRdbI-qe"
      },
      "outputs": [],
      "source": [
        "matrix"
      ]
    },
    {
      "cell_type": "code",
      "execution_count": null,
      "metadata": {
        "id": "ck5QHr96JBPh"
      },
      "outputs": [],
      "source": [
        "# also works for rows and columns\n",
        "matrix[1,:] = 0\n",
        "matrix[:,1] = -1"
      ]
    },
    {
      "cell_type": "code",
      "execution_count": null,
      "metadata": {
        "id": "NgWt2iNWJIHg"
      },
      "outputs": [],
      "source": [
        "matrix"
      ]
    },
    {
      "cell_type": "markdown",
      "metadata": {
        "id": "7uDgrHbNJeRx"
      },
      "source": [
        "### Index slicing\n",
        "\n",
        "Index slicing is the technical name for the syntax `M[lower:upper:step]` to extract part of an array:\n",
        "\n"
      ]
    },
    {
      "cell_type": "code",
      "execution_count": null,
      "metadata": {
        "id": "SmjAf0FyJVCk"
      },
      "outputs": [],
      "source": [
        "A = array([1,2,3,4,5])\n",
        "A"
      ]
    },
    {
      "cell_type": "code",
      "execution_count": null,
      "metadata": {
        "id": "P74_w40pJnbQ"
      },
      "outputs": [],
      "source": [
        "A[1:3] = [-2,-3]\n",
        "\n",
        "A"
      ]
    },
    {
      "cell_type": "code",
      "execution_count": null,
      "metadata": {
        "id": "67L6fhGqJpM0"
      },
      "outputs": [],
      "source": [
        "A[::] # lower, upper, step all take the default values"
      ]
    },
    {
      "cell_type": "code",
      "execution_count": null,
      "metadata": {
        "id": "BnA9S08MJrpQ"
      },
      "outputs": [],
      "source": [
        "A[::2] # step is 2, lower and upper defaults to the beginning and end of the array"
      ]
    },
    {
      "cell_type": "code",
      "execution_count": null,
      "metadata": {
        "id": "THHUSHPfJuaS"
      },
      "outputs": [],
      "source": [
        "A[:3] # first three elements"
      ]
    },
    {
      "cell_type": "code",
      "execution_count": null,
      "metadata": {
        "id": "7mgU5PLyJv0c"
      },
      "outputs": [],
      "source": [
        "A[3:] # elements from index 3"
      ]
    },
    {
      "cell_type": "markdown",
      "metadata": {
        "id": "yr0aFon_JzCE"
      },
      "source": [
        "Negative indices counts from the end of the array (positive index from the begining):"
      ]
    },
    {
      "cell_type": "code",
      "execution_count": null,
      "metadata": {
        "id": "7OD1tDqYJxVT"
      },
      "outputs": [],
      "source": [
        "A = array([1,2,3,4,5])"
      ]
    },
    {
      "cell_type": "code",
      "execution_count": null,
      "metadata": {
        "id": "wXGbE8ZQJ2qr"
      },
      "outputs": [],
      "source": [
        "A[-1] # the last element in the array"
      ]
    },
    {
      "cell_type": "code",
      "execution_count": null,
      "metadata": {
        "id": "ph-hisdTJ4FY"
      },
      "outputs": [],
      "source": [
        "A[-3:] # the last three elements\n"
      ]
    },
    {
      "cell_type": "markdown",
      "metadata": {
        "id": "Oe8eYie6J-cN"
      },
      "source": [
        "Index slicing works exactly the same way for multidimensional arrays:\n"
      ]
    },
    {
      "cell_type": "code",
      "execution_count": null,
      "metadata": {
        "id": "rN4aB8HkJ5W7"
      },
      "outputs": [],
      "source": [
        "A = array([[n+m*10 for n in range(5)] for m in range(5)])\n",
        "\n",
        "A"
      ]
    },
    {
      "cell_type": "code",
      "execution_count": null,
      "metadata": {
        "id": "R_tt5_S3KCCl"
      },
      "outputs": [],
      "source": [
        "# a block from the original array\n",
        "A[1:4, 1:4]"
      ]
    },
    {
      "cell_type": "code",
      "execution_count": null,
      "metadata": {
        "id": "AohekOgeKKDL"
      },
      "outputs": [],
      "source": [
        "# strides\n",
        "A[::2, ::2]"
      ]
    },
    {
      "cell_type": "markdown",
      "metadata": {
        "id": "suvehokjLYbt"
      },
      "source": [
        "### Fancy indexing\n",
        "Fancy indexing is the name for when an array or list is used in-place of an index:"
      ]
    },
    {
      "cell_type": "code",
      "execution_count": null,
      "metadata": {
        "id": "N9VZ_tDdKPOM"
      },
      "outputs": [],
      "source": [
        "row_indices = [1, 2, 3]\n",
        "A[row_indices]"
      ]
    },
    {
      "cell_type": "code",
      "execution_count": null,
      "metadata": {
        "id": "xCWphWLfLcMT"
      },
      "outputs": [],
      "source": [
        "col_indices = [1, 2, -1] # remember, index -1 means the last element\n",
        "A[row_indices, col_indices]"
      ]
    },
    {
      "cell_type": "markdown",
      "metadata": {
        "id": "2r1TAAFTN7fa"
      },
      "source": [
        "We can also use index masks: If the index mask is an Numpy array of data type `bool`, then an element is selected (True) or not (False) depending on the value of the index mask at the position of each element:"
      ]
    },
    {
      "cell_type": "code",
      "execution_count": null,
      "metadata": {
        "id": "kGvNphJtLhvZ"
      },
      "outputs": [],
      "source": [
        "B = array([n for n in range(5)])\n",
        "B"
      ]
    },
    {
      "cell_type": "code",
      "execution_count": null,
      "metadata": {
        "id": "fnaG0tr5OBAq"
      },
      "outputs": [],
      "source": [
        "row_mask = array([True, False, True, False, False])\n",
        "B[row_mask]"
      ]
    },
    {
      "cell_type": "code",
      "execution_count": null,
      "metadata": {
        "id": "8y2U2Z0_OFaz"
      },
      "outputs": [],
      "source": [
        "# same thing\n",
        "row_mask = array([1,0,1,0,0], dtype=bool)\n",
        "B[row_mask]"
      ]
    },
    {
      "cell_type": "markdown",
      "metadata": {
        "id": "Nq2hwgDMOK5v"
      },
      "source": [
        "This feature is very useful to conditionally select elements from an array, using for example comparison operators:"
      ]
    },
    {
      "cell_type": "code",
      "execution_count": null,
      "metadata": {
        "id": "OB2w0cRCOIqk"
      },
      "outputs": [],
      "source": [
        "x = arange(0, 10, 0.5)\n",
        "x"
      ]
    },
    {
      "cell_type": "code",
      "execution_count": null,
      "metadata": {
        "id": "nzqksRlGON1O"
      },
      "outputs": [],
      "source": [
        "mask = (5 < x) * (x < 7.5)\n",
        "mask"
      ]
    },
    {
      "cell_type": "code",
      "execution_count": null,
      "metadata": {
        "id": "i0T4IB87OPbs"
      },
      "outputs": [],
      "source": [
        "x[mask]"
      ]
    },
    {
      "cell_type": "code",
      "execution_count": null,
      "metadata": {
        "id": "SwwqV4DnOVdj"
      },
      "outputs": [],
      "source": [
        "( 5 < x ) * (x < 7.5)"
      ]
    },
    {
      "cell_type": "markdown",
      "metadata": {
        "id": "B193cBFiPzKQ"
      },
      "source": [
        "### Functions for extracting data from arrays and creating arrays\n",
        "\n",
        "#### where\n",
        "The index mask can be converted to position index using the where function"
      ]
    },
    {
      "cell_type": "code",
      "execution_count": null,
      "metadata": {
        "id": "j5espRxlO2C2"
      },
      "outputs": [],
      "source": [
        "indices = where(mask)\n",
        "\n",
        "indices"
      ]
    },
    {
      "cell_type": "code",
      "execution_count": null,
      "metadata": {
        "id": "idjzhjknP6OI"
      },
      "outputs": [],
      "source": [
        "x[indices] # this indexing is equivalent to the fancy indexing x[mask]"
      ]
    },
    {
      "cell_type": "markdown",
      "metadata": {
        "id": "a8CCpQ6eQBkl"
      },
      "source": [
        "####diag\n",
        "With the diag function we can also extract the diagonal and subdiagonals of an array:"
      ]
    },
    {
      "cell_type": "code",
      "execution_count": null,
      "metadata": {
        "id": "7aqVSdH7P-pJ"
      },
      "outputs": [],
      "source": [
        "A"
      ]
    },
    {
      "cell_type": "code",
      "execution_count": null,
      "metadata": {
        "id": "vuncArCJQItv"
      },
      "outputs": [],
      "source": [
        "diag(A)"
      ]
    },
    {
      "cell_type": "code",
      "execution_count": null,
      "metadata": {
        "id": "aXCKiMI8QJK7"
      },
      "outputs": [],
      "source": [
        "diag(A, -1)"
      ]
    },
    {
      "cell_type": "markdown",
      "metadata": {
        "id": "w0r9A4YcQOLQ"
      },
      "source": [
        "#### take\n",
        "The `take` function is similar to fancy indexing described above:"
      ]
    },
    {
      "cell_type": "code",
      "execution_count": null,
      "metadata": {
        "id": "Uiku_uf3QLQV"
      },
      "outputs": [],
      "source": [
        "v2 = arange(-3,3)\n",
        "v2"
      ]
    },
    {
      "cell_type": "code",
      "execution_count": null,
      "metadata": {
        "id": "KRSFAYBhQSq8"
      },
      "outputs": [],
      "source": [
        "row_indices = [1, 3, 5]\n",
        "v2[row_indices] # fancy indexing"
      ]
    },
    {
      "cell_type": "code",
      "execution_count": null,
      "metadata": {
        "id": "3KI480ckQVAA"
      },
      "outputs": [],
      "source": [
        "v2.take(row_indices)"
      ]
    },
    {
      "cell_type": "markdown",
      "metadata": {
        "id": "9HiKmU0JQaZ1"
      },
      "source": [
        "But take also works on lists and other objects:\n"
      ]
    },
    {
      "cell_type": "code",
      "execution_count": null,
      "metadata": {
        "id": "jyEH17JWQYuj"
      },
      "outputs": [],
      "source": [
        "take([-3, -2, -1,  0,  1,  2], row_indices)"
      ]
    },
    {
      "cell_type": "markdown",
      "metadata": {
        "id": "cJ8ug0c0R1yq"
      },
      "source": [
        "####choose\n",
        "Constructs an array by picking elements from several arrays:"
      ]
    },
    {
      "cell_type": "code",
      "execution_count": null,
      "metadata": {
        "id": "-9qvEkyuQeg7"
      },
      "outputs": [],
      "source": [
        "which = [1, 0, 1, 0]\n",
        "choices = [[1,2,3,4], [-1,-2,-3,-4]]\n",
        "\n",
        "choose(which, choices)"
      ]
    },
    {
      "cell_type": "markdown",
      "metadata": {
        "id": "Ni2Ec2ANSPFI"
      },
      "source": [
        "## Linear algebra\n",
        "--------\n",
        "Vectorizing code is the key to writing efficient numerical calculation with Python/Numpy. That means that, as much as possible, a program should be formulated in terms of matrix and vector operations, like matrix-matrix multiplication."
      ]
    },
    {
      "cell_type": "markdown",
      "metadata": {
        "id": "jqjwxXQXSTgT"
      },
      "source": [
        "### Scalar-array operations\n",
        "We can use the usual arithmetic operators to multiply, add, subtract, and divide arrays with scalar numbers."
      ]
    },
    {
      "cell_type": "code",
      "execution_count": null,
      "metadata": {
        "id": "sGNxuEgdR-A5"
      },
      "outputs": [],
      "source": [
        "v1 = arange(0, 5)"
      ]
    },
    {
      "cell_type": "code",
      "execution_count": null,
      "metadata": {
        "id": "VI0sNkPTSVWq"
      },
      "outputs": [],
      "source": [
        "v1"
      ]
    },
    {
      "cell_type": "code",
      "execution_count": null,
      "metadata": {
        "id": "34i56iB9SZxs"
      },
      "outputs": [],
      "source": [
        "v1 * 2"
      ]
    },
    {
      "cell_type": "code",
      "execution_count": null,
      "metadata": {
        "id": "AKPWKGG5SbI5"
      },
      "outputs": [],
      "source": [
        "v1 + 2"
      ]
    },
    {
      "cell_type": "code",
      "execution_count": null,
      "metadata": {
        "id": "VmrGbEF5So7k"
      },
      "outputs": [],
      "source": [
        "A"
      ]
    },
    {
      "cell_type": "code",
      "execution_count": null,
      "metadata": {
        "id": "JtiS2ydmScgy"
      },
      "outputs": [],
      "source": [
        "A * 2"
      ]
    },
    {
      "cell_type": "code",
      "execution_count": null,
      "metadata": {
        "id": "BcMcNZSpSmjn"
      },
      "outputs": [],
      "source": [
        "A + 2"
      ]
    },
    {
      "cell_type": "markdown",
      "metadata": {
        "id": "lDby75hPSuli"
      },
      "source": [
        "### Element-wise array-array operations\n",
        "When we add, subtract, multiply and divide arrays with each other, the default behaviour is element-wise operations:"
      ]
    },
    {
      "cell_type": "code",
      "execution_count": null,
      "metadata": {
        "id": "_Po4tJ5wSzuf"
      },
      "outputs": [],
      "source": [
        "v1 * v1"
      ]
    },
    {
      "cell_type": "code",
      "execution_count": null,
      "metadata": {
        "id": "kFtbwY05SnR2"
      },
      "outputs": [],
      "source": [
        "A * A"
      ]
    },
    {
      "cell_type": "markdown",
      "metadata": {
        "id": "PTlkuS4MS8np"
      },
      "source": [
        "If we multiply arrays with compatible shapes, we get an element-wise multiplication of each row:"
      ]
    },
    {
      "cell_type": "code",
      "execution_count": null,
      "metadata": {
        "id": "CI2bYMYTS3jM"
      },
      "outputs": [],
      "source": [
        "A.shape"
      ]
    },
    {
      "cell_type": "code",
      "execution_count": null,
      "metadata": {
        "id": "uz-5BBQTS_Bf"
      },
      "outputs": [],
      "source": [
        "v1.shape"
      ]
    },
    {
      "cell_type": "code",
      "execution_count": null,
      "metadata": {
        "id": "tJBFWhglTFLE"
      },
      "outputs": [],
      "source": [
        "v1"
      ]
    },
    {
      "cell_type": "code",
      "execution_count": null,
      "metadata": {
        "id": "U7FS1NH_TFRf"
      },
      "outputs": [],
      "source": [
        "A"
      ]
    },
    {
      "cell_type": "code",
      "execution_count": null,
      "metadata": {
        "id": "JqQ8FuVNS__A"
      },
      "outputs": [],
      "source": [
        "A * v1"
      ]
    },
    {
      "cell_type": "code",
      "execution_count": null,
      "metadata": {
        "id": "zkqIUV5-TBv3"
      },
      "outputs": [],
      "source": [
        "v1 * A"
      ]
    },
    {
      "cell_type": "markdown",
      "metadata": {
        "id": "NcgXBvm-Tygo"
      },
      "source": [
        "### Matrix algebra\n",
        "What about matrix mutiplication? There are two ways. We can either use the dot function, which applies a matrix-matrix, matrix-vector, or inner vector multiplication to its two arguments:"
      ]
    },
    {
      "cell_type": "markdown",
      "metadata": {
        "id": "B8i8Y79QUx2X"
      },
      "source": [
        "Dot multiplication:\n",
        "\n",
        "$a\\cdot b=\\sum_{i=1}^n a_n b_n = a_1 b_1 + a_2 b_2 + ... + a_n b_n$"
      ]
    },
    {
      "cell_type": "code",
      "execution_count": null,
      "metadata": {
        "id": "t9IbX6JVXLpm"
      },
      "outputs": [],
      "source": [
        "A"
      ]
    },
    {
      "cell_type": "code",
      "execution_count": null,
      "metadata": {
        "id": "SNKbJGOCTRXB"
      },
      "outputs": [],
      "source": [
        "dot(A,A)"
      ]
    },
    {
      "cell_type": "code",
      "execution_count": null,
      "metadata": {
        "id": "PxOsCcAdV2mk"
      },
      "outputs": [],
      "source": [
        "t = array([[1,2],[3,4]])"
      ]
    },
    {
      "cell_type": "code",
      "execution_count": null,
      "metadata": {
        "id": "uxQd8RWgWK5f"
      },
      "outputs": [],
      "source": [
        "t"
      ]
    },
    {
      "cell_type": "code",
      "execution_count": null,
      "metadata": {
        "id": "mO-s3GzAWa3g"
      },
      "outputs": [],
      "source": [
        "dot(t,t)"
      ]
    },
    {
      "cell_type": "code",
      "execution_count": null,
      "metadata": {
        "id": "MtSlJh6pWhac"
      },
      "outputs": [],
      "source": [
        "z = array([1,2,3])\n",
        "dot(z,z)"
      ]
    },
    {
      "cell_type": "code",
      "execution_count": null,
      "metadata": {
        "id": "5mlfZepOXH7C"
      },
      "outputs": [],
      "source": [
        "dot([1,2],[1,3])"
      ]
    },
    {
      "cell_type": "code",
      "execution_count": null,
      "metadata": {
        "id": "FuVNJJyIZEEc"
      },
      "outputs": [],
      "source": [
        "v1"
      ]
    },
    {
      "cell_type": "code",
      "execution_count": null,
      "metadata": {
        "id": "uU-EQITHZT0t"
      },
      "outputs": [],
      "source": [
        "dot(A,v1)"
      ]
    },
    {
      "cell_type": "code",
      "execution_count": null,
      "metadata": {
        "id": "W8nSj7Heagio"
      },
      "outputs": [],
      "source": [
        "from numpy.linalg import *"
      ]
    },
    {
      "cell_type": "code",
      "execution_count": null,
      "metadata": {
        "id": "9WmOwBFcZcHa"
      },
      "outputs": [],
      "source": [
        "A"
      ]
    },
    {
      "cell_type": "code",
      "execution_count": null,
      "metadata": {
        "id": "Q53xXVWFaGtn"
      },
      "outputs": [],
      "source": [
        "a = array([[[1., 2.], [3., 4.]], [[1, 3], [3, 5]]])"
      ]
    },
    {
      "cell_type": "markdown",
      "metadata": {
        "id": "flTpwZI7bZjj"
      },
      "source": [
        "### Data processing\n",
        "Often it is useful to store datasets in Numpy arrays. Numpy provides a number of functions to calculate statistics of datasets in arrays.\n",
        "\n",
        "For example, let's calculate some properties from the Stockholm temperature dataset used above."
      ]
    },
    {
      "cell_type": "code",
      "execution_count": null,
      "metadata": {
        "id": "LZWPwnJ4asnQ"
      },
      "outputs": [],
      "source": [
        "# reminder, the tempeature dataset is stored in the data variable:\n",
        "shape(data)"
      ]
    },
    {
      "cell_type": "markdown",
      "metadata": {
        "id": "ipuRl-brbf6k"
      },
      "source": [
        "####mean"
      ]
    },
    {
      "cell_type": "code",
      "execution_count": null,
      "metadata": {
        "id": "rvIPlN7Aber7"
      },
      "outputs": [],
      "source": [
        "# the temperature data is in column 3\n",
        "mean(data[:,3])"
      ]
    },
    {
      "cell_type": "markdown",
      "metadata": {
        "id": "LKpujFNrblwo"
      },
      "source": [
        "The daily mean temperature in Stockholm over the last 200 years has been about 6.2 C.\n",
        "\n"
      ]
    },
    {
      "cell_type": "markdown",
      "metadata": {
        "id": "keOx1KtDb-Yf"
      },
      "source": [
        "#### SD and variance"
      ]
    },
    {
      "cell_type": "code",
      "execution_count": null,
      "metadata": {
        "id": "jT6kgPGSbjjm"
      },
      "outputs": [],
      "source": [
        "std(data[:,3]), var(data[:,3])"
      ]
    },
    {
      "cell_type": "markdown",
      "metadata": {
        "id": "ZJVT0j9CcDKh"
      },
      "source": [
        "####min and max"
      ]
    },
    {
      "cell_type": "code",
      "execution_count": null,
      "metadata": {
        "id": "cWtkTIRabp2q"
      },
      "outputs": [],
      "source": [
        "# lowest daily average temperature\n",
        "data[:,3].min()"
      ]
    },
    {
      "cell_type": "code",
      "execution_count": null,
      "metadata": {
        "id": "SvYeD4-kb0h8"
      },
      "outputs": [],
      "source": [
        "# highest daily average temperature\n",
        "data[:,3].max()"
      ]
    },
    {
      "cell_type": "markdown",
      "metadata": {
        "id": "KhPPxd9Qgw80"
      },
      "source": [
        "#### sum, prod, and trace"
      ]
    },
    {
      "cell_type": "code",
      "execution_count": null,
      "metadata": {
        "id": "rbefGcH7gvNu"
      },
      "outputs": [],
      "source": [
        "d = arange(0, 10)\n",
        "d"
      ]
    },
    {
      "cell_type": "code",
      "execution_count": null,
      "metadata": {
        "id": "KN4-4eo-g0qq"
      },
      "outputs": [],
      "source": [
        "# sum up all elements\n",
        "sum(d)"
      ]
    },
    {
      "cell_type": "code",
      "execution_count": null,
      "metadata": {
        "id": "9aaiQSHug2Jw"
      },
      "outputs": [],
      "source": [
        "# product of all elements\n",
        "prod(d+1)"
      ]
    },
    {
      "cell_type": "code",
      "execution_count": null,
      "metadata": {
        "id": "70eR3NvLg369"
      },
      "outputs": [],
      "source": [
        "d+1"
      ]
    },
    {
      "cell_type": "code",
      "execution_count": null,
      "metadata": {
        "id": "DQWDLAoXg9so"
      },
      "outputs": [],
      "source": [
        "# cummulative product\n",
        "cumprod(d+1)"
      ]
    },
    {
      "cell_type": "code",
      "execution_count": null,
      "metadata": {
        "id": "MysSrePxhBj-"
      },
      "outputs": [],
      "source": [
        "# same as: diag(A).sum()\n",
        "diag(A).sum()\n"
      ]
    },
    {
      "cell_type": "markdown",
      "metadata": {
        "id": "5Rwl7mV7jsbl"
      },
      "source": [
        "### Calculations with higher-dimensional data\n",
        "When functions such as min, max, etc. are applied to a multidimensional arrays, it is sometimes useful to apply the calculation to the entire array, and sometimes only on a row or column basis. Using the axis argument we can specify how these functions should behave:"
      ]
    },
    {
      "cell_type": "code",
      "execution_count": null,
      "metadata": {
        "id": "snZXExerhDKQ"
      },
      "outputs": [],
      "source": [
        "m = random.rand(3,3)\n",
        "m"
      ]
    },
    {
      "cell_type": "code",
      "execution_count": null,
      "metadata": {
        "id": "vtq64399j1VW"
      },
      "outputs": [],
      "source": [
        "# global max\n",
        "m.max()"
      ]
    },
    {
      "cell_type": "code",
      "execution_count": null,
      "metadata": {
        "id": "xB64zAT2j-bX"
      },
      "outputs": [],
      "source": [
        "# max in each column\n",
        "m.max(axis=0)"
      ]
    },
    {
      "cell_type": "code",
      "execution_count": null,
      "metadata": {
        "id": "eMhIQJMqj_4s"
      },
      "outputs": [],
      "source": [
        "# max in each row\n",
        "m.max(axis=1)"
      ]
    },
    {
      "cell_type": "markdown",
      "metadata": {
        "id": "4MHoMxbQkG4O"
      },
      "source": [
        "Many other functions and methods in the array and matrix classes accept the same (optional) axis keyword argument."
      ]
    },
    {
      "cell_type": "markdown",
      "metadata": {
        "id": "EgT7db_nDvl1"
      },
      "source": [
        "## Reshaping, resizing and stacking arrays\n",
        "----------\n",
        "The shape of an Numpy array can be modified without copying the underlaying data, which makes it a fast operation even for large arrays."
      ]
    },
    {
      "cell_type": "code",
      "execution_count": null,
      "metadata": {
        "id": "OJszDcXpkBh_"
      },
      "outputs": [],
      "source": [
        "A"
      ]
    },
    {
      "cell_type": "code",
      "execution_count": null,
      "metadata": {
        "id": "8bzzeOerE2RH"
      },
      "outputs": [],
      "source": [
        "A.shape"
      ]
    },
    {
      "cell_type": "code",
      "execution_count": null,
      "metadata": {
        "id": "CRlxbCxEEyEN"
      },
      "outputs": [],
      "source": [
        "n, m = A.shape"
      ]
    },
    {
      "cell_type": "code",
      "execution_count": null,
      "metadata": {
        "id": "vI78u0mAEz3o"
      },
      "outputs": [],
      "source": [
        "B = A.reshape((1,n*m))"
      ]
    },
    {
      "cell_type": "code",
      "execution_count": null,
      "metadata": {
        "id": "Qgsi-PD8E-Cd"
      },
      "outputs": [],
      "source": [
        "B"
      ]
    },
    {
      "cell_type": "code",
      "execution_count": null,
      "metadata": {
        "id": "8bxkOo-uE-jL"
      },
      "outputs": [],
      "source": [
        "B[0,0:5] = 5"
      ]
    },
    {
      "cell_type": "code",
      "execution_count": null,
      "metadata": {
        "id": "QmgdTttoFI_G"
      },
      "outputs": [],
      "source": [
        "B"
      ]
    },
    {
      "cell_type": "code",
      "execution_count": null,
      "metadata": {
        "id": "RZ_HLQcbFJcM"
      },
      "outputs": [],
      "source": [
        "A"
      ]
    },
    {
      "cell_type": "markdown",
      "metadata": {
        "id": "YeQQnU-wFTOp"
      },
      "source": [
        "We can also use the function `flatten` to make a higher-dimensional array into a vector. But this function create a copy of the data."
      ]
    },
    {
      "cell_type": "code",
      "execution_count": null,
      "metadata": {
        "id": "ybpBuPheFRFs"
      },
      "outputs": [],
      "source": [
        "B = A.flatten()\n",
        "\n",
        "B"
      ]
    },
    {
      "cell_type": "code",
      "execution_count": null,
      "metadata": {
        "id": "4wvKwg4hFbCY"
      },
      "outputs": [],
      "source": [
        "B[0:5] = 10\n",
        "\n",
        "B"
      ]
    },
    {
      "cell_type": "code",
      "execution_count": null,
      "metadata": {
        "id": "1Z0P22aQFhub"
      },
      "outputs": [],
      "source": [
        "A"
      ]
    },
    {
      "cell_type": "markdown",
      "metadata": {
        "id": "NccczGnzGsOY"
      },
      "source": [
        "### Adding a new dimension: newaxis\n",
        "With `newaxis`, we can insert new dimensions in an array, for example converting a vector to a column or row matrix:"
      ]
    },
    {
      "cell_type": "code",
      "execution_count": null,
      "metadata": {
        "id": "mElFBjXpFjcM"
      },
      "outputs": [],
      "source": [
        "v = array([1,2,3])"
      ]
    },
    {
      "cell_type": "code",
      "execution_count": null,
      "metadata": {
        "id": "rDOpMnyPG1pF"
      },
      "outputs": [],
      "source": [
        "shape(v)\n"
      ]
    },
    {
      "cell_type": "code",
      "execution_count": null,
      "metadata": {
        "id": "u4DRov9MG3yq"
      },
      "outputs": [],
      "source": [
        "# make a column matrix of the vector v\n",
        "v[:, newaxis]"
      ]
    },
    {
      "cell_type": "code",
      "execution_count": null,
      "metadata": {
        "id": "-ZqnR5mxG5uE"
      },
      "outputs": [],
      "source": [
        "v[newaxis,:]"
      ]
    },
    {
      "cell_type": "code",
      "execution_count": null,
      "metadata": {
        "id": "OxD3JooOHF3J"
      },
      "outputs": [],
      "source": [
        "v[newaxis,:].shape"
      ]
    },
    {
      "cell_type": "markdown",
      "metadata": {
        "id": "7Z-KeEZeIlji"
      },
      "source": [
        "### Stacking and repeating arrays\n",
        "Using function `repeat`,`tile`, `vstack`, `hstack`, and `concatenate` we can create larger vectors and matrices from smaller ones:"
      ]
    },
    {
      "cell_type": "markdown",
      "metadata": {
        "id": "b6VdjohBIxnn"
      },
      "source": [
        "####tile and repeat"
      ]
    },
    {
      "cell_type": "code",
      "execution_count": null,
      "metadata": {
        "id": "mvqj3iIKHJ7n"
      },
      "outputs": [],
      "source": [
        "a = array([[1, 2], [3, 4]])"
      ]
    },
    {
      "cell_type": "code",
      "execution_count": null,
      "metadata": {
        "id": "fQZtBUpbI3GS"
      },
      "outputs": [],
      "source": [
        "# repeat each element 3 times\n",
        "repeat(a, 3)"
      ]
    },
    {
      "cell_type": "code",
      "execution_count": null,
      "metadata": {
        "id": "WPMW0VbQI4sW"
      },
      "outputs": [],
      "source": [
        "# tile the matrix 3 times \n",
        "tile(a, 3)"
      ]
    },
    {
      "cell_type": "markdown",
      "metadata": {
        "id": "K435-_GqI_wo"
      },
      "source": [
        "####concatenate"
      ]
    },
    {
      "cell_type": "code",
      "execution_count": null,
      "metadata": {
        "id": "9qV4KMu6I7ji"
      },
      "outputs": [],
      "source": [
        "b = array([[5, 6]])"
      ]
    },
    {
      "cell_type": "code",
      "execution_count": null,
      "metadata": {
        "id": "RM8utR4yJEgV"
      },
      "outputs": [],
      "source": [
        "concatenate((a, b), axis=0)"
      ]
    },
    {
      "cell_type": "code",
      "execution_count": null,
      "metadata": {
        "id": "3l8_Cu4FJTxu"
      },
      "outputs": [],
      "source": [
        "b.T"
      ]
    },
    {
      "cell_type": "code",
      "execution_count": null,
      "metadata": {
        "id": "MiCOuF-WJGNW"
      },
      "outputs": [],
      "source": [
        "concatenate((a, b.T), axis=1)"
      ]
    },
    {
      "cell_type": "markdown",
      "metadata": {
        "id": "DT65AkznKnnj"
      },
      "source": [
        "####vertical and horizontal stack"
      ]
    },
    {
      "cell_type": "code",
      "execution_count": null,
      "metadata": {
        "id": "u3qySAKwJKh2"
      },
      "outputs": [],
      "source": [
        "vstack((a,b))"
      ]
    },
    {
      "cell_type": "code",
      "execution_count": null,
      "metadata": {
        "id": "Q67M2izaKtU0"
      },
      "outputs": [],
      "source": [
        "hstack((a,b.T))"
      ]
    },
    {
      "cell_type": "markdown",
      "metadata": {
        "id": "HUv_nD_pK-gP"
      },
      "source": [
        "## Copy versus \"deep copy\"\n",
        "-------\n",
        "To achieve high performance, assignments in Python usually do not copy the underlaying objects. This is important for example when objects are passed between functions, to avoid an excessive amount of memory copying when it is not necessary (technical term: pass by reference)."
      ]
    },
    {
      "cell_type": "code",
      "execution_count": null,
      "metadata": {
        "id": "S-4xZE-2KvEX"
      },
      "outputs": [],
      "source": [
        "A = array([[1, 2], [3, 4]])\n",
        "\n",
        "A"
      ]
    },
    {
      "cell_type": "code",
      "execution_count": null,
      "metadata": {
        "id": "BLlhPxsDLHs_"
      },
      "outputs": [],
      "source": [
        "# now B is referring to the same array data as A \n",
        "B = A"
      ]
    },
    {
      "cell_type": "code",
      "execution_count": null,
      "metadata": {
        "id": "-sLAoTjFLJFy"
      },
      "outputs": [],
      "source": [
        "# changing B affects A\n",
        "B[0,0] = 10\n",
        "\n",
        "B"
      ]
    },
    {
      "cell_type": "code",
      "execution_count": null,
      "metadata": {
        "id": "6wZ3SUEfLK2y"
      },
      "outputs": [],
      "source": [
        "A"
      ]
    },
    {
      "cell_type": "markdown",
      "metadata": {
        "id": "hfu_LwDILNx1"
      },
      "source": [
        "If we want to avoid this behavior, so that when we get a new completely independent object B copied from A, then we need to do a so-called \"deep copy\" using the function `copy`:"
      ]
    },
    {
      "cell_type": "code",
      "execution_count": null,
      "metadata": {
        "id": "brfkCVuQLL2D"
      },
      "outputs": [],
      "source": [
        "B = copy(A)"
      ]
    },
    {
      "cell_type": "code",
      "execution_count": null,
      "metadata": {
        "id": "HPrbN5WbLTCM"
      },
      "outputs": [],
      "source": [
        "# now, if we modify B, A is not affected\n",
        "B[0,0] = -5\n",
        "\n",
        "B"
      ]
    },
    {
      "cell_type": "code",
      "execution_count": null,
      "metadata": {
        "id": "-U3_JrtpLUwy"
      },
      "outputs": [],
      "source": [
        "A"
      ]
    },
    {
      "cell_type": "markdown",
      "metadata": {
        "id": "6ysf7bi5L1iD"
      },
      "source": [
        "## Iterating over array elements\n",
        "------\n",
        "Generally, we want to avoid iterating over the elements of arrays whenever we can (at all costs). The reason is that in a interpreted language like Python (or MATLAB), iterations are really slow compared to vectorized operations.\n",
        "\n",
        "However, sometimes iterations are unavoidable. For such cases, the Python `for` loop is the most convenient way to iterate over an array:"
      ]
    },
    {
      "cell_type": "code",
      "execution_count": null,
      "metadata": {
        "id": "o-YV47xjLW6z"
      },
      "outputs": [],
      "source": [
        "v = array([1,2,3,4])\n",
        "\n",
        "for element in v:\n",
        "    print(element)"
      ]
    },
    {
      "cell_type": "code",
      "execution_count": null,
      "metadata": {
        "id": "ICbVxG0tL_ES"
      },
      "outputs": [],
      "source": [
        "M = array([[1,2], [3,4]])\n",
        "\n",
        "for row in M:\n",
        "    print(\"row\", row)\n",
        "    \n",
        "    for element in row:\n",
        "        print(element)"
      ]
    },
    {
      "cell_type": "markdown",
      "metadata": {
        "id": "UxtfqMplMCjo"
      },
      "source": [
        "When we need to iterate over each element of an array and modify its elements, it is convenient to use the `enumerate` function to obtain both the element and its index in the `for` loop:"
      ]
    },
    {
      "cell_type": "code",
      "source": [
        "enumerate(M)\n"
      ],
      "metadata": {
        "id": "bcYAkyX6nwVu"
      },
      "execution_count": null,
      "outputs": []
    },
    {
      "cell_type": "code",
      "execution_count": null,
      "metadata": {
        "id": "x9JXYjXcMAvO"
      },
      "outputs": [],
      "source": [
        "for row_idx, row in enumerate(M):\n",
        "    print(\"row_idx\", row_idx, \"row\", row)\n",
        "    \n",
        "    for col_idx, element in enumerate(row):\n",
        "        print(\"col_idx\", col_idx, \"element\", element)\n",
        "       \n",
        "        # update the matrix M: square each element\n",
        "        M[row_idx, col_idx] = element ** 2"
      ]
    },
    {
      "cell_type": "code",
      "execution_count": null,
      "metadata": {
        "id": "rjikyfvQMKM6"
      },
      "outputs": [],
      "source": [
        "# each element in M is now squared\n",
        "M"
      ]
    },
    {
      "cell_type": "markdown",
      "metadata": {
        "id": "Sno3MvvZM-yw"
      },
      "source": [
        "## Using arrays in conditions\n",
        "-------\n",
        "When using arrays in conditions,for example if statements and other boolean expressions, one needs to use `any` or `all`, which requires that any or all elements in the array evalutes to `True`:"
      ]
    },
    {
      "cell_type": "code",
      "execution_count": null,
      "metadata": {
        "id": "35WcBXr4MM46"
      },
      "outputs": [],
      "source": [
        "M"
      ]
    },
    {
      "cell_type": "code",
      "execution_count": null,
      "metadata": {
        "id": "d_hy1qUHNOiQ"
      },
      "outputs": [],
      "source": [
        "if (M > 5).any():\n",
        "    print(\"at least one element in M is larger than 5\")\n",
        "else:\n",
        "    print(\"no element in M is larger than 5\")"
      ]
    },
    {
      "cell_type": "code",
      "execution_count": null,
      "metadata": {
        "id": "Fuo2_JVxNQPZ"
      },
      "outputs": [],
      "source": [
        "if (M > 5).all():\n",
        "    print(\"all elements in M are larger than 5\")\n",
        "else:\n",
        "    print(\"all elements in M are not larger than 5\")"
      ]
    },
    {
      "cell_type": "code",
      "execution_count": null,
      "metadata": {
        "id": "on5wL0CumjkP"
      },
      "outputs": [],
      "source": [
        "M[any(M>5,axis=1)]"
      ]
    },
    {
      "cell_type": "markdown",
      "metadata": {
        "id": "i9Vn2_YkNcZ7"
      },
      "source": [
        "## Type casting\n",
        "---------\n",
        "Since Numpy arrays are statically typed, the type of an array does not change once created. But we can explicitly cast an array of some type to another using the `astype` functions (see also the similar `asarray` function). This always create a new array of new type:"
      ]
    },
    {
      "cell_type": "code",
      "execution_count": null,
      "metadata": {
        "id": "U7ztF1WENUIf"
      },
      "outputs": [],
      "source": [
        "M.dtype"
      ]
    },
    {
      "cell_type": "code",
      "execution_count": null,
      "metadata": {
        "id": "5LGDt3IENp2-"
      },
      "outputs": [],
      "source": [
        "M2 = M.astype(float)\n",
        "\n",
        "M2"
      ]
    },
    {
      "cell_type": "code",
      "execution_count": null,
      "metadata": {
        "id": "4Q9d_AcKNrc_"
      },
      "outputs": [],
      "source": [
        "M2.dtype"
      ]
    },
    {
      "cell_type": "code",
      "execution_count": null,
      "metadata": {
        "id": "rk9rVdnENte5"
      },
      "outputs": [],
      "source": [
        "M3 = M.astype(bool)\n",
        "\n",
        "M3"
      ]
    },
    {
      "cell_type": "markdown",
      "metadata": {
        "id": "RYD0OMoTUPc_"
      },
      "source": [
        "\n",
        "## Additional numpy example"
      ]
    },
    {
      "cell_type": "code",
      "execution_count": null,
      "metadata": {
        "id": "SQSVveOUNvv_"
      },
      "outputs": [],
      "source": [
        "# Get the datasets\n",
        "!wget https://shaunmahony.github.io/BMMB554-2022/data/yeast_genes.txt"
      ]
    },
    {
      "cell_type": "code",
      "execution_count": null,
      "metadata": {
        "id": "IoeF1h7FXQTO"
      },
      "outputs": [],
      "source": [
        "!cut -f 3 yeast_genes.txt | sort | uniq -c"
      ]
    },
    {
      "cell_type": "code",
      "execution_count": null,
      "metadata": {
        "id": "PVUIJ4YOWWAq"
      },
      "outputs": [],
      "source": [
        "# First let's find out how many chromosomes:\n",
        "chrom = []\n",
        "for line in open('yeast_genes.txt','r'):\n",
        "  if not line.startswith('#'): # ignore header\n",
        "    chrom.append(line.split('\\t')[2]) #split line on tabs and access the third [2] element\n",
        "set(chrom)"
      ]
    },
    {
      "cell_type": "code",
      "execution_count": null,
      "metadata": {
        "id": "rLSX4SatYMDq"
      },
      "outputs": [],
      "source": [
        "# Let's create two arrays to translate between roman and integer\n",
        "# The trick here is than index of every element can be used to\n",
        "# Translate roman into integer\n",
        "# For example, chr_roman[1] is 'chrI'\n",
        "\n",
        "chr_roman = ['chrmt',\n",
        " 'chrI',       \n",
        " 'chrII',\n",
        " 'chrIII',\n",
        " 'chrIV',\n",
        " 'chrV',\n",
        " 'chrVI',\n",
        " 'chrVII',\n",
        " 'chrVIII',\n",
        " 'chrIX',\n",
        " 'chrX',\n",
        " 'chrXI',\n",
        " 'chrXII',\n",
        " 'chrXIII',\n",
        " 'chrXIV',\n",
        " 'chrXV',\n",
        " 'chrXVI']"
      ]
    },
    {
      "cell_type": "code",
      "execution_count": null,
      "metadata": {
        "id": "r6mcc_eDfMfi"
      },
      "outputs": [],
      "source": [
        "chr_roman.index('chrI')"
      ]
    },
    {
      "cell_type": "code",
      "execution_count": null,
      "metadata": {
        "id": "e6hd78R3Ucp2"
      },
      "outputs": [],
      "source": [
        "# Process the dataset\n",
        "\n",
        "names = [] # Initialize array for gene names\n",
        "coord = [] # Initialize array for coordinate data\n",
        "\n",
        "for line in open('yeast_genes.txt','r'):\n",
        "  if not line.startswith('#'): # ignore header\n",
        "    line = line.rstrip() # get rid of caret returns\n",
        "    fields = line.split('\\t') # split line on tabs to convert it into a list\n",
        "    name = fields[0]\n",
        "    chromosome = chr_roman.index(fields[2])\n",
        "    start = int( fields[3] )\n",
        "    end = int( fields[4] )\n",
        "    length = end-start+1 # compute the length\n",
        "    if name.split('-')[0].endswith('W'):\n",
        "      strand = 1 # encode positive strand as 1\n",
        "    elif name.split('-')[0].endswith('C'):\n",
        "      strand = 2 # encode negative strand as 2\n",
        "    else:        \n",
        "      strand = 0 # encode unknown strand as 0\n",
        "    names.append(name)\n",
        "    coord.append([chromosome,start,end,length,strand])\n",
        "      "
      ]
    },
    {
      "cell_type": "code",
      "execution_count": null,
      "metadata": {
        "id": "lrf7MFNZhsQT"
      },
      "outputs": [],
      "source": [
        "names[:2]"
      ]
    },
    {
      "cell_type": "code",
      "execution_count": null,
      "metadata": {
        "id": "ukLdJBqDh5uz"
      },
      "outputs": [],
      "source": [
        "!head -n 3 yeast_genes.txt"
      ]
    },
    {
      "cell_type": "code",
      "execution_count": null,
      "metadata": {
        "id": "vwbq2D6giH_y"
      },
      "outputs": [],
      "source": [
        "# Convert coord array into numpy array\n",
        "coord = array(coord)"
      ]
    },
    {
      "cell_type": "code",
      "execution_count": null,
      "metadata": {
        "id": "eBn3O7JwiUvD"
      },
      "outputs": [],
      "source": [
        "coord[:2]"
      ]
    },
    {
      "cell_type": "code",
      "execution_count": null,
      "metadata": {
        "id": "gE5tc9MMiWk9"
      },
      "outputs": [],
      "source": [
        "coord.dtype"
      ]
    },
    {
      "cell_type": "code",
      "execution_count": null,
      "metadata": {
        "id": "l0J0Yq_UibnD"
      },
      "outputs": [],
      "source": [
        "# Convert names array into numpy array\n",
        "names = array(names)"
      ]
    },
    {
      "cell_type": "code",
      "execution_count": null,
      "metadata": {
        "id": "JPTkZ2eLif_C"
      },
      "outputs": [],
      "source": [
        "names[:2]"
      ]
    },
    {
      "cell_type": "code",
      "execution_count": null,
      "metadata": {
        "id": "a80Qr3Leih02"
      },
      "outputs": [],
      "source": [
        "# The number of genes can be inferred from array shape\n",
        "coord.shape\n"
      ]
    },
    {
      "cell_type": "code",
      "execution_count": null,
      "metadata": {
        "id": "6YMg8m_isf2v"
      },
      "outputs": [],
      "source": [
        "# You can see that the file as many lines + 1 (header)\n",
        "!wc -l yeast_genes.txt"
      ]
    },
    {
      "cell_type": "code",
      "execution_count": null,
      "metadata": {
        "id": "8XAMy0XCjfWB"
      },
      "outputs": [],
      "source": [
        "# Longest gene is the max of the difference between start and end\n",
        "max(coord[:,2] - coord[:,1] + 1)"
      ]
    },
    {
      "cell_type": "code",
      "execution_count": null,
      "metadata": {
        "id": "Cke6N5kNlMzO"
      },
      "outputs": [],
      "source": [
        "# Or simply the maximum of the length column\n",
        "max(coord[:,3])"
      ]
    },
    {
      "cell_type": "code",
      "execution_count": null,
      "metadata": {
        "id": "fRaWf912uxWS"
      },
      "outputs": [],
      "source": [
        "# Which gene is that?\n",
        "# The index of this gene in coord array is:\n",
        "argmax(coord[:,3])"
      ]
    },
    {
      "cell_type": "code",
      "execution_count": null,
      "metadata": {
        "id": "dOKp7Voau0mB"
      },
      "outputs": [],
      "source": [
        "# It has the same index in names array:\n",
        "names[4740]"
      ]
    },
    {
      "cell_type": "code",
      "execution_count": null,
      "metadata": {
        "id": "jV340oH7mMk9"
      },
      "outputs": [],
      "source": [
        "# Shortest gene\n",
        "min(coord[:,3])"
      ]
    },
    {
      "cell_type": "code",
      "execution_count": null,
      "metadata": {
        "id": "w73UIqq5pWOv"
      },
      "outputs": [],
      "source": [
        "# The number of genes on chromsome 10\n",
        "shape(extract(coord[:,0] == 10,coord))"
      ]
    },
    {
      "cell_type": "code",
      "execution_count": null,
      "metadata": {
        "id": "s6N2fBRpoXOr"
      },
      "outputs": [],
      "source": [
        "# Longest gene on chromosome 10\n",
        "max(extract(coord[:,0] == 10,coord[:,3]))"
      ]
    },
    {
      "cell_type": "code",
      "execution_count": null,
      "metadata": {
        "id": "8rFAqumNoebK"
      },
      "outputs": [],
      "source": [
        "# The number of genes of chromsome 1 that are on the + strand \n",
        "# (we encoded '+' as 1)\n",
        "size(coord[(coord[:,0] == 1) & (coord[:,4] == 1)], axis=0)"
      ]
    },
    {
      "cell_type": "code",
      "execution_count": null,
      "metadata": {
        "id": "5XqO7sOLrCKm"
      },
      "outputs": [],
      "source": [
        "# The number of genes of chromsome 1 that are on the - strand \n",
        "# (we encoded '-' as 2)\n",
        "size(coord[(coord[:,0] == 1) & (coord[:,4] == 2)], axis=0)"
      ]
    },
    {
      "cell_type": "code",
      "execution_count": null,
      "metadata": {
        "id": "_wO92gCprLcR"
      },
      "outputs": [],
      "source": [
        "# Let's plot distribution of gene lengths\n",
        "sns.set_style('whitegrid')\n",
        "sns.distplot(coord[:,3])"
      ]
    },
    {
      "cell_type": "markdown",
      "metadata": {
        "id": "Ao4SGsLW6gqO"
      },
      "source": [
        "##  A little fun with images\n",
        "------\n",
        "Images are really arrays"
      ]
    },
    {
      "cell_type": "code",
      "execution_count": null,
      "metadata": {
        "id": "e7-7BPlL6gqN"
      },
      "outputs": [],
      "source": [
        "import matplotlib.pyplot as pl\n",
        "import matplotlib.image as mpimg\n",
        "import numpy as np"
      ]
    },
    {
      "cell_type": "code",
      "execution_count": null,
      "metadata": {
        "id": "qXWLsc256gqL"
      },
      "outputs": [],
      "source": [
        "import imageio\n",
        "img=\"https://shaunmahony.github.io/BMMB554-2022/img/1N1A6336.CR2.jpg\"\n",
        "img = imageio.imread(img)"
      ]
    },
    {
      "cell_type": "code",
      "execution_count": null,
      "metadata": {
        "id": "voFvVNJe6gqG"
      },
      "outputs": [],
      "source": [
        "img.shape"
      ]
    },
    {
      "cell_type": "code",
      "execution_count": null,
      "metadata": {
        "id": "LNV4KEv66gqD"
      },
      "outputs": [],
      "source": [
        "img[0]"
      ]
    },
    {
      "cell_type": "code",
      "execution_count": null,
      "metadata": {
        "id": "rPoJRXvM6gp_"
      },
      "outputs": [],
      "source": [
        "plt.imshow(img,cmap=plt.cm.gray)\n",
        "plt.axis('off')"
      ]
    },
    {
      "cell_type": "markdown",
      "metadata": {
        "id": "YPwQ2P1U6gp9"
      },
      "source": [
        ""
      ]
    },
    {
      "cell_type": "code",
      "execution_count": null,
      "metadata": {
        "id": "ipa5FmWg6gp4"
      },
      "outputs": [],
      "source": [
        "flip = np.flipud(img)"
      ]
    },
    {
      "cell_type": "code",
      "execution_count": null,
      "metadata": {
        "id": "0bchl-is6gpy"
      },
      "outputs": [],
      "source": [
        "plt.imshow(flip)\n",
        "plt.axis('off')"
      ]
    },
    {
      "cell_type": "code",
      "execution_count": null,
      "metadata": {
        "id": "G6703sJ69Hgo"
      },
      "outputs": [],
      "source": [
        ""
      ]
    }
  ],
  "metadata": {
    "colab": {
      "collapsed_sections": [],
      "name": "numpy.ipynb",
      "provenance": [],
      "toc_visible": true
    },
    "kernelspec": {
      "display_name": "Python 3",
      "language": "python",
      "name": "python3"
    },
    "language_info": {
      "codemirror_mode": {
        "name": "ipython",
        "version": 3
      },
      "file_extension": ".py",
      "mimetype": "text/x-python",
      "name": "python",
      "nbconvert_exporter": "python",
      "pygments_lexer": "ipython3",
      "version": "3.6.5"
    }
  },
  "nbformat": 4,
  "nbformat_minor": 0
}