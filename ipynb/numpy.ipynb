{
 "cells": [
  {
   "cell_type": "markdown",
   "metadata": {
    "colab_type": "text",
    "id": "PAaI2OuwT8GI"
   },
   "source": [
    "# Numpy: Operations with multidimensional data\n",
    "\n",
    "This notebook is based (with some modifications) on a [NumPy tutorial](https://github.com/jrjohansson/scientific-python-lectures/blob/master/Lecture-2-Numpy.ipynb) by J.R. Johansson"
   ]
  },
  {
   "cell_type": "code",
   "execution_count": null,
   "metadata": {
    "colab": {},
    "colab_type": "code",
    "id": "vQjkVFN3T4eY"
   },
   "outputs": [],
   "source": [
    "# Import MatPlotlib so we can look at some pretty plots\n",
    "# The reson for doing this will become clear in out MatPlotLib lecture next week\n",
    "%matplotlib inline\n",
    "import matplotlib.pyplot as plt"
   ]
  },
  {
   "cell_type": "markdown",
   "metadata": {
    "colab_type": "text",
    "id": "XlcKlCdnUqjH"
   },
   "source": [
    "## Introduction\n",
    "\n",
    "-------\n",
    "\n",
    "The numpy package (module) is used in almost all numerical computation using Python. It is a package that provide high-performance vector, matrix and higher-dimensional data structures for Python. It is implemented in C and Fortran so when calculations are vectorized (formulated with vectors and matrices), performance is very good.\n",
    "\n",
    "To use numpy you need to import the module, using for example:"
   ]
  },
  {
   "cell_type": "code",
   "execution_count": null,
   "metadata": {
    "colab": {},
    "colab_type": "code",
    "id": "sl3vLf43Ulk6"
   },
   "outputs": [],
   "source": [
    "from numpy import *"
   ]
  },
  {
   "cell_type": "markdown",
   "metadata": {
    "colab_type": "text",
    "id": "UpGwnCxb5wo6"
   },
   "source": [
    "In the numpy package the terminology used for vectors, matrices and higher-dimensional data sets is array.\n",
    "\n",
    "## Creating numpy arrays\n",
    "\n",
    "-------\n",
    "\n",
    "There are a number of ways to initialize new numpy arrays, for example from\n",
    "\n",
    " - a Python list or tuples\n",
    " - using functions that are dedicated to generating numpy arrays, such as arange, linspace, etc.\n",
    " - reading data from files\n",
    "\n",
    "### From lists\n",
    "For example, to create new vector and matrix arrays from Python lists we can use the `numpy.array` function."
   ]
  },
  {
   "cell_type": "code",
   "execution_count": null,
   "metadata": {
    "colab": {
     "base_uri": "https://localhost:8080/",
     "height": 34
    },
    "colab_type": "code",
    "id": "3suZc_nyUzKT",
    "outputId": "a20d248a-dfcc-4256-c7ad-894539d6327c"
   },
   "outputs": [],
   "source": [
    "# a vector: the argument to the array function is a Python list\n",
    "vector = array([1,2,3,4])\n",
    "\n",
    "vector"
   ]
  },
  {
   "cell_type": "code",
   "execution_count": null,
   "metadata": {
    "colab": {
     "base_uri": "https://localhost:8080/",
     "height": 51
    },
    "colab_type": "code",
    "id": "eeFilgzg6FQH",
    "outputId": "c6c1ab19-7f49-4e06-8d68-4b07fc59786c"
   },
   "outputs": [],
   "source": [
    "# a matrix: the argument to the array function is a nested Python list\n",
    "matrix = array([[1, 2], [3, 4]])\n",
    "\n",
    "matrix"
   ]
  },
  {
   "cell_type": "markdown",
   "metadata": {
    "colab_type": "text",
    "id": "-R3SPBzj6ROt"
   },
   "source": [
    "The `v` and `M` objects are both of the type ndarray that the numpy module provides:"
   ]
  },
  {
   "cell_type": "code",
   "execution_count": null,
   "metadata": {
    "colab": {
     "base_uri": "https://localhost:8080/",
     "height": 34
    },
    "colab_type": "code",
    "id": "3HHsPFYC6J5t",
    "outputId": "cf3a85b0-467d-44da-9373-0dc39ae867e6"
   },
   "outputs": [],
   "source": [
    "type(vector), type(matrix)"
   ]
  },
  {
   "cell_type": "markdown",
   "metadata": {
    "colab_type": "text",
    "id": "TotJfenG6aJq"
   },
   "source": [
    "The difference between the v and M arrays is only their shapes. We can get information about the shape of an array by using the `ndarray.shape` property:"
   ]
  },
  {
   "cell_type": "code",
   "execution_count": null,
   "metadata": {
    "colab": {
     "base_uri": "https://localhost:8080/",
     "height": 34
    },
    "colab_type": "code",
    "id": "LMKHGwIm6X08",
    "outputId": "bdae3959-8fd3-4d8a-a029-b7897c6bef94"
   },
   "outputs": [],
   "source": [
    "vector.shape"
   ]
  },
  {
   "cell_type": "code",
   "execution_count": null,
   "metadata": {
    "colab": {
     "base_uri": "https://localhost:8080/",
     "height": 34
    },
    "colab_type": "code",
    "id": "Kth6uJtC6nh5",
    "outputId": "29339e0b-21fe-49e1-c91f-9103435c9de1"
   },
   "outputs": [],
   "source": [
    "matrix.shape"
   ]
  },
  {
   "cell_type": "markdown",
   "metadata": {
    "colab_type": "text",
    "id": "JS_60Flc63t9"
   },
   "source": [
    "The number of elements in the array is available through the `ndarray.size` property:"
   ]
  },
  {
   "cell_type": "code",
   "execution_count": null,
   "metadata": {
    "colab": {
     "base_uri": "https://localhost:8080/",
     "height": 34
    },
    "colab_type": "code",
    "id": "h5Ahd-L96pDR",
    "outputId": "a7f985e8-0988-48b1-abf6-ae9adadbf83e"
   },
   "outputs": [],
   "source": [
    "matrix.size"
   ]
  },
  {
   "cell_type": "markdown",
   "metadata": {
    "colab_type": "text",
    "id": "RNMkmet_7GKd"
   },
   "source": [
    "Equivalently, we could use the function `numpy.shape` and `numpy.size`:"
   ]
  },
  {
   "cell_type": "code",
   "execution_count": null,
   "metadata": {
    "colab": {
     "base_uri": "https://localhost:8080/",
     "height": 34
    },
    "colab_type": "code",
    "id": "6_ppIH137Ep4",
    "outputId": "984ad0d5-60bd-4fac-cb7c-4f6ff29e2720"
   },
   "outputs": [],
   "source": [
    "shape(matrix)"
   ]
  },
  {
   "cell_type": "code",
   "execution_count": null,
   "metadata": {
    "colab": {
     "base_uri": "https://localhost:8080/",
     "height": 34
    },
    "colab_type": "code",
    "id": "KFIz-HKp7NNy",
    "outputId": "42725656-ea0c-4330-9422-9ace42d2fabd"
   },
   "outputs": [],
   "source": [
    "size(matrix)"
   ]
  },
  {
   "cell_type": "markdown",
   "metadata": {
    "colab_type": "text",
    "id": "Uia62YXV7et7"
   },
   "source": [
    "So far the `numpy.ndarray` looks awefully much like a Python list (or nested list). Why not simply use Python lists for computations instead of creating a new array type?\n",
    "\n",
    "There are several reasons:\n",
    "\n",
    " - Python lists are very general. They can contain any kind of object. They are dynamically typed. They do not support mathematical functions such as matrix and dot multiplications, etc. Implementing such functions for Python lists would not be very efficient because of the dynamic typing.\n",
    " - Numpy arrays are **statically typed** and **homogeneous**. The type of the elements is determined when the array is created.\n",
    " - Numpy arrays are memory efficient.\n",
    " - Because of the static typing, fast implementation of mathematical functions such as multiplication and addition of numpy arrays can be implemented in a compiled language (C and Fortran is used).\n",
    "Using the `dtype` (data type) property of an ndarray, we can see what type the data of an array has:"
   ]
  },
  {
   "cell_type": "code",
   "execution_count": null,
   "metadata": {
    "colab": {
     "base_uri": "https://localhost:8080/",
     "height": 34
    },
    "colab_type": "code",
    "id": "hbyx74kA7Oqn",
    "outputId": "a25d091c-7880-4a8a-d887-238d40fd0064"
   },
   "outputs": [],
   "source": [
    "matrix.dtype"
   ]
  },
  {
   "cell_type": "markdown",
   "metadata": {
    "colab_type": "text",
    "id": "pU1LnYXS8DTW"
   },
   "source": [
    "We get an error if we try to assign a value of the wrong type to an element in a numpy array:"
   ]
  },
  {
   "cell_type": "code",
   "execution_count": null,
   "metadata": {
    "colab": {
     "base_uri": "https://localhost:8080/",
     "height": 163
    },
    "colab_type": "code",
    "id": "aqpbJLaL8Bf0",
    "outputId": "b95086d9-9e8d-420c-a25a-7c4503424d77"
   },
   "outputs": [],
   "source": [
    "matrix[0,0] = \"hello\""
   ]
  },
  {
   "cell_type": "markdown",
   "metadata": {
    "colab_type": "text",
    "id": "YB3dlitr8LhH"
   },
   "source": [
    "If we want, we can explicitly define the type of the array data when we create it, using the `dtype` keyword argument:"
   ]
  },
  {
   "cell_type": "code",
   "execution_count": null,
   "metadata": {
    "colab": {
     "base_uri": "https://localhost:8080/",
     "height": 51
    },
    "colab_type": "code",
    "id": "LwWdvN-E8H8M",
    "outputId": "1116d921-fccc-4c01-d4bd-9a4547e7c6e7"
   },
   "outputs": [],
   "source": [
    "matrix = array([[1, 2], [3, 4]], dtype=float)\n",
    "\n",
    "matrix"
   ]
  },
  {
   "cell_type": "markdown",
   "metadata": {
    "colab_type": "text",
    "id": "8tv3w6GW8b8o"
   },
   "source": [
    "Common data types that can be used with dtype are: `int`, `float`, `complex`, `bool`, etc.\n",
    "\n",
    "We can also explicitly define the bit size of the data types, for example: `int64`, `int16`, `float128`, `complex128`.\n",
    "\n"
   ]
  },
  {
   "cell_type": "markdown",
   "metadata": {
    "colab_type": "text",
    "id": "3IXgGaQz82UZ"
   },
   "source": [
    "### Using array-generating functions\n",
    "For larger arrays it is inpractical to initialize the data manually, using explicit python lists. Instead we can use one of the many functions in numpy that generate arrays of different forms. Some of the more common are:\n",
    "\n",
    "**`arange`**\n"
   ]
  },
  {
   "cell_type": "code",
   "execution_count": null,
   "metadata": {
    "colab": {
     "base_uri": "https://localhost:8080/",
     "height": 34
    },
    "colab_type": "code",
    "id": "OXsJtv_L8W8J",
    "outputId": "429237c4-0fcc-4123-9816-f4881f1fa558"
   },
   "outputs": [],
   "source": [
    "# create a range\n",
    "\n",
    "x = arange(0, 10, 1) # arguments: start, stop, step\n",
    "\n",
    "x"
   ]
  },
  {
   "cell_type": "code",
   "execution_count": null,
   "metadata": {
    "colab": {
     "base_uri": "https://localhost:8080/",
     "height": 102
    },
    "colab_type": "code",
    "id": "U-draCYT9Lxh",
    "outputId": "66eb588f-f8f9-449c-c2de-b5fed2eb4de3"
   },
   "outputs": [],
   "source": [
    "x = arange(-1, 1, 0.1)\n",
    "\n",
    "x"
   ]
  },
  {
   "cell_type": "markdown",
   "metadata": {
    "colab_type": "text",
    "id": "id-dgLar82Sq"
   },
   "source": [
    "**`linspace`** and **`logspace`**"
   ]
  },
  {
   "cell_type": "code",
   "execution_count": null,
   "metadata": {
    "colab": {
     "base_uri": "https://localhost:8080/",
     "height": 102
    },
    "colab_type": "code",
    "id": "x9eATKhC9Uz1",
    "outputId": "d972c5d4-7810-4fde-df6e-168a92b3d1dc"
   },
   "outputs": [],
   "source": [
    "# using linspace, both end points ARE included\n",
    "linspace(0, 10, 25)"
   ]
  },
  {
   "cell_type": "code",
   "execution_count": null,
   "metadata": {
    "colab": {
     "base_uri": "https://localhost:8080/",
     "height": 68
    },
    "colab_type": "code",
    "id": "429mHNjV9Wuh",
    "outputId": "61639733-c6ab-4812-afa5-3380ffc133c0"
   },
   "outputs": [],
   "source": [
    "logspace(0, 10, 10, base=e)"
   ]
  },
  {
   "cell_type": "markdown",
   "metadata": {
    "colab_type": "text",
    "id": "IReqIYz09a_X"
   },
   "source": [
    "**`mgrid`**"
   ]
  },
  {
   "cell_type": "code",
   "execution_count": null,
   "metadata": {
    "colab": {},
    "colab_type": "code",
    "id": "_DXsdEod9Y5N"
   },
   "outputs": [],
   "source": [
    "x, y = mgrid[0:5, 0:5]"
   ]
  },
  {
   "cell_type": "code",
   "execution_count": null,
   "metadata": {
    "colab": {
     "base_uri": "https://localhost:8080/",
     "height": 102
    },
    "colab_type": "code",
    "id": "7tTa7mco9ggU",
    "outputId": "f17f85c6-51f5-45b6-ef29-134d6b07c42d"
   },
   "outputs": [],
   "source": [
    "x"
   ]
  },
  {
   "cell_type": "code",
   "execution_count": null,
   "metadata": {
    "colab": {
     "base_uri": "https://localhost:8080/",
     "height": 102
    },
    "colab_type": "code",
    "id": "0DK_8YQx9hSP",
    "outputId": "cf178439-827d-4f65-99e8-693ba0492e66"
   },
   "outputs": [],
   "source": [
    "y"
   ]
  },
  {
   "cell_type": "markdown",
   "metadata": {
    "colab_type": "text",
    "id": "tvhQ0jPr_Dj8"
   },
   "source": [
    "**random data**"
   ]
  },
  {
   "cell_type": "code",
   "execution_count": null,
   "metadata": {
    "colab": {},
    "colab_type": "code",
    "id": "QzRIGenh-lKL"
   },
   "outputs": [],
   "source": [
    "from numpy import random"
   ]
  },
  {
   "cell_type": "code",
   "execution_count": null,
   "metadata": {
    "colab": {
     "base_uri": "https://localhost:8080/",
     "height": 102
    },
    "colab_type": "code",
    "id": "J6FNot0D_J92",
    "outputId": "15ed393e-1bd9-4e4f-daac-637b844c9e7f"
   },
   "outputs": [],
   "source": [
    "# uniform random numbers in [0,1]\n",
    "random.rand(5,5)"
   ]
  },
  {
   "cell_type": "code",
   "execution_count": null,
   "metadata": {
    "colab": {
     "base_uri": "https://localhost:8080/",
     "height": 102
    },
    "colab_type": "code",
    "id": "DJAvOD91_LWQ",
    "outputId": "21b827e5-7366-4790-9e9b-4e406bf23f35"
   },
   "outputs": [],
   "source": [
    "# standard normal distributed random numbers\n",
    "random.randn(5,5)"
   ]
  },
  {
   "cell_type": "code",
   "execution_count": null,
   "metadata": {
    "colab": {},
    "colab_type": "code",
    "id": "bXcuhreV_NE_"
   },
   "outputs": [],
   "source": [
    "import seaborn as sns"
   ]
  },
  {
   "cell_type": "code",
   "execution_count": null,
   "metadata": {
    "colab": {
     "base_uri": "https://localhost:8080/",
     "height": 353
    },
    "colab_type": "code",
    "id": "LtlFyf1v_tSD",
    "outputId": "3d0fcd67-cfa2-46d5-b58b-3fea254c6e3a"
   },
   "outputs": [],
   "source": [
    "# Let's plot uniform distribution\n",
    "\n",
    "x = random.rand(1000)\n",
    "sns.set_style('whitegrid')\n",
    "sns.distplot(x)"
   ]
  },
  {
   "cell_type": "code",
   "execution_count": null,
   "metadata": {
    "colab": {
     "base_uri": "https://localhost:8080/",
     "height": 353
    },
    "colab_type": "code",
    "id": "aW17W152_vQR",
    "outputId": "cc144c04-64f9-431a-e422-538d307ca9b4"
   },
   "outputs": [],
   "source": [
    "# Let's plot normal distribution\n",
    "\n",
    "x = random.randn(100000)\n",
    "sns.set_style('whitegrid')\n",
    "sns.distplot(x)"
   ]
  },
  {
   "cell_type": "code",
   "execution_count": null,
   "metadata": {
    "colab": {
     "base_uri": "https://localhost:8080/",
     "height": 353
    },
    "colab_type": "code",
    "id": "jpovzBerBqwK",
    "outputId": "65d3e8a5-ab64-45c7-933f-f89656bef3cd"
   },
   "outputs": [],
   "source": [
    "# Let's plot poisson distribution\n",
    "\n",
    "x = random.poisson(5, 1000)\n",
    "sns.set_style('whitegrid')\n",
    "sns.distplot(x)"
   ]
  },
  {
   "cell_type": "code",
   "execution_count": null,
   "metadata": {
    "colab": {},
    "colab_type": "code",
    "id": "8R8faSgZMjCz"
   },
   "outputs": [],
   "source": []
  },
  {
   "cell_type": "markdown",
   "metadata": {
    "colab_type": "text",
    "id": "QBGwIMI8C87a"
   },
   "source": [
    "**`diag`**"
   ]
  },
  {
   "cell_type": "code",
   "execution_count": null,
   "metadata": {
    "colab": {
     "base_uri": "https://localhost:8080/",
     "height": 68
    },
    "colab_type": "code",
    "id": "qDroPOKUCSpm",
    "outputId": "4ef9b4ac-d9a8-418f-8719-a30e7f1c5b1a"
   },
   "outputs": [],
   "source": [
    "# a diagonal matrix\n",
    "diag([1,2,3])"
   ]
  },
  {
   "cell_type": "code",
   "execution_count": null,
   "metadata": {
    "colab": {
     "base_uri": "https://localhost:8080/",
     "height": 85
    },
    "colab_type": "code",
    "id": "vmaw6RZqDAV4",
    "outputId": "912330e1-104a-401f-fde6-e683d30467d0"
   },
   "outputs": [],
   "source": [
    "# diagonal with offset from the main diagonal\n",
    "diag([1,2,3], k=1)"
   ]
  },
  {
   "cell_type": "markdown",
   "metadata": {
    "colab_type": "text",
    "id": "Kz8diw8LDDUp"
   },
   "source": [
    "**zeroes** and **ones**"
   ]
  },
  {
   "cell_type": "code",
   "execution_count": null,
   "metadata": {
    "colab": {
     "base_uri": "https://localhost:8080/",
     "height": 68
    },
    "colab_type": "code",
    "id": "L9hLnrSKDBwP",
    "outputId": "b0f7a001-16f1-41bc-af95-cde184429210"
   },
   "outputs": [],
   "source": [
    "zeros((3,3))"
   ]
  },
  {
   "cell_type": "code",
   "execution_count": null,
   "metadata": {
    "colab": {
     "base_uri": "https://localhost:8080/",
     "height": 68
    },
    "colab_type": "code",
    "id": "fmENy-orDJmc",
    "outputId": "278abe0e-a6a5-42c5-ec39-07acd5af7d29"
   },
   "outputs": [],
   "source": [
    "ones((3,3))"
   ]
  },
  {
   "cell_type": "markdown",
   "metadata": {
    "colab_type": "text",
    "id": "1c9CplWSDPcu"
   },
   "source": [
    "## File IO"
   ]
  },
  {
   "cell_type": "markdown",
   "metadata": {
    "colab_type": "text",
    "id": "eq80bLd9DYa2"
   },
   "source": [
    "### Comma-separated values (CSV)\n",
    "A very common file format for data files is comma-separated values (CSV), or related formats such as TSV (tab-separated values). To read data from such files into Numpy arrays we can use the `numpy.genfromtxt` function. For example:"
   ]
  },
  {
   "cell_type": "code",
   "execution_count": null,
   "metadata": {
    "colab": {
     "base_uri": "https://localhost:8080/",
     "height": 224
    },
    "colab_type": "code",
    "id": "3FKryGU7DK7t",
    "outputId": "7640cb22-e7c7-4998-e888-679f1aa0ebee"
   },
   "outputs": [],
   "source": [
    "!wget https://raw.githubusercontent.com/jrjohansson/scientific-python-lectures/master/stockholm_td_adj.dat"
   ]
  },
  {
   "cell_type": "code",
   "execution_count": null,
   "metadata": {
    "colab": {
     "base_uri": "https://localhost:8080/",
     "height": 187
    },
    "colab_type": "code",
    "id": "rw6cj3I_DmBp",
    "outputId": "a9e381a7-7fb2-4766-c280-5f817f9cae92"
   },
   "outputs": [],
   "source": [
    "!head stockholm_td_adj.dat"
   ]
  },
  {
   "cell_type": "code",
   "execution_count": null,
   "metadata": {
    "colab": {},
    "colab_type": "code",
    "id": "4mDe8MipDqpp"
   },
   "outputs": [],
   "source": [
    "data = genfromtxt('stockholm_td_adj.dat')"
   ]
  },
  {
   "cell_type": "code",
   "execution_count": null,
   "metadata": {
    "colab": {
     "base_uri": "https://localhost:8080/",
     "height": 34
    },
    "colab_type": "code",
    "id": "SVwr4gHIDsSw",
    "outputId": "9c615924-c931-4c30-dafe-2ec886b8554f"
   },
   "outputs": [],
   "source": [
    "data.shape"
   ]
  },
  {
   "cell_type": "code",
   "execution_count": null,
   "metadata": {
    "colab": {
     "base_uri": "https://localhost:8080/",
     "height": 314
    },
    "colab_type": "code",
    "id": "FVk3cwwHDvRI",
    "outputId": "1163f08c-1ea6-40c7-ad26-270ed1138ff0"
   },
   "outputs": [],
   "source": [
    "fig, ax = plt.subplots(figsize=(14,4))\n",
    "ax.plot(data[:,0]+data[:,1]/12.0+data[:,2]/365, data[:,5])\n",
    "ax.axis('tight')\n",
    "ax.set_title('tempeatures in Stockholm')\n",
    "ax.set_xlabel('year')\n",
    "ax.set_ylabel('temperature (C)');"
   ]
  },
  {
   "cell_type": "markdown",
   "metadata": {
    "colab_type": "text",
    "id": "aiOGIgG5D9Np"
   },
   "source": [
    "Using `numpy.savetxt` we can store a Numpy array to a file in CSV format:"
   ]
  },
  {
   "cell_type": "code",
   "execution_count": null,
   "metadata": {
    "colab": {
     "base_uri": "https://localhost:8080/",
     "height": 68
    },
    "colab_type": "code",
    "id": "CO1jlMKTDw1J",
    "outputId": "459b6752-3f24-4a57-d21c-2779ba57e7d7"
   },
   "outputs": [],
   "source": [
    "M = random.rand(3,3)\n",
    "\n",
    "M"
   ]
  },
  {
   "cell_type": "code",
   "execution_count": null,
   "metadata": {
    "colab": {},
    "colab_type": "code",
    "id": "mH_0TzRoEBcH"
   },
   "outputs": [],
   "source": [
    "savetxt(\"random-matrix.csv\", M)\n"
   ]
  },
  {
   "cell_type": "code",
   "execution_count": null,
   "metadata": {
    "colab": {
     "base_uri": "https://localhost:8080/",
     "height": 68
    },
    "colab_type": "code",
    "id": "1rjkRxqhECoZ",
    "outputId": "ea32ae94-a16f-4b77-9ee9-d2e3207878d8"
   },
   "outputs": [],
   "source": [
    "!cat random-matrix.csv"
   ]
  },
  {
   "cell_type": "code",
   "execution_count": null,
   "metadata": {
    "colab": {
     "base_uri": "https://localhost:8080/",
     "height": 68
    },
    "colab_type": "code",
    "id": "4drZZmxkEEFC",
    "outputId": "bc1e4295-609e-48dc-eb9b-677bb48df61a"
   },
   "outputs": [],
   "source": [
    "savetxt(\"random-matrix.csv\", M, fmt='%.5f') # fmt specifies the format\n",
    "\n",
    "!cat random-matrix.csv"
   ]
  },
  {
   "cell_type": "markdown",
   "metadata": {
    "colab_type": "text",
    "id": "TngHFJDREI_M"
   },
   "source": [
    "### Numpy's native file format\n",
    "Useful when storing and reading back numpy array data. Use the functions `numpy.save` and `numpy.load`:"
   ]
  },
  {
   "cell_type": "code",
   "execution_count": null,
   "metadata": {
    "colab": {
     "base_uri": "https://localhost:8080/",
     "height": 221
    },
    "colab_type": "code",
    "id": "zwK9twOyEF5D",
    "outputId": "c256d6b1-89e1-4990-d8c3-1d7b50ccf3a3"
   },
   "outputs": [],
   "source": [
    "save(\"random-matrix.npy\", M)\n",
    "\n",
    "!ls -lh *"
   ]
  },
  {
   "cell_type": "markdown",
   "metadata": {
    "colab_type": "text",
    "id": "nsLbEF95H09R"
   },
   "source": [
    "## Manipulating arrays\n",
    "--------\n",
    "\n",
    "### Indexing\n",
    "We can index elements in an array using square brackets and indices:"
   ]
  },
  {
   "cell_type": "code",
   "execution_count": null,
   "metadata": {
    "colab": {
     "base_uri": "https://localhost:8080/",
     "height": 34
    },
    "colab_type": "code",
    "id": "38_h7BfaIMm1",
    "outputId": "0e4da128-027e-41dd-fe28-0eda7cec00d3"
   },
   "outputs": [],
   "source": [
    "# vector, and has only one dimension, taking one index\n",
    "vector[0]"
   ]
  },
  {
   "cell_type": "code",
   "execution_count": null,
   "metadata": {
    "colab": {
     "base_uri": "https://localhost:8080/",
     "height": 34
    },
    "colab_type": "code",
    "id": "SQJU3OrvETsM",
    "outputId": "f4c2a0e7-00ed-4893-9027-8df100341aab"
   },
   "outputs": [],
   "source": [
    "# matrix is a 2 dimensional array, taking two indices \n",
    "matrix[1,1]"
   ]
  },
  {
   "cell_type": "markdown",
   "metadata": {
    "colab_type": "text",
    "id": "jmZXudUpIhfi"
   },
   "source": [
    "If we omit an index of a multidimensional array it returns the whole row (or, in general, a `N-1` dimensional array)\n",
    "\n"
   ]
  },
  {
   "cell_type": "code",
   "execution_count": null,
   "metadata": {
    "colab": {
     "base_uri": "https://localhost:8080/",
     "height": 51
    },
    "colab_type": "code",
    "id": "i8w18WqeIctG",
    "outputId": "816a1046-fad7-41ed-c002-59ecab011ba7"
   },
   "outputs": [],
   "source": [
    "matrix"
   ]
  },
  {
   "cell_type": "code",
   "execution_count": null,
   "metadata": {
    "colab": {
     "base_uri": "https://localhost:8080/",
     "height": 34
    },
    "colab_type": "code",
    "id": "ZyQqPy9yImHJ",
    "outputId": "20c10cad-b06e-417d-e0a9-be829ccc1c1e"
   },
   "outputs": [],
   "source": [
    "matrix[1]"
   ]
  },
  {
   "cell_type": "markdown",
   "metadata": {
    "colab_type": "text",
    "id": "HXh3lN0TIuSY"
   },
   "source": [
    "The same thing can be achieved with using `:` instead of an index:\n",
    "\n"
   ]
  },
  {
   "cell_type": "code",
   "execution_count": null,
   "metadata": {
    "colab": {
     "base_uri": "https://localhost:8080/",
     "height": 34
    },
    "colab_type": "code",
    "id": "btk6C_bEIq_L",
    "outputId": "2488b5fb-eb57-4a5e-e142-ce4da4163770"
   },
   "outputs": [],
   "source": [
    "matrix[1,:] #row 1"
   ]
  },
  {
   "cell_type": "code",
   "execution_count": null,
   "metadata": {
    "colab": {
     "base_uri": "https://localhost:8080/",
     "height": 34
    },
    "colab_type": "code",
    "id": "GyaZv03bI0Pj",
    "outputId": "cf82d795-dbf0-4575-b14d-d7f8a0e8be8e"
   },
   "outputs": [],
   "source": [
    "matrix[:,1] #column 1"
   ]
  },
  {
   "cell_type": "markdown",
   "metadata": {
    "colab_type": "text",
    "id": "7EN0OCH2I7tL"
   },
   "source": [
    "We can assign new values to elements in an array using indexing:"
   ]
  },
  {
   "cell_type": "code",
   "execution_count": null,
   "metadata": {
    "colab": {},
    "colab_type": "code",
    "id": "pGpiwoveI5nj"
   },
   "outputs": [],
   "source": [
    "matrix[1,1] = 1"
   ]
  },
  {
   "cell_type": "code",
   "execution_count": null,
   "metadata": {
    "colab": {
     "base_uri": "https://localhost:8080/",
     "height": 51
    },
    "colab_type": "code",
    "id": "BtDLmRdbI-qe",
    "outputId": "ac3b60dc-7ad5-4730-b4b7-eb578b62ec7c"
   },
   "outputs": [],
   "source": [
    "matrix"
   ]
  },
  {
   "cell_type": "code",
   "execution_count": null,
   "metadata": {
    "colab": {},
    "colab_type": "code",
    "id": "ck5QHr96JBPh"
   },
   "outputs": [],
   "source": [
    "# also works for rows and columns\n",
    "matrix[1,:] = 0\n",
    "matrix[:,1] = -1"
   ]
  },
  {
   "cell_type": "code",
   "execution_count": null,
   "metadata": {
    "colab": {
     "base_uri": "https://localhost:8080/",
     "height": 51
    },
    "colab_type": "code",
    "id": "NgWt2iNWJIHg",
    "outputId": "1930a7ed-9cfd-434c-fac5-faf59bffc91c"
   },
   "outputs": [],
   "source": [
    "matrix"
   ]
  },
  {
   "cell_type": "markdown",
   "metadata": {
    "colab_type": "text",
    "id": "7uDgrHbNJeRx"
   },
   "source": [
    "### Index slicing\n",
    "\n",
    "Index slicing is the technical name for the syntax `M[lower:upper:step]` to extract part of an array:\n",
    "\n"
   ]
  },
  {
   "cell_type": "code",
   "execution_count": null,
   "metadata": {
    "colab": {
     "base_uri": "https://localhost:8080/",
     "height": 34
    },
    "colab_type": "code",
    "id": "SmjAf0FyJVCk",
    "outputId": "2d45d89c-ae98-4588-f728-69ab27cbf738"
   },
   "outputs": [],
   "source": [
    "A = array([1,2,3,4,5])\n",
    "A"
   ]
  },
  {
   "cell_type": "code",
   "execution_count": null,
   "metadata": {
    "colab": {
     "base_uri": "https://localhost:8080/",
     "height": 34
    },
    "colab_type": "code",
    "id": "P74_w40pJnbQ",
    "outputId": "061087e0-d6db-40ab-fb43-74c1ab46a447"
   },
   "outputs": [],
   "source": [
    "A[1:3] = [-2,-3]\n",
    "\n",
    "A"
   ]
  },
  {
   "cell_type": "code",
   "execution_count": null,
   "metadata": {
    "colab": {
     "base_uri": "https://localhost:8080/",
     "height": 34
    },
    "colab_type": "code",
    "id": "67L6fhGqJpM0",
    "outputId": "7907f08a-508a-4fbe-a3fa-9636b6048e9b"
   },
   "outputs": [],
   "source": [
    "A[::] # lower, upper, step all take the default values"
   ]
  },
  {
   "cell_type": "code",
   "execution_count": null,
   "metadata": {
    "colab": {
     "base_uri": "https://localhost:8080/",
     "height": 34
    },
    "colab_type": "code",
    "id": "BnA9S08MJrpQ",
    "outputId": "bf76db20-e0d6-4e6a-8b1a-3cd0d68c6018"
   },
   "outputs": [],
   "source": [
    "A[::2] # step is 2, lower and upper defaults to the beginning and end of the array"
   ]
  },
  {
   "cell_type": "code",
   "execution_count": null,
   "metadata": {
    "colab": {
     "base_uri": "https://localhost:8080/",
     "height": 34
    },
    "colab_type": "code",
    "id": "THHUSHPfJuaS",
    "outputId": "df94900a-3eee-46b3-be59-a238eaea8329"
   },
   "outputs": [],
   "source": [
    "A[:3] # first three elements"
   ]
  },
  {
   "cell_type": "code",
   "execution_count": null,
   "metadata": {
    "colab": {
     "base_uri": "https://localhost:8080/",
     "height": 34
    },
    "colab_type": "code",
    "id": "7mgU5PLyJv0c",
    "outputId": "1a0a54cc-3c4d-4553-df23-6af7697d4241"
   },
   "outputs": [],
   "source": [
    "A[3:] # elements from index 3"
   ]
  },
  {
   "cell_type": "markdown",
   "metadata": {
    "colab_type": "text",
    "id": "yr0aFon_JzCE"
   },
   "source": [
    "Negative indices counts from the end of the array (positive index from the begining):"
   ]
  },
  {
   "cell_type": "code",
   "execution_count": null,
   "metadata": {
    "colab": {},
    "colab_type": "code",
    "id": "7OD1tDqYJxVT"
   },
   "outputs": [],
   "source": [
    "A = array([1,2,3,4,5])"
   ]
  },
  {
   "cell_type": "code",
   "execution_count": null,
   "metadata": {
    "colab": {
     "base_uri": "https://localhost:8080/",
     "height": 34
    },
    "colab_type": "code",
    "id": "wXGbE8ZQJ2qr",
    "outputId": "ad3a98d3-9903-4376-e28c-216f6a7ff689"
   },
   "outputs": [],
   "source": [
    "A[-1] # the last element in the array"
   ]
  },
  {
   "cell_type": "code",
   "execution_count": null,
   "metadata": {
    "colab": {
     "base_uri": "https://localhost:8080/",
     "height": 34
    },
    "colab_type": "code",
    "id": "ph-hisdTJ4FY",
    "outputId": "2800d0b7-489f-4f5d-bdce-23cbe99df4ab"
   },
   "outputs": [],
   "source": [
    "A[-3:] # the last three elements\n"
   ]
  },
  {
   "cell_type": "markdown",
   "metadata": {
    "colab_type": "text",
    "id": "Oe8eYie6J-cN"
   },
   "source": [
    "Index slicing works exactly the same way for multidimensional arrays:\n"
   ]
  },
  {
   "cell_type": "code",
   "execution_count": null,
   "metadata": {
    "colab": {
     "base_uri": "https://localhost:8080/",
     "height": 102
    },
    "colab_type": "code",
    "id": "rN4aB8HkJ5W7",
    "outputId": "b0da4213-7e02-4c55-f97c-888152ed43c5"
   },
   "outputs": [],
   "source": [
    "A = array([[n+m*10 for n in range(5)] for m in range(5)])\n",
    "\n",
    "A"
   ]
  },
  {
   "cell_type": "code",
   "execution_count": null,
   "metadata": {
    "colab": {
     "base_uri": "https://localhost:8080/",
     "height": 68
    },
    "colab_type": "code",
    "id": "R_tt5_S3KCCl",
    "outputId": "8be3c92e-6cbb-47a2-8830-37c5ba78b7b2"
   },
   "outputs": [],
   "source": [
    "# a block from the original array\n",
    "A[1:4, 1:4]"
   ]
  },
  {
   "cell_type": "code",
   "execution_count": null,
   "metadata": {
    "colab": {
     "base_uri": "https://localhost:8080/",
     "height": 68
    },
    "colab_type": "code",
    "id": "AohekOgeKKDL",
    "outputId": "c56a3ec8-635c-47a8-cb25-ba60222993dc"
   },
   "outputs": [],
   "source": [
    "# strides\n",
    "A[::2, ::2]"
   ]
  },
  {
   "cell_type": "markdown",
   "metadata": {
    "colab_type": "text",
    "id": "suvehokjLYbt"
   },
   "source": [
    "### Fancy indexing\n",
    "Fancy indexing is the name for when an array or list is used in-place of an index:"
   ]
  },
  {
   "cell_type": "code",
   "execution_count": null,
   "metadata": {
    "colab": {
     "base_uri": "https://localhost:8080/",
     "height": 68
    },
    "colab_type": "code",
    "id": "N9VZ_tDdKPOM",
    "outputId": "e0e0fe6c-a5c4-4436-88e6-54b88ab82f4d"
   },
   "outputs": [],
   "source": [
    "row_indices = [1, 2, 3]\n",
    "A[row_indices]"
   ]
  },
  {
   "cell_type": "code",
   "execution_count": null,
   "metadata": {
    "colab": {
     "base_uri": "https://localhost:8080/",
     "height": 34
    },
    "colab_type": "code",
    "id": "xCWphWLfLcMT",
    "outputId": "d2e9c4a4-fc31-4314-ca6a-d7520be9c610"
   },
   "outputs": [],
   "source": [
    "col_indices = [1, 2, -1] # remember, index -1 means the last element\n",
    "A[row_indices, col_indices]"
   ]
  },
  {
   "cell_type": "markdown",
   "metadata": {
    "colab_type": "text",
    "id": "2r1TAAFTN7fa"
   },
   "source": [
    "We can also use index masks: If the index mask is an Numpy array of data type `bool`, then an element is selected (True) or not (False) depending on the value of the index mask at the position of each element:"
   ]
  },
  {
   "cell_type": "code",
   "execution_count": null,
   "metadata": {
    "colab": {
     "base_uri": "https://localhost:8080/",
     "height": 34
    },
    "colab_type": "code",
    "id": "kGvNphJtLhvZ",
    "outputId": "10eea762-4f4c-42f5-c002-2a5fa8499b76"
   },
   "outputs": [],
   "source": [
    "B = array([n for n in range(5)])\n",
    "B"
   ]
  },
  {
   "cell_type": "code",
   "execution_count": null,
   "metadata": {
    "colab": {
     "base_uri": "https://localhost:8080/",
     "height": 34
    },
    "colab_type": "code",
    "id": "fnaG0tr5OBAq",
    "outputId": "c40988ce-9590-4cc7-e36d-50068c428d8b"
   },
   "outputs": [],
   "source": [
    "row_mask = array([True, False, True, False, False])\n",
    "B[row_mask]"
   ]
  },
  {
   "cell_type": "code",
   "execution_count": null,
   "metadata": {
    "colab": {
     "base_uri": "https://localhost:8080/",
     "height": 34
    },
    "colab_type": "code",
    "id": "8y2U2Z0_OFaz",
    "outputId": "8f43bb30-df30-4bd6-97dc-411c4825919d"
   },
   "outputs": [],
   "source": [
    "# same thing\n",
    "row_mask = array([1,0,1,0,0], dtype=bool)\n",
    "B[row_mask]"
   ]
  },
  {
   "cell_type": "markdown",
   "metadata": {
    "colab_type": "text",
    "id": "Nq2hwgDMOK5v"
   },
   "source": [
    "This feature is very useful to conditionally select elements from an array, using for example comparison operators:"
   ]
  },
  {
   "cell_type": "code",
   "execution_count": null,
   "metadata": {
    "colab": {
     "base_uri": "https://localhost:8080/",
     "height": 51
    },
    "colab_type": "code",
    "id": "OB2w0cRCOIqk",
    "outputId": "c717d039-20a8-420c-f419-330dfd71ce7f"
   },
   "outputs": [],
   "source": [
    "x = arange(0, 10, 0.5)\n",
    "x"
   ]
  },
  {
   "cell_type": "code",
   "execution_count": null,
   "metadata": {
    "colab": {
     "base_uri": "https://localhost:8080/",
     "height": 68
    },
    "colab_type": "code",
    "id": "nzqksRlGON1O",
    "outputId": "354f1877-c15b-4115-9d0d-f60f809cae58"
   },
   "outputs": [],
   "source": [
    "mask = (5 < x) * (x < 7.5)\n",
    "mask"
   ]
  },
  {
   "cell_type": "code",
   "execution_count": null,
   "metadata": {
    "colab": {
     "base_uri": "https://localhost:8080/",
     "height": 34
    },
    "colab_type": "code",
    "id": "i0T4IB87OPbs",
    "outputId": "ce554df3-7647-49cc-f8b9-20b66814d3d3"
   },
   "outputs": [],
   "source": [
    "x[mask]"
   ]
  },
  {
   "cell_type": "code",
   "execution_count": null,
   "metadata": {
    "colab": {
     "base_uri": "https://localhost:8080/",
     "height": 68
    },
    "colab_type": "code",
    "id": "SwwqV4DnOVdj",
    "outputId": "e501c710-cabc-48b4-eb4f-c81c31622816"
   },
   "outputs": [],
   "source": [
    "( 5 < x ) * (x < 7.5)"
   ]
  },
  {
   "cell_type": "markdown",
   "metadata": {
    "colab_type": "text",
    "id": "B193cBFiPzKQ"
   },
   "source": [
    "### Functions for extracting data from arrays and creating arrays\n",
    "\n",
    "#### where\n",
    "The index mask can be converted to position index using the where function"
   ]
  },
  {
   "cell_type": "code",
   "execution_count": null,
   "metadata": {
    "colab": {
     "base_uri": "https://localhost:8080/",
     "height": 34
    },
    "colab_type": "code",
    "id": "j5espRxlO2C2",
    "outputId": "d6becff6-828e-4031-9a8b-6439fc414f19"
   },
   "outputs": [],
   "source": [
    "indices = where(mask)\n",
    "\n",
    "indices"
   ]
  },
  {
   "cell_type": "code",
   "execution_count": null,
   "metadata": {
    "colab": {
     "base_uri": "https://localhost:8080/",
     "height": 34
    },
    "colab_type": "code",
    "id": "idjzhjknP6OI",
    "outputId": "47ffef68-5fca-4fd1-9dcb-e6534dcf2507"
   },
   "outputs": [],
   "source": [
    "x[indices] # this indexing is equivalent to the fancy indexing x[mask]"
   ]
  },
  {
   "cell_type": "markdown",
   "metadata": {
    "colab_type": "text",
    "id": "a8CCpQ6eQBkl"
   },
   "source": [
    "####diag\n",
    "With the diag function we can also extract the diagonal and subdiagonals of an array:"
   ]
  },
  {
   "cell_type": "code",
   "execution_count": null,
   "metadata": {
    "colab": {
     "base_uri": "https://localhost:8080/",
     "height": 102
    },
    "colab_type": "code",
    "id": "7aqVSdH7P-pJ",
    "outputId": "bcbb3603-26e8-4a3e-e656-a464a4fb11bc"
   },
   "outputs": [],
   "source": [
    "A"
   ]
  },
  {
   "cell_type": "code",
   "execution_count": null,
   "metadata": {
    "colab": {
     "base_uri": "https://localhost:8080/",
     "height": 34
    },
    "colab_type": "code",
    "id": "vuncArCJQItv",
    "outputId": "409d7ed3-dc5a-42da-f59d-c0df03e619ef"
   },
   "outputs": [],
   "source": [
    "diag(A)"
   ]
  },
  {
   "cell_type": "code",
   "execution_count": null,
   "metadata": {
    "colab": {
     "base_uri": "https://localhost:8080/",
     "height": 34
    },
    "colab_type": "code",
    "id": "aXCKiMI8QJK7",
    "outputId": "d1b7af22-f92a-48cf-ecb9-0915d28ffc4e"
   },
   "outputs": [],
   "source": [
    "diag(A, -1)"
   ]
  },
  {
   "cell_type": "markdown",
   "metadata": {
    "colab_type": "text",
    "id": "w0r9A4YcQOLQ"
   },
   "source": [
    "#### take\n",
    "The `take` function is similar to fancy indexing described above:"
   ]
  },
  {
   "cell_type": "code",
   "execution_count": null,
   "metadata": {
    "colab": {
     "base_uri": "https://localhost:8080/",
     "height": 34
    },
    "colab_type": "code",
    "id": "Uiku_uf3QLQV",
    "outputId": "22b1b8fd-ad18-4947-c804-7ef5da7e1626"
   },
   "outputs": [],
   "source": [
    "v2 = arange(-3,3)\n",
    "v2"
   ]
  },
  {
   "cell_type": "code",
   "execution_count": null,
   "metadata": {
    "colab": {
     "base_uri": "https://localhost:8080/",
     "height": 34
    },
    "colab_type": "code",
    "id": "KRSFAYBhQSq8",
    "outputId": "a1878303-4ad9-4e08-c0fb-a150112164e4"
   },
   "outputs": [],
   "source": [
    "row_indices = [1, 3, 5]\n",
    "v2[row_indices] # fancy indexing"
   ]
  },
  {
   "cell_type": "code",
   "execution_count": null,
   "metadata": {
    "colab": {
     "base_uri": "https://localhost:8080/",
     "height": 34
    },
    "colab_type": "code",
    "id": "3KI480ckQVAA",
    "outputId": "7133af5b-82a6-4014-84b3-ca93ba9d265b"
   },
   "outputs": [],
   "source": [
    "v2.take(row_indices)"
   ]
  },
  {
   "cell_type": "markdown",
   "metadata": {
    "colab_type": "text",
    "id": "9HiKmU0JQaZ1"
   },
   "source": [
    "But take also works on lists and other objects:\n"
   ]
  },
  {
   "cell_type": "code",
   "execution_count": null,
   "metadata": {
    "colab": {
     "base_uri": "https://localhost:8080/",
     "height": 34
    },
    "colab_type": "code",
    "id": "jyEH17JWQYuj",
    "outputId": "94cbcb49-9a8b-42d2-d0b1-1bca0c985bc2"
   },
   "outputs": [],
   "source": [
    "take([-3, -2, -1,  0,  1,  2], row_indices)"
   ]
  },
  {
   "cell_type": "markdown",
   "metadata": {
    "colab_type": "text",
    "id": "cJ8ug0c0R1yq"
   },
   "source": [
    "####choose\n",
    "Constructs an array by picking elements from several arrays:"
   ]
  },
  {
   "cell_type": "code",
   "execution_count": null,
   "metadata": {
    "colab": {
     "base_uri": "https://localhost:8080/",
     "height": 34
    },
    "colab_type": "code",
    "id": "-9qvEkyuQeg7",
    "outputId": "352f1df7-1ff2-4a7f-c580-9aad42660928"
   },
   "outputs": [],
   "source": [
    "which = [1, 0, 1, 0]\n",
    "choices = [[1,2,3,4], [-1,-2,-3,-4]]\n",
    "\n",
    "choose(which, choices)"
   ]
  },
  {
   "cell_type": "markdown",
   "metadata": {
    "colab_type": "text",
    "id": "Ni2Ec2ANSPFI"
   },
   "source": [
    "## Linear algebra\n",
    "--------\n",
    "Vectorizing code is the key to writing efficient numerical calculation with Python/Numpy. That means that as much as possible of a program should be formulated in terms of matrix and vector operations, like matrix-matrix multiplication."
   ]
  },
  {
   "cell_type": "markdown",
   "metadata": {
    "colab_type": "text",
    "id": "jqjwxXQXSTgT"
   },
   "source": [
    "### Scalar-array operations\n",
    "We can use the usual arithmetic operators to multiply, add, subtract, and divide arrays with scalar numbers."
   ]
  },
  {
   "cell_type": "code",
   "execution_count": null,
   "metadata": {
    "colab": {},
    "colab_type": "code",
    "id": "sGNxuEgdR-A5"
   },
   "outputs": [],
   "source": [
    "v1 = arange(0, 5)"
   ]
  },
  {
   "cell_type": "code",
   "execution_count": null,
   "metadata": {
    "colab": {
     "base_uri": "https://localhost:8080/",
     "height": 34
    },
    "colab_type": "code",
    "id": "VI0sNkPTSVWq",
    "outputId": "09003f18-fb65-49cb-f8ff-97221fc46b83"
   },
   "outputs": [],
   "source": [
    "v1"
   ]
  },
  {
   "cell_type": "code",
   "execution_count": null,
   "metadata": {
    "colab": {
     "base_uri": "https://localhost:8080/",
     "height": 34
    },
    "colab_type": "code",
    "id": "34i56iB9SZxs",
    "outputId": "7288e152-7c67-4b53-a287-d7a9ae854281"
   },
   "outputs": [],
   "source": [
    "v1 * 2"
   ]
  },
  {
   "cell_type": "code",
   "execution_count": null,
   "metadata": {
    "colab": {
     "base_uri": "https://localhost:8080/",
     "height": 34
    },
    "colab_type": "code",
    "id": "AKPWKGG5SbI5",
    "outputId": "cb0ecff6-0568-45b5-9de2-fbc5fe9c2d59"
   },
   "outputs": [],
   "source": [
    "v1 + 2"
   ]
  },
  {
   "cell_type": "code",
   "execution_count": null,
   "metadata": {
    "colab": {
     "base_uri": "https://localhost:8080/",
     "height": 102
    },
    "colab_type": "code",
    "id": "VmrGbEF5So7k",
    "outputId": "aa299520-c92c-4760-f2cc-69c2051a41a0"
   },
   "outputs": [],
   "source": [
    "A"
   ]
  },
  {
   "cell_type": "code",
   "execution_count": null,
   "metadata": {
    "colab": {
     "base_uri": "https://localhost:8080/",
     "height": 102
    },
    "colab_type": "code",
    "id": "JtiS2ydmScgy",
    "outputId": "300f2c36-8318-4d18-e1b4-d75d566cf17e"
   },
   "outputs": [],
   "source": [
    "A * 2"
   ]
  },
  {
   "cell_type": "code",
   "execution_count": null,
   "metadata": {
    "colab": {
     "base_uri": "https://localhost:8080/",
     "height": 102
    },
    "colab_type": "code",
    "id": "BcMcNZSpSmjn",
    "outputId": "f1596182-b1e3-4dfc-952b-2d6ff1ee813d"
   },
   "outputs": [],
   "source": [
    "A + 2"
   ]
  },
  {
   "cell_type": "markdown",
   "metadata": {
    "colab_type": "text",
    "id": "lDby75hPSuli"
   },
   "source": [
    "### Element-wise array-array operations\n",
    "When we add, subtract, multiply and divide arrays with each other, the default behaviour is element-wise operations:"
   ]
  },
  {
   "cell_type": "code",
   "execution_count": null,
   "metadata": {
    "colab": {
     "base_uri": "https://localhost:8080/",
     "height": 34
    },
    "colab_type": "code",
    "id": "_Po4tJ5wSzuf",
    "outputId": "13b23f09-0e4d-4cc0-aba4-4707c4459691"
   },
   "outputs": [],
   "source": [
    "v1 * v1"
   ]
  },
  {
   "cell_type": "code",
   "execution_count": null,
   "metadata": {
    "colab": {
     "base_uri": "https://localhost:8080/",
     "height": 102
    },
    "colab_type": "code",
    "id": "kFtbwY05SnR2",
    "outputId": "f8a63560-e466-4097-9233-7b8864ed3203"
   },
   "outputs": [],
   "source": [
    "A * A"
   ]
  },
  {
   "cell_type": "markdown",
   "metadata": {
    "colab_type": "text",
    "id": "PTlkuS4MS8np"
   },
   "source": [
    "If we multiply arrays with compatible shapes, we get an element-wise multiplication of each row:"
   ]
  },
  {
   "cell_type": "code",
   "execution_count": null,
   "metadata": {
    "colab": {
     "base_uri": "https://localhost:8080/",
     "height": 34
    },
    "colab_type": "code",
    "id": "CI2bYMYTS3jM",
    "outputId": "dc195111-8312-4a4d-9d8a-c3a0f123858d"
   },
   "outputs": [],
   "source": [
    "A.shape"
   ]
  },
  {
   "cell_type": "code",
   "execution_count": null,
   "metadata": {
    "colab": {
     "base_uri": "https://localhost:8080/",
     "height": 34
    },
    "colab_type": "code",
    "id": "uz-5BBQTS_Bf",
    "outputId": "1d8f9a7a-374b-4322-92df-8c8ac9e17e66"
   },
   "outputs": [],
   "source": [
    "v1.shape"
   ]
  },
  {
   "cell_type": "code",
   "execution_count": null,
   "metadata": {
    "colab": {
     "base_uri": "https://localhost:8080/",
     "height": 34
    },
    "colab_type": "code",
    "id": "tJBFWhglTFLE",
    "outputId": "6c9f6051-3db5-4f9f-e41e-922bf401ec56"
   },
   "outputs": [],
   "source": [
    "v1"
   ]
  },
  {
   "cell_type": "code",
   "execution_count": null,
   "metadata": {
    "colab": {
     "base_uri": "https://localhost:8080/",
     "height": 102
    },
    "colab_type": "code",
    "id": "U7FS1NH_TFRf",
    "outputId": "4a3751d5-013b-4829-f5ac-9f7e05596d19"
   },
   "outputs": [],
   "source": [
    "A"
   ]
  },
  {
   "cell_type": "code",
   "execution_count": null,
   "metadata": {
    "colab": {
     "base_uri": "https://localhost:8080/",
     "height": 102
    },
    "colab_type": "code",
    "id": "JqQ8FuVNS__A",
    "outputId": "0d140402-074f-408f-b100-efd2f6289891"
   },
   "outputs": [],
   "source": [
    "A * v1"
   ]
  },
  {
   "cell_type": "code",
   "execution_count": null,
   "metadata": {
    "colab": {
     "base_uri": "https://localhost:8080/",
     "height": 102
    },
    "colab_type": "code",
    "id": "zkqIUV5-TBv3",
    "outputId": "aa831a4b-9a91-49db-e7b5-c5fedff80469"
   },
   "outputs": [],
   "source": [
    "v1 * A"
   ]
  },
  {
   "cell_type": "markdown",
   "metadata": {
    "colab_type": "text",
    "id": "NcgXBvm-Tygo"
   },
   "source": [
    "### Matrix algebra\n",
    "What about matrix mutiplication? There are two ways. We can either use the dot function, which applies a matrix-matrix, matrix-vector, or inner vector multiplication to its two arguments:"
   ]
  },
  {
   "cell_type": "markdown",
   "metadata": {
    "colab_type": "text",
    "id": "B8i8Y79QUx2X"
   },
   "source": [
    "Dot multiplication:\n",
    "\n",
    "$a\\cdot b=\\sum_{i=1}^n a_n b_n = a_1 b_1 + a_2 b_2 + ... + a_n b_n$"
   ]
  },
  {
   "cell_type": "code",
   "execution_count": null,
   "metadata": {
    "colab": {
     "base_uri": "https://localhost:8080/",
     "height": 102
    },
    "colab_type": "code",
    "id": "t9IbX6JVXLpm",
    "outputId": "36f0a079-9a54-4c30-ef71-3f310f26d66b"
   },
   "outputs": [],
   "source": [
    "A"
   ]
  },
  {
   "cell_type": "code",
   "execution_count": null,
   "metadata": {
    "colab": {
     "base_uri": "https://localhost:8080/",
     "height": 102
    },
    "colab_type": "code",
    "id": "SNKbJGOCTRXB",
    "outputId": "0fc570b7-a1aa-4b01-bb76-eeff9b25e01a"
   },
   "outputs": [],
   "source": [
    "dot(A,A)"
   ]
  },
  {
   "cell_type": "code",
   "execution_count": null,
   "metadata": {
    "colab": {},
    "colab_type": "code",
    "id": "PxOsCcAdV2mk"
   },
   "outputs": [],
   "source": [
    "t = array([[1,2],[3,4]])"
   ]
  },
  {
   "cell_type": "code",
   "execution_count": null,
   "metadata": {
    "colab": {
     "base_uri": "https://localhost:8080/",
     "height": 51
    },
    "colab_type": "code",
    "id": "uxQd8RWgWK5f",
    "outputId": "b2e6ae87-9e70-4d93-a3ba-34209b335eed"
   },
   "outputs": [],
   "source": [
    "t"
   ]
  },
  {
   "cell_type": "code",
   "execution_count": null,
   "metadata": {
    "colab": {
     "base_uri": "https://localhost:8080/",
     "height": 51
    },
    "colab_type": "code",
    "id": "mO-s3GzAWa3g",
    "outputId": "5885a4fb-e1a7-48ff-b1dd-0fb39d121f26"
   },
   "outputs": [],
   "source": [
    "dot(t,t)"
   ]
  },
  {
   "cell_type": "code",
   "execution_count": null,
   "metadata": {
    "colab": {
     "base_uri": "https://localhost:8080/",
     "height": 34
    },
    "colab_type": "code",
    "id": "MtSlJh6pWhac",
    "outputId": "718f66e9-7182-4d60-91bd-c95b1281323f"
   },
   "outputs": [],
   "source": [
    "z = array([1,2,3])\n",
    "dot(z,z)"
   ]
  },
  {
   "cell_type": "code",
   "execution_count": null,
   "metadata": {
    "colab": {
     "base_uri": "https://localhost:8080/",
     "height": 34
    },
    "colab_type": "code",
    "id": "5mlfZepOXH7C",
    "outputId": "05e6b75b-73df-4672-e70b-f51df3a6921c"
   },
   "outputs": [],
   "source": [
    "dot([1,2],[1,3])"
   ]
  },
  {
   "cell_type": "code",
   "execution_count": null,
   "metadata": {
    "colab": {
     "base_uri": "https://localhost:8080/",
     "height": 34
    },
    "colab_type": "code",
    "id": "FuVNJJyIZEEc",
    "outputId": "f17ce3ce-91ea-401a-adc4-8dc8fa338582"
   },
   "outputs": [],
   "source": [
    "v1"
   ]
  },
  {
   "cell_type": "code",
   "execution_count": null,
   "metadata": {
    "colab": {
     "base_uri": "https://localhost:8080/",
     "height": 34
    },
    "colab_type": "code",
    "id": "uU-EQITHZT0t",
    "outputId": "75ed369d-7eca-4742-c5c7-de8c7b6c2497"
   },
   "outputs": [],
   "source": [
    "dot(A,v1)"
   ]
  },
  {
   "cell_type": "code",
   "execution_count": null,
   "metadata": {
    "colab": {},
    "colab_type": "code",
    "id": "W8nSj7Heagio"
   },
   "outputs": [],
   "source": [
    "from numpy.linalg import *"
   ]
  },
  {
   "cell_type": "code",
   "execution_count": null,
   "metadata": {
    "colab": {
     "base_uri": "https://localhost:8080/",
     "height": 102
    },
    "colab_type": "code",
    "id": "9WmOwBFcZcHa",
    "outputId": "bcdf35c8-c23b-461a-9001-af327ebd331d"
   },
   "outputs": [],
   "source": [
    "A"
   ]
  },
  {
   "cell_type": "code",
   "execution_count": null,
   "metadata": {
    "colab": {},
    "colab_type": "code",
    "id": "Q53xXVWFaGtn"
   },
   "outputs": [],
   "source": [
    "a = array([[[1., 2.], [3., 4.]], [[1, 3], [3, 5]]])"
   ]
  },
  {
   "cell_type": "markdown",
   "metadata": {
    "colab_type": "text",
    "id": "flTpwZI7bZjj"
   },
   "source": [
    "### Data processing\n",
    "Often it is useful to store datasets in Numpy arrays. Numpy provides a number of functions to calculate statistics of datasets in arrays.\n",
    "\n",
    "For example, let's calculate some properties from the Stockholm temperature dataset used above."
   ]
  },
  {
   "cell_type": "code",
   "execution_count": null,
   "metadata": {
    "colab": {
     "base_uri": "https://localhost:8080/",
     "height": 34
    },
    "colab_type": "code",
    "id": "LZWPwnJ4asnQ",
    "outputId": "a9bf0cc6-3711-4ace-9234-abbab784c216"
   },
   "outputs": [],
   "source": [
    "# reminder, the tempeature dataset is stored in the data variable:\n",
    "shape(data)"
   ]
  },
  {
   "cell_type": "markdown",
   "metadata": {
    "colab_type": "text",
    "id": "ipuRl-brbf6k"
   },
   "source": [
    "####mean"
   ]
  },
  {
   "cell_type": "code",
   "execution_count": null,
   "metadata": {
    "colab": {
     "base_uri": "https://localhost:8080/",
     "height": 34
    },
    "colab_type": "code",
    "id": "rvIPlN7Aber7",
    "outputId": "b67aabd2-3730-41ae-97dd-37a3f70a5921"
   },
   "outputs": [],
   "source": [
    "# the temperature data is in column 3\n",
    "mean(data[:,3])"
   ]
  },
  {
   "cell_type": "markdown",
   "metadata": {
    "colab_type": "text",
    "id": "LKpujFNrblwo"
   },
   "source": [
    "The daily mean temperature in Stockholm over the last 200 years has been about 6.2 C.\n",
    "\n"
   ]
  },
  {
   "cell_type": "markdown",
   "metadata": {
    "colab_type": "text",
    "id": "keOx1KtDb-Yf"
   },
   "source": [
    "#### SD and variance"
   ]
  },
  {
   "cell_type": "code",
   "execution_count": null,
   "metadata": {
    "colab": {
     "base_uri": "https://localhost:8080/",
     "height": 34
    },
    "colab_type": "code",
    "id": "jT6kgPGSbjjm",
    "outputId": "b035b96c-a601-4eda-c9a3-e03818a7b354"
   },
   "outputs": [],
   "source": [
    "std(data[:,3]), var(data[:,3])"
   ]
  },
  {
   "cell_type": "markdown",
   "metadata": {
    "colab_type": "text",
    "id": "ZJVT0j9CcDKh"
   },
   "source": [
    "####min and max"
   ]
  },
  {
   "cell_type": "code",
   "execution_count": null,
   "metadata": {
    "colab": {
     "base_uri": "https://localhost:8080/",
     "height": 34
    },
    "colab_type": "code",
    "id": "cWtkTIRabp2q",
    "outputId": "91849549-6faf-4e26-fb44-7d70440e067c"
   },
   "outputs": [],
   "source": [
    "# lowest daily average temperature\n",
    "data[:,3].min()"
   ]
  },
  {
   "cell_type": "code",
   "execution_count": null,
   "metadata": {
    "colab": {
     "base_uri": "https://localhost:8080/",
     "height": 34
    },
    "colab_type": "code",
    "id": "SvYeD4-kb0h8",
    "outputId": "a0e67765-71b0-4343-88c2-ce6bc6f5a260"
   },
   "outputs": [],
   "source": [
    "# highest daily average temperature\n",
    "data[:,3].max()"
   ]
  },
  {
   "cell_type": "markdown",
   "metadata": {
    "colab_type": "text",
    "id": "KhPPxd9Qgw80"
   },
   "source": [
    "#### sum, prod, and trace"
   ]
  },
  {
   "cell_type": "code",
   "execution_count": null,
   "metadata": {
    "colab": {
     "base_uri": "https://localhost:8080/",
     "height": 34
    },
    "colab_type": "code",
    "id": "rbefGcH7gvNu",
    "outputId": "af713444-622f-456f-b6ca-7e70d29dfa12"
   },
   "outputs": [],
   "source": [
    "d = arange(0, 10)\n",
    "d"
   ]
  },
  {
   "cell_type": "code",
   "execution_count": null,
   "metadata": {
    "colab": {
     "base_uri": "https://localhost:8080/",
     "height": 34
    },
    "colab_type": "code",
    "id": "KN4-4eo-g0qq",
    "outputId": "fadf029c-2853-4f7d-d2a8-ba1077a0d74b"
   },
   "outputs": [],
   "source": [
    "# sum up all elements\n",
    "sum(d)"
   ]
  },
  {
   "cell_type": "code",
   "execution_count": null,
   "metadata": {
    "colab": {
     "base_uri": "https://localhost:8080/",
     "height": 34
    },
    "colab_type": "code",
    "id": "9aaiQSHug2Jw",
    "outputId": "9cde9571-b711-48c8-f4a6-9fc14f0b60be"
   },
   "outputs": [],
   "source": [
    "# product of all elements\n",
    "prod(d+1)"
   ]
  },
  {
   "cell_type": "code",
   "execution_count": null,
   "metadata": {
    "colab": {
     "base_uri": "https://localhost:8080/",
     "height": 34
    },
    "colab_type": "code",
    "id": "70eR3NvLg369",
    "outputId": "85750368-d56f-4273-b8f7-4a9f666b9edd"
   },
   "outputs": [],
   "source": [
    "d+1"
   ]
  },
  {
   "cell_type": "code",
   "execution_count": null,
   "metadata": {
    "colab": {
     "base_uri": "https://localhost:8080/",
     "height": 51
    },
    "colab_type": "code",
    "id": "DQWDLAoXg9so",
    "outputId": "84edd730-6208-48c3-c08e-6f7be12744ab"
   },
   "outputs": [],
   "source": [
    "# cummulative product\n",
    "cumprod(d+1)"
   ]
  },
  {
   "cell_type": "code",
   "execution_count": null,
   "metadata": {
    "colab": {
     "base_uri": "https://localhost:8080/",
     "height": 34
    },
    "colab_type": "code",
    "id": "MysSrePxhBj-",
    "outputId": "076f6fde-c0c7-446e-ad35-30d3a4254a95"
   },
   "outputs": [],
   "source": [
    "# same as: diag(A).sum()\n",
    "trace(A)"
   ]
  },
  {
   "cell_type": "markdown",
   "metadata": {
    "colab_type": "text",
    "id": "5Rwl7mV7jsbl"
   },
   "source": [
    "### Calculations with higher-dimensional data\n",
    "When functions such as min, max, etc. are applied to a multidimensional arrays, it is sometimes useful to apply the calculation to the entire array, and sometimes only on a row or column basis. Using the axis argument we can specify how these functions should behave:"
   ]
  },
  {
   "cell_type": "code",
   "execution_count": null,
   "metadata": {
    "colab": {
     "base_uri": "https://localhost:8080/",
     "height": 68
    },
    "colab_type": "code",
    "id": "snZXExerhDKQ",
    "outputId": "7c95f68b-9653-44bd-97a8-2db07ba1fa17"
   },
   "outputs": [],
   "source": [
    "m = random.rand(3,3)\n",
    "m"
   ]
  },
  {
   "cell_type": "code",
   "execution_count": null,
   "metadata": {
    "colab": {
     "base_uri": "https://localhost:8080/",
     "height": 34
    },
    "colab_type": "code",
    "id": "vtq64399j1VW",
    "outputId": "86efb911-6da1-4a16-b812-07b4f0110bac"
   },
   "outputs": [],
   "source": [
    "# global max\n",
    "m.max()"
   ]
  },
  {
   "cell_type": "code",
   "execution_count": null,
   "metadata": {
    "colab": {
     "base_uri": "https://localhost:8080/",
     "height": 34
    },
    "colab_type": "code",
    "id": "xB64zAT2j-bX",
    "outputId": "c5e88993-1ff5-41a0-887f-e85f13006d3e"
   },
   "outputs": [],
   "source": [
    "# max in each column\n",
    "m.max(axis=0)"
   ]
  },
  {
   "cell_type": "code",
   "execution_count": null,
   "metadata": {
    "colab": {
     "base_uri": "https://localhost:8080/",
     "height": 34
    },
    "colab_type": "code",
    "id": "eMhIQJMqj_4s",
    "outputId": "f0e7d059-d9ba-4178-87cf-c34f5747cb38"
   },
   "outputs": [],
   "source": [
    "# max in each row\n",
    "m.max(axis=1)"
   ]
  },
  {
   "cell_type": "markdown",
   "metadata": {
    "colab_type": "text",
    "id": "4MHoMxbQkG4O"
   },
   "source": [
    "Many other functions and methods in the array and matrix classes accept the same (optional) axis keyword argument."
   ]
  },
  {
   "cell_type": "markdown",
   "metadata": {
    "colab_type": "text",
    "id": "EgT7db_nDvl1"
   },
   "source": [
    "## Reshaping, resizing and stacking arrays\n",
    "----------\n",
    "The shape of an Numpy array can be modified without copying the underlaying data, which makes it a fast operation even for large arrays."
   ]
  },
  {
   "cell_type": "code",
   "execution_count": null,
   "metadata": {
    "colab": {
     "base_uri": "https://localhost:8080/",
     "height": 102
    },
    "colab_type": "code",
    "id": "OJszDcXpkBh_",
    "outputId": "5b813fe5-70c1-4c5f-b0d8-17447fa16f05"
   },
   "outputs": [],
   "source": [
    "A"
   ]
  },
  {
   "cell_type": "code",
   "execution_count": null,
   "metadata": {
    "colab": {
     "base_uri": "https://localhost:8080/",
     "height": 34
    },
    "colab_type": "code",
    "id": "8bzzeOerE2RH",
    "outputId": "ec68c0ab-4972-4f69-966a-739fef5fb5a9"
   },
   "outputs": [],
   "source": [
    "A.shape"
   ]
  },
  {
   "cell_type": "code",
   "execution_count": null,
   "metadata": {
    "colab": {},
    "colab_type": "code",
    "id": "CRlxbCxEEyEN"
   },
   "outputs": [],
   "source": [
    "n, m = A.shape"
   ]
  },
  {
   "cell_type": "code",
   "execution_count": null,
   "metadata": {
    "colab": {},
    "colab_type": "code",
    "id": "vI78u0mAEz3o"
   },
   "outputs": [],
   "source": [
    "B = A.reshape((1,n*m))"
   ]
  },
  {
   "cell_type": "code",
   "execution_count": null,
   "metadata": {
    "colab": {
     "base_uri": "https://localhost:8080/",
     "height": 51
    },
    "colab_type": "code",
    "id": "Qgsi-PD8E-Cd",
    "outputId": "02b726b3-af67-49a4-b451-9023597a1c5b"
   },
   "outputs": [],
   "source": [
    "B"
   ]
  },
  {
   "cell_type": "code",
   "execution_count": null,
   "metadata": {
    "colab": {},
    "colab_type": "code",
    "id": "8bxkOo-uE-jL"
   },
   "outputs": [],
   "source": [
    "B[0,0:5] = 5"
   ]
  },
  {
   "cell_type": "code",
   "execution_count": null,
   "metadata": {
    "colab": {
     "base_uri": "https://localhost:8080/",
     "height": 51
    },
    "colab_type": "code",
    "id": "QmgdTttoFI_G",
    "outputId": "dd752b70-61fc-478a-b8c1-ae2d1b739629"
   },
   "outputs": [],
   "source": [
    "B"
   ]
  },
  {
   "cell_type": "code",
   "execution_count": null,
   "metadata": {
    "colab": {
     "base_uri": "https://localhost:8080/",
     "height": 102
    },
    "colab_type": "code",
    "id": "RZ_HLQcbFJcM",
    "outputId": "dfd8cae3-0e88-466a-87c7-959387d8d578"
   },
   "outputs": [],
   "source": [
    "A"
   ]
  },
  {
   "cell_type": "markdown",
   "metadata": {
    "colab_type": "text",
    "id": "YeQQnU-wFTOp"
   },
   "source": [
    "We can also use the function `flatten` to make a higher-dimensional array into a vector. But this function create a copy of the data."
   ]
  },
  {
   "cell_type": "code",
   "execution_count": null,
   "metadata": {
    "colab": {
     "base_uri": "https://localhost:8080/",
     "height": 51
    },
    "colab_type": "code",
    "id": "ybpBuPheFRFs",
    "outputId": "54ba1c30-d2c4-4dd9-89b0-3c9702aaa2e9"
   },
   "outputs": [],
   "source": [
    "B = A.flatten()\n",
    "\n",
    "B"
   ]
  },
  {
   "cell_type": "code",
   "execution_count": null,
   "metadata": {
    "colab": {
     "base_uri": "https://localhost:8080/",
     "height": 51
    },
    "colab_type": "code",
    "id": "4wvKwg4hFbCY",
    "outputId": "d64d1d4f-d17e-4714-c975-a9aa5e2b3541"
   },
   "outputs": [],
   "source": [
    "B[0:5] = 10\n",
    "\n",
    "B"
   ]
  },
  {
   "cell_type": "code",
   "execution_count": null,
   "metadata": {
    "colab": {
     "base_uri": "https://localhost:8080/",
     "height": 102
    },
    "colab_type": "code",
    "id": "1Z0P22aQFhub",
    "outputId": "3e8efeaf-9a73-4664-f1ae-965d61443f40"
   },
   "outputs": [],
   "source": [
    "A"
   ]
  },
  {
   "cell_type": "markdown",
   "metadata": {
    "colab_type": "text",
    "id": "NccczGnzGsOY"
   },
   "source": [
    "### Adding a new dimension: newaxis\n",
    "With `newaxis`, we can insert new dimensions in an array, for example converting a vector to a column or row matrix:"
   ]
  },
  {
   "cell_type": "code",
   "execution_count": null,
   "metadata": {
    "colab": {},
    "colab_type": "code",
    "id": "mElFBjXpFjcM"
   },
   "outputs": [],
   "source": [
    "v = array([1,2,3])"
   ]
  },
  {
   "cell_type": "code",
   "execution_count": null,
   "metadata": {
    "colab": {
     "base_uri": "https://localhost:8080/",
     "height": 34
    },
    "colab_type": "code",
    "id": "rDOpMnyPG1pF",
    "outputId": "b9072589-b1b0-46ca-daf2-1b73123898cf"
   },
   "outputs": [],
   "source": [
    "shape(v)\n"
   ]
  },
  {
   "cell_type": "code",
   "execution_count": null,
   "metadata": {
    "colab": {
     "base_uri": "https://localhost:8080/",
     "height": 68
    },
    "colab_type": "code",
    "id": "u4DRov9MG3yq",
    "outputId": "df208b79-2cf3-441a-f86f-1ea8cd69dd4c"
   },
   "outputs": [],
   "source": [
    "# make a column matrix of the vector v\n",
    "v[:, newaxis]"
   ]
  },
  {
   "cell_type": "code",
   "execution_count": null,
   "metadata": {
    "colab": {
     "base_uri": "https://localhost:8080/",
     "height": 34
    },
    "colab_type": "code",
    "id": "-ZqnR5mxG5uE",
    "outputId": "95a5e3f5-0653-44b8-af67-7a41510ed2b2"
   },
   "outputs": [],
   "source": [
    "v[newaxis,:]"
   ]
  },
  {
   "cell_type": "code",
   "execution_count": null,
   "metadata": {
    "colab": {
     "base_uri": "https://localhost:8080/",
     "height": 34
    },
    "colab_type": "code",
    "id": "OxD3JooOHF3J",
    "outputId": "ff3107b1-0506-4bf5-a6e2-4166f33b5ea9"
   },
   "outputs": [],
   "source": [
    "v[newaxis,:].shape"
   ]
  },
  {
   "cell_type": "markdown",
   "metadata": {
    "colab_type": "text",
    "id": "7Z-KeEZeIlji"
   },
   "source": [
    "### Stacking and repeating arrays\n",
    "Using function `repeat`,`tile`, `vstack`, `hstack`, and `concatenate` we can create larger vectors and matrices from smaller ones:"
   ]
  },
  {
   "cell_type": "markdown",
   "metadata": {
    "colab_type": "text",
    "id": "b6VdjohBIxnn"
   },
   "source": [
    "####tile and repeat"
   ]
  },
  {
   "cell_type": "code",
   "execution_count": null,
   "metadata": {
    "colab": {},
    "colab_type": "code",
    "id": "mvqj3iIKHJ7n"
   },
   "outputs": [],
   "source": [
    "a = array([[1, 2], [3, 4]])"
   ]
  },
  {
   "cell_type": "code",
   "execution_count": null,
   "metadata": {
    "colab": {
     "base_uri": "https://localhost:8080/",
     "height": 34
    },
    "colab_type": "code",
    "id": "fQZtBUpbI3GS",
    "outputId": "856e8969-d876-44d1-e90d-de18f11c90ce"
   },
   "outputs": [],
   "source": [
    "# repeat each element 3 times\n",
    "repeat(a, 3)"
   ]
  },
  {
   "cell_type": "code",
   "execution_count": null,
   "metadata": {
    "colab": {
     "base_uri": "https://localhost:8080/",
     "height": 51
    },
    "colab_type": "code",
    "id": "WPMW0VbQI4sW",
    "outputId": "f4c09cb7-0aed-4999-b80e-8ebeecc6f1ed"
   },
   "outputs": [],
   "source": [
    "# tile the matrix 3 times \n",
    "tile(a, 3)"
   ]
  },
  {
   "cell_type": "markdown",
   "metadata": {
    "colab_type": "text",
    "id": "K435-_GqI_wo"
   },
   "source": [
    "####concatenate"
   ]
  },
  {
   "cell_type": "code",
   "execution_count": null,
   "metadata": {
    "colab": {},
    "colab_type": "code",
    "id": "9qV4KMu6I7ji"
   },
   "outputs": [],
   "source": [
    "b = array([[5, 6]])"
   ]
  },
  {
   "cell_type": "code",
   "execution_count": null,
   "metadata": {
    "colab": {
     "base_uri": "https://localhost:8080/",
     "height": 68
    },
    "colab_type": "code",
    "id": "RM8utR4yJEgV",
    "outputId": "3d0cc9be-6dac-4c04-dc86-47d400a2ceb5"
   },
   "outputs": [],
   "source": [
    "concatenate((a, b), axis=0)"
   ]
  },
  {
   "cell_type": "code",
   "execution_count": null,
   "metadata": {
    "colab": {
     "base_uri": "https://localhost:8080/",
     "height": 51
    },
    "colab_type": "code",
    "id": "3l8_Cu4FJTxu",
    "outputId": "bc3937a8-fafa-4158-c3c1-ab1bb4ec25a4"
   },
   "outputs": [],
   "source": [
    "b.T"
   ]
  },
  {
   "cell_type": "code",
   "execution_count": null,
   "metadata": {
    "colab": {
     "base_uri": "https://localhost:8080/",
     "height": 51
    },
    "colab_type": "code",
    "id": "MiCOuF-WJGNW",
    "outputId": "e9116bf8-2731-450c-f5f0-80dc4e8573b9"
   },
   "outputs": [],
   "source": [
    "concatenate((a, b.T), axis=1)"
   ]
  },
  {
   "cell_type": "markdown",
   "metadata": {
    "colab_type": "text",
    "id": "DT65AkznKnnj"
   },
   "source": [
    "####vertical and horizontal stack"
   ]
  },
  {
   "cell_type": "code",
   "execution_count": null,
   "metadata": {
    "colab": {
     "base_uri": "https://localhost:8080/",
     "height": 68
    },
    "colab_type": "code",
    "id": "u3qySAKwJKh2",
    "outputId": "bf339a8c-556e-415b-c61d-670688bb6ee9"
   },
   "outputs": [],
   "source": [
    "vstack((a,b))"
   ]
  },
  {
   "cell_type": "code",
   "execution_count": null,
   "metadata": {
    "colab": {
     "base_uri": "https://localhost:8080/",
     "height": 51
    },
    "colab_type": "code",
    "id": "Q67M2izaKtU0",
    "outputId": "91277ff9-a36e-4a34-a430-85c23aace0f2"
   },
   "outputs": [],
   "source": [
    "hstack((a,b.T))"
   ]
  },
  {
   "cell_type": "markdown",
   "metadata": {
    "colab_type": "text",
    "id": "HUv_nD_pK-gP"
   },
   "source": [
    "## Copy versus \"deep copy\"\n",
    "-------\n",
    "To achieve high performance, assignments in Python usually do not copy the underlaying objects. This is important for example when objects are passed between functions, to avoid an excessive amount of memory copying when it is not necessary (technical term: pass by reference)."
   ]
  },
  {
   "cell_type": "code",
   "execution_count": null,
   "metadata": {
    "colab": {
     "base_uri": "https://localhost:8080/",
     "height": 51
    },
    "colab_type": "code",
    "id": "S-4xZE-2KvEX",
    "outputId": "ee0226ba-d02f-4870-a590-284e78635dcc"
   },
   "outputs": [],
   "source": [
    "A = array([[1, 2], [3, 4]])\n",
    "\n",
    "A"
   ]
  },
  {
   "cell_type": "code",
   "execution_count": null,
   "metadata": {
    "colab": {},
    "colab_type": "code",
    "id": "BLlhPxsDLHs_"
   },
   "outputs": [],
   "source": [
    "# now B is referring to the same array data as A \n",
    "B = A"
   ]
  },
  {
   "cell_type": "code",
   "execution_count": null,
   "metadata": {
    "colab": {
     "base_uri": "https://localhost:8080/",
     "height": 51
    },
    "colab_type": "code",
    "id": "-sLAoTjFLJFy",
    "outputId": "cea2bdbf-9279-43fa-aee4-b77f9026fb55"
   },
   "outputs": [],
   "source": [
    "# changing B affects A\n",
    "B[0,0] = 10\n",
    "\n",
    "B"
   ]
  },
  {
   "cell_type": "code",
   "execution_count": null,
   "metadata": {
    "colab": {
     "base_uri": "https://localhost:8080/",
     "height": 51
    },
    "colab_type": "code",
    "id": "6wZ3SUEfLK2y",
    "outputId": "55dc3089-2f9c-4c53-d5fe-6107c2848183"
   },
   "outputs": [],
   "source": [
    "A"
   ]
  },
  {
   "cell_type": "markdown",
   "metadata": {
    "colab_type": "text",
    "id": "hfu_LwDILNx1"
   },
   "source": [
    "If we want to avoid this behavior, so that when we get a new completely independent object B copied from A, then we need to do a so-called \"deep copy\" using the function `copy`:"
   ]
  },
  {
   "cell_type": "code",
   "execution_count": null,
   "metadata": {
    "colab": {},
    "colab_type": "code",
    "id": "brfkCVuQLL2D"
   },
   "outputs": [],
   "source": [
    "B = copy(A)"
   ]
  },
  {
   "cell_type": "code",
   "execution_count": null,
   "metadata": {
    "colab": {
     "base_uri": "https://localhost:8080/",
     "height": 51
    },
    "colab_type": "code",
    "id": "HPrbN5WbLTCM",
    "outputId": "144d2668-7066-40ec-d207-a3419511a044"
   },
   "outputs": [],
   "source": [
    "# now, if we modify B, A is not affected\n",
    "B[0,0] = -5\n",
    "\n",
    "B"
   ]
  },
  {
   "cell_type": "code",
   "execution_count": null,
   "metadata": {
    "colab": {
     "base_uri": "https://localhost:8080/",
     "height": 51
    },
    "colab_type": "code",
    "id": "-U3_JrtpLUwy",
    "outputId": "f9fba30e-0b90-455d-e1f1-95cd0b12b59b"
   },
   "outputs": [],
   "source": [
    "A"
   ]
  },
  {
   "cell_type": "markdown",
   "metadata": {
    "colab_type": "text",
    "id": "6ysf7bi5L1iD"
   },
   "source": [
    "## Iterating over array elements\n",
    "------\n",
    "Generally, we want to avoid iterating over the elements of arrays whenever we can (at all costs). The reason is that in a interpreted language like Python (or MATLAB), iterations are really slow compared to vectorized operations.\n",
    "\n",
    "However, sometimes iterations are unavoidable. For such cases, the Python `for` loop is the most convenient way to iterate over an array:"
   ]
  },
  {
   "cell_type": "code",
   "execution_count": null,
   "metadata": {
    "colab": {
     "base_uri": "https://localhost:8080/",
     "height": 85
    },
    "colab_type": "code",
    "id": "o-YV47xjLW6z",
    "outputId": "102d68b7-8aa2-434d-8219-939f99138166"
   },
   "outputs": [],
   "source": [
    "v = array([1,2,3,4])\n",
    "\n",
    "for element in v:\n",
    "    print(element)"
   ]
  },
  {
   "cell_type": "code",
   "execution_count": null,
   "metadata": {
    "colab": {
     "base_uri": "https://localhost:8080/",
     "height": 119
    },
    "colab_type": "code",
    "id": "ICbVxG0tL_ES",
    "outputId": "1e9159c2-3a09-4129-fb75-5d42b8f29862"
   },
   "outputs": [],
   "source": [
    "M = array([[1,2], [3,4]])\n",
    "\n",
    "for row in M:\n",
    "    print(\"row\", row)\n",
    "    \n",
    "    for element in row:\n",
    "        print(element)"
   ]
  },
  {
   "cell_type": "markdown",
   "metadata": {
    "colab_type": "text",
    "id": "UxtfqMplMCjo"
   },
   "source": [
    "When we need to iterate over each element of an array and modify its elements, it is convenient to use the `enumerate` function to obtain both the element and its index in the `for` loop:"
   ]
  },
  {
   "cell_type": "code",
   "execution_count": null,
   "metadata": {
    "colab": {
     "base_uri": "https://localhost:8080/",
     "height": 119
    },
    "colab_type": "code",
    "id": "x9JXYjXcMAvO",
    "outputId": "cdcdc519-7a15-4559-d52d-b7c101260103"
   },
   "outputs": [],
   "source": [
    "for row_idx, row in enumerate(M):\n",
    "    print(\"row_idx\", row_idx, \"row\", row)\n",
    "    \n",
    "    for col_idx, element in enumerate(row):\n",
    "        print(\"col_idx\", col_idx, \"element\", element)\n",
    "       \n",
    "        # update the matrix M: square each element\n",
    "        M[row_idx, col_idx] = element ** 2"
   ]
  },
  {
   "cell_type": "code",
   "execution_count": null,
   "metadata": {
    "colab": {
     "base_uri": "https://localhost:8080/",
     "height": 51
    },
    "colab_type": "code",
    "id": "rjikyfvQMKM6",
    "outputId": "138d78f7-ed40-4317-b13a-1c45158aac5b"
   },
   "outputs": [],
   "source": [
    "# each element in M is now squared\n",
    "M"
   ]
  },
  {
   "cell_type": "markdown",
   "metadata": {
    "colab_type": "text",
    "id": "Sno3MvvZM-yw"
   },
   "source": [
    "## Using arrays in conditions\n",
    "-------\n",
    "When using arrays in conditions,for example if statements and other boolean expressions, one needs to use `any` or `all`, which requires that any or all elements in the array evalutes to `True`:"
   ]
  },
  {
   "cell_type": "code",
   "execution_count": null,
   "metadata": {
    "colab": {
     "base_uri": "https://localhost:8080/",
     "height": 51
    },
    "colab_type": "code",
    "id": "35WcBXr4MM46",
    "outputId": "39a4dab7-49cc-480e-e4b1-30e602265f3c"
   },
   "outputs": [],
   "source": [
    "M"
   ]
  },
  {
   "cell_type": "code",
   "execution_count": null,
   "metadata": {
    "colab": {
     "base_uri": "https://localhost:8080/",
     "height": 34
    },
    "colab_type": "code",
    "id": "d_hy1qUHNOiQ",
    "outputId": "9fb7b9fb-a6d0-4ba2-9c15-7337cc01e977"
   },
   "outputs": [],
   "source": [
    "if (M > 5).any():\n",
    "    print(\"at least one element in M is larger than 5\")\n",
    "else:\n",
    "    print(\"no element in M is larger than 5\")"
   ]
  },
  {
   "cell_type": "code",
   "execution_count": null,
   "metadata": {
    "colab": {
     "base_uri": "https://localhost:8080/",
     "height": 34
    },
    "colab_type": "code",
    "id": "Fuo2_JVxNQPZ",
    "outputId": "7b84b6bc-8314-4b5f-ab87-eea0fdb21943"
   },
   "outputs": [],
   "source": [
    "if (M > 5).all():\n",
    "    print(\"all elements in M are larger than 5\")\n",
    "else:\n",
    "    print(\"all elements in M are not larger than 5\")"
   ]
  },
  {
   "cell_type": "code",
   "execution_count": null,
   "metadata": {
    "colab": {
     "base_uri": "https://localhost:8080/",
     "height": 34
    },
    "colab_type": "code",
    "id": "on5wL0CumjkP",
    "outputId": "53a6d374-af80-42c2-d015-eceb53b829c3"
   },
   "outputs": [],
   "source": [
    "M[any(M>5,axis=1)]"
   ]
  },
  {
   "cell_type": "markdown",
   "metadata": {
    "colab_type": "text",
    "id": "i9Vn2_YkNcZ7"
   },
   "source": [
    "## Type casting\n",
    "---------\n",
    "Since Numpy arrays are statically typed, the type of an array does not change once created. But we can explicitly cast an array of some type to another using the `astype` functions (see also the similar `asarray` function). This always create a new array of new type:"
   ]
  },
  {
   "cell_type": "code",
   "execution_count": null,
   "metadata": {
    "colab": {
     "base_uri": "https://localhost:8080/",
     "height": 34
    },
    "colab_type": "code",
    "id": "U7ztF1WENUIf",
    "outputId": "45224124-2203-454f-c43b-c56fdad56808"
   },
   "outputs": [],
   "source": [
    "M.dtype"
   ]
  },
  {
   "cell_type": "code",
   "execution_count": null,
   "metadata": {
    "colab": {
     "base_uri": "https://localhost:8080/",
     "height": 51
    },
    "colab_type": "code",
    "id": "5LGDt3IENp2-",
    "outputId": "a493510e-71de-471e-cddc-d14d4480280f"
   },
   "outputs": [],
   "source": [
    "M2 = M.astype(float)\n",
    "\n",
    "M2"
   ]
  },
  {
   "cell_type": "code",
   "execution_count": null,
   "metadata": {
    "colab": {
     "base_uri": "https://localhost:8080/",
     "height": 34
    },
    "colab_type": "code",
    "id": "4Q9d_AcKNrc_",
    "outputId": "8c24692f-cec3-41f4-f3c4-5ad194439f78"
   },
   "outputs": [],
   "source": [
    "M2.dtype"
   ]
  },
  {
   "cell_type": "code",
   "execution_count": null,
   "metadata": {
    "colab": {
     "base_uri": "https://localhost:8080/",
     "height": 51
    },
    "colab_type": "code",
    "id": "rk9rVdnENte5",
    "outputId": "331e492e-f436-462b-f221-b17d8b34654d"
   },
   "outputs": [],
   "source": [
    "M3 = M.astype(bool)\n",
    "\n",
    "M3"
   ]
  },
  {
   "cell_type": "markdown",
   "metadata": {
    "colab_type": "text",
    "id": "RYD0OMoTUPc_"
   },
   "source": [
    "## Homework 1 with numpy"
   ]
  },
  {
   "cell_type": "code",
   "execution_count": null,
   "metadata": {
    "colab": {
     "base_uri": "https://localhost:8080/",
     "height": 224
    },
    "colab_type": "code",
    "id": "SQSVveOUNvv_",
    "outputId": "a1a86702-01bf-4d62-a926-658d4090c4f7"
   },
   "outputs": [],
   "source": [
    "# Get the datasets\n",
    "!wget https://shaunmahony.github.io/BMMB554-2022/data/yeast_genes.txt"
   ]
  },
  {
   "cell_type": "code",
   "execution_count": null,
   "metadata": {
    "colab": {
     "base_uri": "https://localhost:8080/",
     "height": 323
    },
    "colab_type": "code",
    "id": "IoeF1h7FXQTO",
    "outputId": "78d363f7-4145-4aa7-d7db-8068a6f00772"
   },
   "outputs": [],
   "source": [
    "!cut -f 3 yeast_genes.txt | sort | uniq -c"
   ]
  },
  {
   "cell_type": "code",
   "execution_count": null,
   "metadata": {
    "colab": {
     "base_uri": "https://localhost:8080/",
     "height": 306
    },
    "colab_type": "code",
    "id": "PVUIJ4YOWWAq",
    "outputId": "3204578e-c5d4-4681-c26c-e15fd45a3273"
   },
   "outputs": [],
   "source": [
    "# First let's find out how many chromosomes:\n",
    "chrom = []\n",
    "for line in open('yeast_genes.txt','r'):\n",
    "  if not line.startswith('#'): # ignore header\n",
    "    chrom.append(line.split('\\t')[2]) #split line on tabs and access the third [2] element\n",
    "set(chrom)"
   ]
  },
  {
   "cell_type": "code",
   "execution_count": null,
   "metadata": {
    "colab": {},
    "colab_type": "code",
    "id": "rLSX4SatYMDq"
   },
   "outputs": [],
   "source": [
    "# Let's create two arrays to translate between roman and integer\n",
    "# The trick here is than index of every element can be used to\n",
    "# Translate roman into integer\n",
    "# For example, chr_roman[1] is 'chrI'\n",
    "\n",
    "chr_roman = ['chrmt',\n",
    " 'chrI',       \n",
    " 'chrII',\n",
    " 'chrIII',\n",
    " 'chrIV',\n",
    " 'chrV',\n",
    " 'chrVI',\n",
    " 'chrVII',\n",
    " 'chrVIII',\n",
    " 'chrIX',\n",
    " 'chrX',\n",
    " 'chrXI',\n",
    " 'chrXII',\n",
    " 'chrXIII',\n",
    " 'chrXIV',\n",
    " 'chrXV',\n",
    " 'chrXVI']"
   ]
  },
  {
   "cell_type": "code",
   "execution_count": null,
   "metadata": {
    "colab": {
     "base_uri": "https://localhost:8080/",
     "height": 34
    },
    "colab_type": "code",
    "id": "r6mcc_eDfMfi",
    "outputId": "6bbe80ca-3374-4701-e1c8-50f6de415c27"
   },
   "outputs": [],
   "source": [
    "chr_roman.index('chrI')"
   ]
  },
  {
   "cell_type": "code",
   "execution_count": null,
   "metadata": {
    "colab": {},
    "colab_type": "code",
    "id": "e6hd78R3Ucp2"
   },
   "outputs": [],
   "source": [
    "# Process the dataset\n",
    "\n",
    "names = [] # Initialize array for gene names\n",
    "coord = [] # Initialize array for coordinate data\n",
    "\n",
    "for line in open('yeast_genes.txt','r'):\n",
    "  if not line.startswith('#'): # ignore header\n",
    "    line = line.rstrip() # get rid of caret returns\n",
    "    fields = line.split('\\t') # split line on tabs to convert it into a list\n",
    "    name = fields[0]\n",
    "    chromosome = chr_roman.index(fields[2])\n",
    "    start = int( fields[3] )\n",
    "    end = int( fields[4] )\n",
    "    length = end-start+1 # compute the length\n",
    "    if name.split('-')[0].endswith('W'):\n",
    "      strand = 1 # encode positive strand as 1\n",
    "    elif name.split('-')[0].endswith('C'):\n",
    "      strand = 2 # encode negative strand as 2\n",
    "    else:        \n",
    "      strand = 0 # encode unknown strand as 0\n",
    "    names.append(name)\n",
    "    coord.append([chromosome,start,end,length,strand])\n",
    "      "
   ]
  },
  {
   "cell_type": "code",
   "execution_count": null,
   "metadata": {
    "colab": {
     "base_uri": "https://localhost:8080/",
     "height": 34
    },
    "colab_type": "code",
    "id": "lrf7MFNZhsQT",
    "outputId": "4887d328-ca12-48d0-dfa4-87c04d4f9733"
   },
   "outputs": [],
   "source": [
    "names[:2]"
   ]
  },
  {
   "cell_type": "code",
   "execution_count": null,
   "metadata": {
    "colab": {
     "base_uri": "https://localhost:8080/",
     "height": 68
    },
    "colab_type": "code",
    "id": "ukLdJBqDh5uz",
    "outputId": "081516c7-6193-4336-ec63-e52872f5801f"
   },
   "outputs": [],
   "source": [
    "!head -n 3 yeast_genes.txt"
   ]
  },
  {
   "cell_type": "code",
   "execution_count": null,
   "metadata": {
    "colab": {},
    "colab_type": "code",
    "id": "vwbq2D6giH_y"
   },
   "outputs": [],
   "source": [
    "# Convert coord array into numpy array\n",
    "coord = array(coord)"
   ]
  },
  {
   "cell_type": "code",
   "execution_count": null,
   "metadata": {
    "colab": {
     "base_uri": "https://localhost:8080/",
     "height": 51
    },
    "colab_type": "code",
    "id": "eBn3O7JwiUvD",
    "outputId": "621b3e46-0c05-4e8a-d07f-48d062031aeb"
   },
   "outputs": [],
   "source": [
    "coord[:2]"
   ]
  },
  {
   "cell_type": "code",
   "execution_count": null,
   "metadata": {
    "colab": {
     "base_uri": "https://localhost:8080/",
     "height": 34
    },
    "colab_type": "code",
    "id": "gE5tc9MMiWk9",
    "outputId": "d59efeae-0579-4226-e9b6-50cf4b0ac123"
   },
   "outputs": [],
   "source": [
    "coord.dtype"
   ]
  },
  {
   "cell_type": "code",
   "execution_count": null,
   "metadata": {
    "colab": {},
    "colab_type": "code",
    "id": "l0J0Yq_UibnD"
   },
   "outputs": [],
   "source": [
    "# Convert names array into numpy array\n",
    "names = array(names)"
   ]
  },
  {
   "cell_type": "code",
   "execution_count": null,
   "metadata": {
    "colab": {
     "base_uri": "https://localhost:8080/",
     "height": 34
    },
    "colab_type": "code",
    "id": "JPTkZ2eLif_C",
    "outputId": "8f952c7c-0b6e-4570-ef30-10449b84c236"
   },
   "outputs": [],
   "source": [
    "names[:2]"
   ]
  },
  {
   "cell_type": "code",
   "execution_count": null,
   "metadata": {
    "colab": {
     "base_uri": "https://localhost:8080/",
     "height": 34
    },
    "colab_type": "code",
    "id": "a80Qr3Leih02",
    "outputId": "9c5ff938-82dc-43e4-b1a9-6b62e5d10358"
   },
   "outputs": [],
   "source": [
    "# The number of genes can be inferred from array shape\n",
    "coord.shape\n"
   ]
  },
  {
   "cell_type": "code",
   "execution_count": null,
   "metadata": {
    "colab": {
     "base_uri": "https://localhost:8080/",
     "height": 34
    },
    "colab_type": "code",
    "id": "6YMg8m_isf2v",
    "outputId": "49e73590-1a2f-47f5-c2e4-c7daa167d2f9"
   },
   "outputs": [],
   "source": [
    "# You can see that the file as many lines + 1 (header)\n",
    "!wc -l yeast_genes.txt"
   ]
  },
  {
   "cell_type": "code",
   "execution_count": null,
   "metadata": {
    "colab": {
     "base_uri": "https://localhost:8080/",
     "height": 34
    },
    "colab_type": "code",
    "id": "8XAMy0XCjfWB",
    "outputId": "e1d1318d-a0f4-40f9-b656-fb8e3a18c5cb"
   },
   "outputs": [],
   "source": [
    "# Longest gene is the max of the dufference between start and end\n",
    "max(coord[:,2] - coord[:,1] + 1)"
   ]
  },
  {
   "cell_type": "code",
   "execution_count": null,
   "metadata": {
    "colab": {
     "base_uri": "https://localhost:8080/",
     "height": 34
    },
    "colab_type": "code",
    "id": "Cke6N5kNlMzO",
    "outputId": "777d026b-5459-406b-d24e-8cbd9b6aaa95"
   },
   "outputs": [],
   "source": [
    "# Or simply the maximum of the length column\n",
    "max(coord[:,3])"
   ]
  },
  {
   "cell_type": "code",
   "execution_count": null,
   "metadata": {
    "colab": {
     "base_uri": "https://localhost:8080/",
     "height": 34
    },
    "colab_type": "code",
    "id": "fRaWf912uxWS",
    "outputId": "34b1b53d-d011-47ea-b637-d58083d7eb94"
   },
   "outputs": [],
   "source": [
    "# Which gene is that?\n",
    "# The index of this gene in coord array is:\n",
    "argmax(coord[:,3])"
   ]
  },
  {
   "cell_type": "code",
   "execution_count": null,
   "metadata": {
    "colab": {
     "base_uri": "https://localhost:8080/",
     "height": 34
    },
    "colab_type": "code",
    "id": "dOKp7Voau0mB",
    "outputId": "8322d8e1-b193-407c-a254-67b435780c27"
   },
   "outputs": [],
   "source": [
    "# It has the same index in names array:\n",
    "names[4740]"
   ]
  },
  {
   "cell_type": "code",
   "execution_count": null,
   "metadata": {
    "colab": {
     "base_uri": "https://localhost:8080/",
     "height": 34
    },
    "colab_type": "code",
    "id": "jV340oH7mMk9",
    "outputId": "a80cc2c3-91d7-408d-b69b-9f11019b8e4a"
   },
   "outputs": [],
   "source": [
    "# Shortest gene\n",
    "min(coord[:,3])"
   ]
  },
  {
   "cell_type": "code",
   "execution_count": null,
   "metadata": {
    "colab": {
     "base_uri": "https://localhost:8080/",
     "height": 34
    },
    "colab_type": "code",
    "id": "w73UIqq5pWOv",
    "outputId": "bd2b3df9-f3ce-4a16-b143-85746d02dc35"
   },
   "outputs": [],
   "source": [
    "# The number of genes on chromsome 10\n",
    "shape(extract(coord[:,0] == 10,coord))"
   ]
  },
  {
   "cell_type": "code",
   "execution_count": null,
   "metadata": {
    "colab": {
     "base_uri": "https://localhost:8080/",
     "height": 34
    },
    "colab_type": "code",
    "id": "s6N2fBRpoXOr",
    "outputId": "3b24499d-8d26-428b-bd90-dbc65477645e"
   },
   "outputs": [],
   "source": [
    "# Longest gene on chromosome 10\n",
    "max(extract(coord[:,0] == 10,coord[:,3]))"
   ]
  },
  {
   "cell_type": "code",
   "execution_count": null,
   "metadata": {
    "colab": {
     "base_uri": "https://localhost:8080/",
     "height": 34
    },
    "colab_type": "code",
    "id": "8rFAqumNoebK",
    "outputId": "4a4d549d-7ae1-416c-d0b1-493a2973fcd5"
   },
   "outputs": [],
   "source": [
    "# The number of genes of chromsome 1 that are on the + strand \n",
    "# (we encoded '+' as 1)\n",
    "size(coord[(coord[:,0] == 1) & (coord[:,4] == 1)], axis=0)"
   ]
  },
  {
   "cell_type": "code",
   "execution_count": null,
   "metadata": {
    "colab": {
     "base_uri": "https://localhost:8080/",
     "height": 34
    },
    "colab_type": "code",
    "id": "5XqO7sOLrCKm",
    "outputId": "f96dd31b-555b-42f5-a2b6-ff1642f00625"
   },
   "outputs": [],
   "source": [
    "# The number of genes of chromsome 1 that are on the - strand \n",
    "# (we encoded '-' as 2)\n",
    "size(coord[(coord[:,0] == 1) & (coord[:,4] == 2)], axis=0)"
   ]
  },
  {
   "cell_type": "code",
   "execution_count": null,
   "metadata": {
    "colab": {
     "base_uri": "https://localhost:8080/",
     "height": 353
    },
    "colab_type": "code",
    "id": "_wO92gCprLcR",
    "outputId": "dc5ffbbb-aecf-47a3-e047-fd99861b7c6a"
   },
   "outputs": [],
   "source": [
    "# Let's plot distribution of gene lengths\n",
    "sns.set_style('whitegrid')\n",
    "sns.distplot(coord[:,3])"
   ]
  },
  {
   "cell_type": "markdown",
   "metadata": {
    "colab_type": "text",
    "id": "Ao4SGsLW6gqO"
   },
   "source": [
    "##  A little fun with images\n",
    "------\n",
    "Images are really arrays"
   ]
  },
  {
   "cell_type": "code",
   "execution_count": null,
   "metadata": {
    "colab": {},
    "colab_type": "code",
    "id": "e7-7BPlL6gqN"
   },
   "outputs": [],
   "source": [
    "import matplotlib.pyplot as pl\n",
    "import matplotlib.image as mpimg\n",
    "import numpy as np"
   ]
  },
  {
   "cell_type": "code",
   "execution_count": null,
   "metadata": {
    "colab": {},
    "colab_type": "code",
    "id": "qXWLsc256gqL"
   },
   "outputs": [],
   "source": [
    "import imageio\n",
    "img=\"https://shaunmahony.github.io/BMMB554-2022/img/1N1A6336.CR2.jpg\"\n",
    "img = imageio.imread(img)"
   ]
  },
  {
   "cell_type": "code",
   "execution_count": null,
   "metadata": {
    "colab": {
     "base_uri": "https://localhost:8080/",
     "height": 34
    },
    "colab_type": "code",
    "id": "voFvVNJe6gqG",
    "outputId": "835bc261-49cc-4b4e-ed2f-8d7cfc94144b"
   },
   "outputs": [],
   "source": [
    "img.shape"
   ]
  },
  {
   "cell_type": "code",
   "execution_count": null,
   "metadata": {
    "colab": {
     "base_uri": "https://localhost:8080/",
     "height": 163
    },
    "colab_type": "code",
    "id": "LNV4KEv66gqD",
    "outputId": "6bf2b686-bda9-4100-a6cf-55fa75a37de2"
   },
   "outputs": [],
   "source": [
    "start_img[0]"
   ]
  },
  {
   "cell_type": "code",
   "execution_count": null,
   "metadata": {
    "colab": {
     "base_uri": "https://localhost:8080/",
     "height": 286
    },
    "colab_type": "code",
    "id": "rPoJRXvM6gp_",
    "outputId": "fd2e5fa0-b3e1-4755-a9f7-98a0af024d5e"
   },
   "outputs": [],
   "source": [
    "plt.imshow(img,cmap=plt.cm.gray)\n",
    "plt.axis('off')"
   ]
  },
  {
   "cell_type": "markdown",
   "metadata": {
    "colab_type": "text",
    "id": "YPwQ2P1U6gp9"
   },
   "source": []
  },
  {
   "cell_type": "code",
   "execution_count": null,
   "metadata": {
    "colab": {},
    "colab_type": "code",
    "id": "ipa5FmWg6gp4"
   },
   "outputs": [],
   "source": [
    "flip = np.flipud(img)"
   ]
  },
  {
   "cell_type": "code",
   "execution_count": null,
   "metadata": {
    "colab": {
     "base_uri": "https://localhost:8080/",
     "height": 286
    },
    "colab_type": "code",
    "id": "0bchl-is6gpy",
    "outputId": "038435fd-ab92-4be6-e0cb-fe165a1eb8f3"
   },
   "outputs": [],
   "source": [
    "plt.imshow(flip)\n",
    "plt.axis('off')"
   ]
  },
  {
   "cell_type": "code",
   "execution_count": null,
   "metadata": {
    "colab": {},
    "colab_type": "code",
    "id": "G6703sJ69Hgo"
   },
   "outputs": [],
   "source": []
  }
 ],
 "metadata": {
  "colab": {
   "collapsed_sections": [],
   "name": "numpy.ipynb",
   "provenance": [],
   "toc_visible": true,
   "version": "0.3.2"
  },
  "kernelspec": {
   "display_name": "Python 3",
   "language": "python",
   "name": "python3"
  },
  "language_info": {
   "codemirror_mode": {
    "name": "ipython",
    "version": 3
   },
   "file_extension": ".py",
   "mimetype": "text/x-python",
   "name": "python",
   "nbconvert_exporter": "python",
   "pygments_lexer": "ipython3",
   "version": "3.6.5"
  }
 },
 "nbformat": 4,
 "nbformat_minor": 1
}
