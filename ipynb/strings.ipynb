{
  "nbformat": 4,
  "nbformat_minor": 0,
  "metadata": {
    "kernelspec": {
      "display_name": "Python 3",
      "language": "python",
      "name": "python3"
    },
    "language_info": {
      "codemirror_mode": {
        "name": "ipython",
        "version": 3
      },
      "file_extension": ".py",
      "mimetype": "text/x-python",
      "name": "python",
      "nbconvert_exporter": "python",
      "pygments_lexer": "ipython3",
      "version": "3.4.3"
    },
    "colab": {
      "name": "strings.ipynb",
      "provenance": [],
      "include_colab_link": true
    }
  },
  "cells": [
    {
      "cell_type": "markdown",
      "metadata": {
        "id": "view-in-github",
        "colab_type": "text"
      },
      "source": [
        "<a href=\"https://colab.research.google.com/github/nekrut/BMMB554/blob/master/2021/ipynb/strings.ipynb\" target=\"_parent\"><img src=\"https://colab.research.google.com/assets/colab-badge.svg\" alt=\"Open In Colab\"/></a>"
      ]
    },
    {
      "cell_type": "markdown",
      "metadata": {
        "id": "ilwEAE8nTQ4c"
      },
      "source": [
        "# Strings in Python\n",
        "\n",
        "--------\n",
        "\n",
        "This notebook is based on materials developed by [Ben Langmead](https://github.com/BenLangmead/ads1-notebooks)."
      ]
    },
    {
      "cell_type": "markdown",
      "metadata": {
        "id": "YfGK4dsFTrKP"
      },
      "source": [
        "## Basic concepts"
      ]
    },
    {
      "cell_type": "code",
      "metadata": {
        "id": "Ob0MAnp-Tu9T"
      },
      "source": [
        "# You can interate ovar a string\n",
        "dna = 'ATCG'\n",
        "for base in dna:\n",
        "    print(base)"
      ],
      "execution_count": null,
      "outputs": []
    },
    {
      "cell_type": "code",
      "metadata": {
        "id": "POZDNYP5U_Vu"
      },
      "source": [
        "# Strings are immutable\n",
        "dna[2] = 'T'"
      ],
      "execution_count": null,
      "outputs": []
    },
    {
      "cell_type": "code",
      "metadata": {
        "id": "os0SZJ9sVUuJ"
      },
      "source": [
        "# Strings are indexed and can be sliced\n",
        "examples = 'Beginning: \\t{}\\nEnd: \\t\\t{}\\nSlice: \\t\\t{}\\nUp to a point: \\t{}\\nFrom a point: \\t{}\\n'\n",
        "\n",
        "bgn = dna[1]\n",
        "end = dna[-1]\n",
        "slice_ = dna[2:4]\n",
        "upto = dna[:2]\n",
        "from_ = dna[-2]\n",
        "\n",
        "print(examples.format(bgn,end,slice_,upto,from_))\n"
      ],
      "execution_count": null,
      "outputs": []
    },
    {
      "cell_type": "code",
      "metadata": {
        "id": "UP-4l3naW0zi"
      },
      "source": [
        "# Strings can be split and joined\n",
        "\n",
        "dna1 = 'atgc'\n",
        "dna2 = 'ATCG'\n",
        "dna3 = '_'.join([dna1,dna2])\n",
        "print('Joined: ',dna3)\n",
        "\n",
        "dna4 = dna3.split('_')\n",
        "print('Split: ',dna4)"
      ],
      "execution_count": null,
      "outputs": []
    },
    {
      "cell_type": "markdown",
      "metadata": {
        "id": "BIvSnnLeVA5E"
      },
      "source": [
        "## Practical examples"
      ]
    },
    {
      "cell_type": "code",
      "metadata": {
        "id": "KRI1wZRTTOKL"
      },
      "source": [
        "# define a new sequence\n",
        "seq = 'ACGT'"
      ],
      "execution_count": null,
      "outputs": []
    },
    {
      "cell_type": "code",
      "metadata": {
        "collapsed": true,
        "id": "TiI-BV-pTOKO"
      },
      "source": [
        "# define a new sequence\n",
        "seq = \"ACGT\""
      ],
      "execution_count": null,
      "outputs": []
    },
    {
      "cell_type": "code",
      "metadata": {
        "id": "25x_-B0FTOKO",
        "outputId": "d7340798-5e77-4583-d03d-235afde98fbb"
      },
      "source": [
        "# Get a character from a string\n",
        "seq[1]"
      ],
      "execution_count": null,
      "outputs": [
        {
          "output_type": "execute_result",
          "data": {
            "text/plain": [
              "'C'"
            ]
          },
          "metadata": {
            "tags": []
          },
          "execution_count": 3
        }
      ]
    },
    {
      "cell_type": "code",
      "metadata": {
        "id": "iaxnOgGQTOKP",
        "outputId": "68c9e6ff-ee67-4777-cf7d-3ca8fc8ea2b0"
      },
      "source": [
        "# get the length of a sequence\n",
        "len(seq)"
      ],
      "execution_count": null,
      "outputs": [
        {
          "output_type": "execute_result",
          "data": {
            "text/plain": [
              "4"
            ]
          },
          "metadata": {
            "tags": []
          },
          "execution_count": 4
        }
      ]
    },
    {
      "cell_type": "code",
      "metadata": {
        "id": "YYAeEWYeTOKP"
      },
      "source": [
        "# empty string (epsilon)\n",
        "e = ''"
      ],
      "execution_count": null,
      "outputs": []
    },
    {
      "cell_type": "code",
      "metadata": {
        "id": "C307g1CuTOKQ",
        "outputId": "96a23f12-2633-4bf9-a6dc-c144737fe1c5"
      },
      "source": [
        "len(e)"
      ],
      "execution_count": null,
      "outputs": [
        {
          "output_type": "execute_result",
          "data": {
            "text/plain": [
              "0"
            ]
          },
          "metadata": {
            "tags": []
          },
          "execution_count": 6
        }
      ]
    },
    {
      "cell_type": "code",
      "metadata": {
        "id": "jDl5EBYfTOKQ",
        "outputId": "8acaaa6b-bea3-4041-9040-b51c586b1c1a"
      },
      "source": [
        "# concatenation\n",
        "seq1 = 'AACC'\n",
        "seq2 = 'GGTT'\n",
        "print(seq1 + seq2)"
      ],
      "execution_count": null,
      "outputs": [
        {
          "output_type": "stream",
          "text": [
            "AACCGGTT\n"
          ],
          "name": "stdout"
        }
      ]
    },
    {
      "cell_type": "code",
      "metadata": {
        "id": "mZflIcAgTOKQ",
        "outputId": "726e4b30-9ffc-4e24-a307-a0570a12ebfe"
      },
      "source": [
        "seqs = ['A', 'C', 'G', 'T']\n",
        "print(''.join(seqs))"
      ],
      "execution_count": null,
      "outputs": [
        {
          "output_type": "stream",
          "text": [
            "ACGT\n"
          ],
          "name": "stdout"
        }
      ]
    },
    {
      "cell_type": "code",
      "metadata": {
        "id": "b2Anbb78TOKR",
        "outputId": "a7b1be09-f8b4-46b5-c866-44204cebb2e3"
      },
      "source": [
        "# generate a random nucleotide\n",
        "import random\n",
        "random.choice('ACGT')"
      ],
      "execution_count": null,
      "outputs": [
        {
          "output_type": "execute_result",
          "data": {
            "text/plain": [
              "'T'"
            ]
          },
          "metadata": {
            "tags": []
          },
          "execution_count": 9
        }
      ]
    },
    {
      "cell_type": "code",
      "metadata": {
        "id": "LdU1a6V_TOKR",
        "outputId": "e37612de-d545-416e-b193-0116fc121006"
      },
      "source": [
        "# generate a random sequence\n",
        "seq = ''\n",
        "for _ in range(10):\n",
        "    seq += random.choice('ACGT')\n",
        "print(seq)"
      ],
      "execution_count": null,
      "outputs": [
        {
          "output_type": "stream",
          "text": [
            "TCAATTCCAT\n"
          ],
          "name": "stdout"
        }
      ]
    },
    {
      "cell_type": "code",
      "metadata": {
        "id": "i2sZTkKYTOKR",
        "outputId": "24317d67-8a21-4332-ade2-14854a8d59d0"
      },
      "source": [
        "# another way to generate a random sequence\n",
        "seq = ''.join([random.choice('ACGT') for _ in range(10)])\n",
        "print(seq)"
      ],
      "execution_count": null,
      "outputs": [
        {
          "output_type": "stream",
          "text": [
            "GATCACCGAC\n"
          ],
          "name": "stdout"
        }
      ]
    },
    {
      "cell_type": "code",
      "metadata": {
        "id": "g53aw07XTOKS",
        "outputId": "2a47c070-d0a6-445c-ba48-b915c47e340a"
      },
      "source": [
        "# get a substring\n",
        "seq[1:3]"
      ],
      "execution_count": null,
      "outputs": [
        {
          "output_type": "execute_result",
          "data": {
            "text/plain": [
              "'AT'"
            ]
          },
          "metadata": {
            "tags": []
          },
          "execution_count": 12
        }
      ]
    },
    {
      "cell_type": "code",
      "metadata": {
        "id": "0TTkgi34TOKS",
        "outputId": "8709ff54-c488-4501-b406-c6e08263f0a3"
      },
      "source": [
        "# get a prefix\n",
        "seq[:3]"
      ],
      "execution_count": null,
      "outputs": [
        {
          "output_type": "execute_result",
          "data": {
            "text/plain": [
              "'GAT'"
            ]
          },
          "metadata": {
            "tags": []
          },
          "execution_count": 13
        }
      ]
    },
    {
      "cell_type": "code",
      "metadata": {
        "id": "kv_hZc7rTOKS",
        "outputId": "49638d52-b785-426f-9e5f-5a0154c07cae"
      },
      "source": [
        "# get a suffix\n",
        "seq[7:]"
      ],
      "execution_count": null,
      "outputs": [
        {
          "output_type": "execute_result",
          "data": {
            "text/plain": [
              "'GAC'"
            ]
          },
          "metadata": {
            "tags": []
          },
          "execution_count": 14
        }
      ]
    },
    {
      "cell_type": "code",
      "metadata": {
        "id": "cYSpDnImTOKS",
        "outputId": "ec313c89-1933-45a1-fece-d477f618e47f"
      },
      "source": [
        "# another way to get a suffix\n",
        "seq[-3:]"
      ],
      "execution_count": null,
      "outputs": [
        {
          "output_type": "execute_result",
          "data": {
            "text/plain": [
              "'GAC'"
            ]
          },
          "metadata": {
            "tags": []
          },
          "execution_count": 15
        }
      ]
    }
  ]
}