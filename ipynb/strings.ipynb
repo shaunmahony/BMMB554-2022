{
  "nbformat": 4,
  "nbformat_minor": 0,
  "metadata": {
    "kernelspec": {
      "display_name": "Python 3",
      "language": "python",
      "name": "python3"
    },
    "language_info": {
      "codemirror_mode": {
        "name": "ipython",
        "version": 3
      },
      "file_extension": ".py",
      "mimetype": "text/x-python",
      "name": "python",
      "nbconvert_exporter": "python",
      "pygments_lexer": "ipython3",
      "version": "3.4.3"
    },
    "colab": {
      "name": "strings.ipynb",
      "provenance": []
    }
  },
  "cells": [
    {
      "cell_type": "markdown",
      "metadata": {
        "id": "ilwEAE8nTQ4c"
      },
      "source": [
        "# Strings in Python\n",
        "\n",
        "--------\n",
        "\n",
        "This notebook is based on materials developed by [Ben Langmead](https://github.com/BenLangmead/ads1-notebooks)."
      ]
    },
    {
      "cell_type": "markdown",
      "metadata": {
        "id": "YfGK4dsFTrKP"
      },
      "source": [
        "## Basic concepts"
      ]
    },
    {
      "cell_type": "code",
      "metadata": {
        "id": "Ob0MAnp-Tu9T"
      },
      "source": [
        "# You can interate over the letters in a string\n",
        "dna = 'ATCG'\n",
        "for base in dna:\n",
        "    print(base)"
      ],
      "execution_count": null,
      "outputs": []
    },
    {
      "cell_type": "code",
      "metadata": {
        "id": "POZDNYP5U_Vu"
      },
      "source": [
        "# Strings are immutable\n",
        "dna[2] = 'T'"
      ],
      "execution_count": null,
      "outputs": []
    },
    {
      "cell_type": "code",
      "metadata": {
        "id": "os0SZJ9sVUuJ"
      },
      "source": [
        "# Strings are indexed and can be sliced\n",
        "examples = 'Beginning: \\t{}\\nEnd: \\t\\t{}\\nSlice: \\t\\t{}\\nUp to a point: \\t{}\\nFrom a point: \\t{}\\n'\n",
        "\n",
        "bgn = dna[0]\n",
        "end = dna[-1]\n",
        "slice_ = dna[2:4]\n",
        "upto = dna[:2]\n",
        "from_ = dna[-2]\n",
        "\n",
        "print(examples.format(bgn,end,slice_,upto,from_))\n"
      ],
      "execution_count": null,
      "outputs": []
    },
    {
      "cell_type": "code",
      "metadata": {
        "id": "UP-4l3naW0zi"
      },
      "source": [
        "# Strings can be split and joined\n",
        "\n",
        "dna1 = 'atgc'\n",
        "dna2 = 'ATCG'\n",
        "dna3 = '_'.join([dna1,dna2])\n",
        "print('Joined: ',dna3)\n",
        "\n",
        "dna4 = dna3.split('_')\n",
        "print('Split: ',dna4)"
      ],
      "execution_count": null,
      "outputs": []
    },
    {
      "cell_type": "markdown",
      "metadata": {
        "id": "BIvSnnLeVA5E"
      },
      "source": [
        "## Practical examples"
      ]
    },
    {
      "cell_type": "code",
      "metadata": {
        "id": "KRI1wZRTTOKL"
      },
      "source": [
        "# define a new sequence\n",
        "seq = 'ACGT'"
      ],
      "execution_count": null,
      "outputs": []
    },
    {
      "cell_type": "code",
      "metadata": {
        "id": "25x_-B0FTOKO"
      },
      "source": [
        "# Get a character from a string\n",
        "seq[1]"
      ],
      "execution_count": null,
      "outputs": []
    },
    {
      "cell_type": "code",
      "metadata": {
        "id": "iaxnOgGQTOKP"
      },
      "source": [
        "# get the length of a sequence\n",
        "len(seq)"
      ],
      "execution_count": null,
      "outputs": []
    },
    {
      "cell_type": "code",
      "metadata": {
        "id": "YYAeEWYeTOKP"
      },
      "source": [
        "# empty string (epsilon)\n",
        "e = ''"
      ],
      "execution_count": null,
      "outputs": []
    },
    {
      "cell_type": "code",
      "metadata": {
        "id": "C307g1CuTOKQ"
      },
      "source": [
        "len(e)"
      ],
      "execution_count": null,
      "outputs": []
    },
    {
      "cell_type": "code",
      "metadata": {
        "id": "jDl5EBYfTOKQ"
      },
      "source": [
        "# concatenation\n",
        "seq1 = 'AACC'\n",
        "seq2 = 'GGTT'\n",
        "print(seq1 + seq2)"
      ],
      "execution_count": null,
      "outputs": []
    },
    {
      "cell_type": "code",
      "metadata": {
        "id": "mZflIcAgTOKQ"
      },
      "source": [
        "seqs = ['A', 'C', 'G', 'T']\n",
        "print(''.join(seqs))"
      ],
      "execution_count": null,
      "outputs": []
    },
    {
      "cell_type": "code",
      "metadata": {
        "id": "b2Anbb78TOKR"
      },
      "source": [
        "# generate a random nucleotide\n",
        "import random\n",
        "random.choice('ACGT')"
      ],
      "execution_count": null,
      "outputs": []
    },
    {
      "cell_type": "code",
      "metadata": {
        "id": "LdU1a6V_TOKR"
      },
      "source": [
        "# generate a random sequence\n",
        "seq = ''\n",
        "for _ in range(10):\n",
        "    seq += random.choice('ACGT')\n",
        "print(seq)"
      ],
      "execution_count": null,
      "outputs": []
    },
    {
      "cell_type": "code",
      "metadata": {
        "id": "i2sZTkKYTOKR"
      },
      "source": [
        "# another way to generate a random sequence\n",
        "seq = ''.join([random.choice('ACGT') for _ in range(10)])\n",
        "print(seq)"
      ],
      "execution_count": null,
      "outputs": []
    },
    {
      "cell_type": "code",
      "metadata": {
        "id": "g53aw07XTOKS"
      },
      "source": [
        "# get a substring\n",
        "seq[1:3]"
      ],
      "execution_count": null,
      "outputs": []
    },
    {
      "cell_type": "code",
      "metadata": {
        "id": "0TTkgi34TOKS"
      },
      "source": [
        "# get a prefix\n",
        "seq[:3]"
      ],
      "execution_count": null,
      "outputs": []
    },
    {
      "cell_type": "code",
      "metadata": {
        "id": "kv_hZc7rTOKS"
      },
      "source": [
        "# get a suffix\n",
        "seq[7:]"
      ],
      "execution_count": null,
      "outputs": []
    },
    {
      "cell_type": "code",
      "metadata": {
        "id": "cYSpDnImTOKS"
      },
      "source": [
        "# another way to get a suffix\n",
        "seq[-3:]"
      ],
      "execution_count": null,
      "outputs": []
    }
  ]
}