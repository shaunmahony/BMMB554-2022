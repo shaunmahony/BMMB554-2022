{
  "nbformat": 4,
  "nbformat_minor": 0,
  "metadata": {
    "colab": {
      "name": "PairwiseAlignment.ipynb",
      "provenance": [],
      "authorship_tag": "ABX9TyMo+Tcc8M14lwdmH1BT0iCv"
    },
    "kernelspec": {
      "name": "python3",
      "display_name": "Python 3"
    },
    "language_info": {
      "name": "python"
    }
  },
  "cells": [
    {
      "cell_type": "markdown",
      "source": [
        "# Pairwise Sequence Alignment\n",
        "\n",
        "This workbook will illustrate a simple implementation of Needleman-Wunsch global pairwise alignment. The approach presented won't be the most efficient way possible in Python (for loops!), but it implements the pseudocode we discussed in class. \n",
        "\n",
        "See [Python for Bioinformatics](https://catalog.libraries.psu.edu/catalog/19170896) for more details. "
      ],
      "metadata": {
        "id": "1mo6qevSeJQz"
      }
    },
    {
      "cell_type": "markdown",
      "source": [
        "First, let's define the scoring schema. We need a similarity matrix for match and mismatch scores, and we need a gap penalty. We will also define indices for the valid base characters (so we can use them in the scoring matrix later). We will assume a DNA alphabet throughout. "
      ],
      "metadata": {
        "id": "SHj280IkgcV5"
      }
    },
    {
      "cell_type": "code",
      "source": [
        "from numpy import *"
      ],
      "metadata": {
        "id": "qCXOi7IReMw3"
      },
      "execution_count": 1,
      "outputs": []
    },
    {
      "cell_type": "code",
      "execution_count": 15,
      "metadata": {
        "colab": {
          "base_uri": "https://localhost:8080/"
        },
        "id": "_ZhSJYOMc-zv",
        "outputId": "c03975d4-3aa9-4123-a014-0b81b24a3b08"
      },
      "outputs": [
        {
          "output_type": "execute_result",
          "data": {
            "text/plain": [
              "array([[ 3, -1, -1, -1],\n",
              "       [-1,  3, -1, -1],\n",
              "       [-1, -1,  3, -1],\n",
              "       [-1, -1, -1,  3]])"
            ]
          },
          "metadata": {},
          "execution_count": 15
        }
      ],
      "source": [
        "## Indices for each base\n",
        "index = {\n",
        "    'A': 0, \n",
        "    'C': 1, \n",
        "    'G': 2, \n",
        "    'T': 3}\n",
        "\n",
        "## Set the gap penalty\n",
        "gap = -2\n",
        "\n",
        "## Match/mismatch similarity matrix (defined as numpy array).\n",
        "matchscore = 3\n",
        "mismatchscore=-1\n",
        "sim = full((4,4), mismatchscore)\n",
        "fill_diagonal(sim, matchscore)\n",
        "\n",
        "sim"
      ]
    },
    {
      "cell_type": "markdown",
      "source": [
        "Now let's make a function that implements Needleman-Wunsch, returning the score matrix and the arrow matrix"
      ],
      "metadata": {
        "id": "K_engT5_jFId"
      }
    },
    {
      "cell_type": "code",
      "source": [
        "#arguments: similarity matrix, gap penalty, sequence1, sequence2\n",
        "def NeedlemanWunsch(sim_mat, gap_pen, seq1, seq2):\n",
        "    l1, l2 = len(seq1), len(seq2)\n",
        "    scores = zeros( (l1+1, l2+1), int )\n",
        "    arrows = zeros( (l1+1, l2+1), int )\n",
        "\n",
        "    #Define the scores for the first row and first column\n",
        "    scores[0,:] = arange(l2+1) * gap_pen\n",
        "    scores[:,0] = arange(l1+1) * gap_pen\n",
        "    arrows[0,:] = ones(l2+1)\n",
        "    arrows[:,0] = zeros(l1+1)\n",
        "\n",
        "    #Dynamic programming part - iterate over rows & columns\n",
        "    for i in range(1, l1+1):\n",
        "        for j in range(1, l2+1):\n",
        "            f=zeros(3) #f is going to store our three scoring options in the current cell\n",
        "            \n",
        "            f[0] = scores[i-1, j]+gap_pen  #Vertical gap option\n",
        "            f[1] = scores[i, j-1]+gap_pen  #Horizontal gap option\n",
        "            n1 = index[seq1[i-1]]\n",
        "            n2 = index[seq2[j-1]]\n",
        "            f[2] = scores[i-1, j-1] + sim_mat[n1, n2] #Diagonal match/mismatch option\n",
        "\n",
        "            scores[i,j]= f.max()\n",
        "            arrows[i,j] = f.argmax();\n",
        "\n",
        "    return scores, arrows"
      ],
      "metadata": {
        "id": "1IS2CaY2jCKD"
      },
      "execution_count": 22,
      "outputs": []
    },
    {
      "cell_type": "markdown",
      "source": [
        "Let's test the above function on a pair of sequences."
      ],
      "metadata": {
        "id": "L5nHevBimRd7"
      }
    },
    {
      "cell_type": "code",
      "source": [
        "s, a = NeedlemanWunsch(sim, gap, 'ACT', 'ACGT')\n",
        "\n",
        "print(s)\n",
        "print(a)"
      ],
      "metadata": {
        "colab": {
          "base_uri": "https://localhost:8080/"
        },
        "id": "UPb_Mc7hmWQz",
        "outputId": "c66ff42d-e8ec-49c2-a9c1-a6eb63a2095e"
      },
      "execution_count": 23,
      "outputs": [
        {
          "output_type": "stream",
          "name": "stdout",
          "text": [
            "[[ 0 -2 -4 -6 -8]\n",
            " [-2  3  1 -1 -3]\n",
            " [-4  1  6  4  2]\n",
            " [-6 -1  4  5  7]]\n",
            "[[0 1 1 1 1]\n",
            " [0 2 1 1 1]\n",
            " [0 0 2 1 1]\n",
            " [0 0 0 2 2]]\n"
          ]
        }
      ]
    },
    {
      "cell_type": "markdown",
      "source": [
        "As you can see, the score matrix contains all scores, culminating in the overall alignment score in the bottom right corner. The arrow matrix contains the choices taken to generate the score in each cell. 0 for vertical gap, 1 for horizontal gap, 2 for diagonal. \n",
        "\n",
        "Next, we need to generate the actual alignment by performing a traceback operation from the bottom right corner to the top left. "
      ],
      "metadata": {
        "id": "eDN0fhdxq7ZH"
      }
    },
    {
      "cell_type": "code",
      "source": [
        "#arguments: arrow matrix, sequence1, sequence2\n",
        "def Backtrace(arrows, seq1, seq2):\n",
        "    #st1 and st2 will store the aligned sequence strings\n",
        "    st1, st2 = '',''\n",
        "\n",
        "    # v and h will be indices that start at the bottom right position\n",
        "    v = arrows.shape[0]-1\n",
        "    h = arrows.shape[1]-1\n",
        "\n",
        "    while v>0 or h>0 :\n",
        "        if arrows[v,h] == 0:   #Vertical gap (insert gap in seq2)\n",
        "            st1 += seq1[v-1]\n",
        "            st2 += '-'\n",
        "            v-=1\n",
        "        elif arrows[v,h] == 1: #Horizontal gap (insert gap in seq1)\n",
        "            st1 += '-'\n",
        "            st2 += seq2[h-1]\n",
        "            h-=1\n",
        "        elif arrows[v,h] == 2: #Diagonal transition (aligned bases)\n",
        "            st1 += seq1[v-1]\n",
        "            st2 += seq2[h-1]\n",
        "            v-=1\n",
        "            h-=1\n",
        "    \n",
        "    #st1 and st2 now have the aligned sequences in reverse order\n",
        "    st1 = st1[::-1]\n",
        "    st2 = st2[::-1]\n",
        "\n",
        "    return st1, st2"
      ],
      "metadata": {
        "id": "EVpkb7hHsAzY"
      },
      "execution_count": 26,
      "outputs": []
    },
    {
      "cell_type": "markdown",
      "source": [
        "Let's try it on the arrow matrix that was computed above:"
      ],
      "metadata": {
        "id": "yw87opcpuWE-"
      }
    },
    {
      "cell_type": "code",
      "source": [
        "s1, s2 = Backtrace(a, 'ACT', 'ACGT')\n",
        "\n",
        "print(s1)\n",
        "print(s2)"
      ],
      "metadata": {
        "colab": {
          "base_uri": "https://localhost:8080/"
        },
        "id": "52SD0_Y6ucQE",
        "outputId": "8a792cef-e4d4-4ae5-afde-1c1d259aab94"
      },
      "execution_count": 27,
      "outputs": [
        {
          "output_type": "stream",
          "name": "stdout",
          "text": [
            "AC-T\n",
            "ACGT\n"
          ]
        }
      ]
    },
    {
      "cell_type": "markdown",
      "source": [
        "Finally, put it all together for longer sequences"
      ],
      "metadata": {
        "id": "nQqzPZTbupqJ"
      }
    },
    {
      "cell_type": "code",
      "source": [
        "seq1 = \"TGAACTCCTACTGTAAG\"\n",
        "seq2 = \"TTGTTCTTACTGTCTAAG\"\n",
        "\n",
        "s, a = NeedlemanWunsch(sim, gap, seq1, seq2)\n",
        "ascore = s[len(seq1), len(seq2)]\n",
        "\n",
        "s1, s2 = Backtrace(a, seq1, seq2)\n",
        "\n",
        "print(\"Alignment score = \", ascore)\n",
        "print(s1)\n",
        "print(s2)"
      ],
      "metadata": {
        "colab": {
          "base_uri": "https://localhost:8080/"
        },
        "id": "Ih-lYgGDuwbt",
        "outputId": "7e348a97-25f6-4a37-926d-680ad1d38993"
      },
      "execution_count": 33,
      "outputs": [
        {
          "output_type": "stream",
          "name": "stdout",
          "text": [
            "Alignment score =  27\n",
            "T-GAACTCCTACTGT--AAG\n",
            "TTGTTCT--TACTGTCTAAG\n"
          ]
        }
      ]
    }
  ]
}