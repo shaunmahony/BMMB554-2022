{
  "nbformat": 4,
  "nbformat_minor": 0,
  "metadata": {
    "colab": {
      "name": "Shaun HW2.ipynb",
      "provenance": [],
      "collapsed_sections": []
    },
    "kernelspec": {
      "name": "python3",
      "display_name": "Python 3"
    },
    "language_info": {
      "name": "python"
    }
  },
  "cells": [
    {
      "cell_type": "markdown",
      "source": [
        "# Q1: Pairwise Sequence Alignment\n",
        "\n",
        "This workbook will illustrate a simple implementation of Needleman-Wunsch global pairwise alignment. The approach presented won't be the most efficient way possible in Python (for loops!), but it implements the pseudocode we discussed in class. \n",
        "\n",
        "See [Python for Bioinformatics](https://catalog.libraries.psu.edu/catalog/19170896) for more details. "
      ],
      "metadata": {
        "id": "1mo6qevSeJQz"
      }
    },
    {
      "cell_type": "markdown",
      "source": [
        "First, let's define the scoring schema. We need a similarity matrix for match and mismatch scores, and we need a gap penalty. We will also define indices for the valid base characters (so we can use them in the scoring matrix later). We will assume a DNA alphabet throughout. "
      ],
      "metadata": {
        "id": "SHj280IkgcV5"
      }
    },
    {
      "cell_type": "code",
      "source": [
        "from numpy import *"
      ],
      "metadata": {
        "id": "qCXOi7IReMw3"
      },
      "execution_count": 3,
      "outputs": []
    },
    {
      "cell_type": "code",
      "execution_count": null,
      "metadata": {
        "id": "_ZhSJYOMc-zv",
        "colab": {
          "base_uri": "https://localhost:8080/"
        },
        "outputId": "106230d2-61e7-44a3-a33d-8bdb4f4c2c95"
      },
      "outputs": [
        {
          "output_type": "execute_result",
          "data": {
            "text/plain": [
              "array([[ 3, -1, -1, -1],\n",
              "       [-1,  3, -1, -1],\n",
              "       [-1, -1,  3, -1],\n",
              "       [-1, -1, -1,  3]])"
            ]
          },
          "metadata": {},
          "execution_count": 3
        }
      ],
      "source": [
        "## Indices for each base\n",
        "index = {\n",
        "    'A': 0, \n",
        "    'C': 1, \n",
        "    'G': 2, \n",
        "    'T': 3}\n",
        "\n",
        "## Set the gap penalty\n",
        "gap = -2\n",
        "\n",
        "## Match/mismatch similarity matrix (defined as numpy array).\n",
        "matchscore = 3\n",
        "mismatchscore=-1\n",
        "sim = full((4,4), mismatchscore)\n",
        "fill_diagonal(sim, matchscore)\n",
        "\n",
        "sim"
      ]
    },
    {
      "cell_type": "markdown",
      "source": [
        "Now let's make a function that implements Needleman-Wunsch, returning the score matrix and the arrow matrix"
      ],
      "metadata": {
        "id": "K_engT5_jFId"
      }
    },
    {
      "cell_type": "code",
      "source": [
        "#arguments: similarity matrix, gap penalty, sequence1, sequence2\n",
        "def NeedlemanWunsch(sim_mat, gap_pen, seq1, seq2):\n",
        "    l1, l2 = len(seq1), len(seq2)\n",
        "    scores = zeros( (l1+1, l2+1), int )\n",
        "    arrows = zeros( (l1+1, l2+1), int )\n",
        "\n",
        "    #Define the scores for the first row and first column\n",
        "    scores[0,:] = arange(l2+1) * gap_pen\n",
        "    scores[:,0] = arange(l1+1) * gap_pen\n",
        "    arrows[0,:] = ones(l2+1)\n",
        "    arrows[:,0] = zeros(l1+1)\n",
        "\n",
        "    #Dynamic programming part - iterate over rows & columns\n",
        "    for i in range(1, l1+1):\n",
        "        for j in range(1, l2+1):\n",
        "            f=zeros(3) #f is going to store our three scoring options in the current cell\n",
        "            \n",
        "            f[0] = scores[i-1, j]+gap_pen  #Vertical gap option\n",
        "            f[1] = scores[i, j-1]+gap_pen  #Horizontal gap option\n",
        "            n1 = index[seq1[i-1]]\n",
        "            n2 = index[seq2[j-1]]\n",
        "            f[2] = scores[i-1, j-1] + sim_mat[n1, n2] #Diagonal match/mismatch option\n",
        "\n",
        "            scores[i,j]= f.max()\n",
        "            arrows[i,j] = f.argmax();\n",
        "\n",
        "    return scores, arrows"
      ],
      "metadata": {
        "id": "1IS2CaY2jCKD"
      },
      "execution_count": null,
      "outputs": []
    },
    {
      "cell_type": "markdown",
      "source": [
        "Let's test the above function on a pair of sequences."
      ],
      "metadata": {
        "id": "L5nHevBimRd7"
      }
    },
    {
      "cell_type": "code",
      "source": [
        "seq1 = \"ACCGATGTACTGTAGGT\"\n",
        "seq2 = \"GAGTCTACTGTTTAATC\"\n",
        "\n",
        "s, a = NeedlemanWunsch(sim, gap, seq1, seq2)\n",
        "\n",
        "print(s)\n",
        "print(a)"
      ],
      "metadata": {
        "id": "UPb_Mc7hmWQz",
        "colab": {
          "base_uri": "https://localhost:8080/"
        },
        "outputId": "7e30882e-3321-425f-ab7b-c5f25cbe3e13"
      },
      "execution_count": null,
      "outputs": [
        {
          "output_type": "stream",
          "name": "stdout",
          "text": [
            "[[  0  -2  -4  -6  -8 -10 -12 -14 -16 -18 -20 -22 -24 -26 -28 -30 -32 -34]\n",
            " [ -2  -1   1  -1  -3  -5  -7  -9 -11 -13 -15 -17 -19 -21 -23 -25 -27 -29]\n",
            " [ -4  -3  -1   0  -2   0  -2  -4  -6  -8 -10 -12 -14 -16 -18 -20 -22 -24]\n",
            " [ -6  -5  -3  -2  -1   1  -1  -3  -1  -3  -5  -7  -9 -11 -13 -15 -17 -19]\n",
            " [ -8  -3  -5   0  -2  -1   0  -2  -3  -2   0  -2  -4  -6  -8 -10 -12 -14]\n",
            " [-10  -5   0  -2  -1  -3  -2   3   1  -1  -2  -1  -3  -5  -3  -5  -7  -9]\n",
            " [-12  -7  -2  -1   1  -1   0   1   2   4   2   1   2   0  -2  -4  -2  -4]\n",
            " [-14  -9  -4   1  -1   0  -2  -1   0   2   7   5   3   1  -1  -3  -4  -3]\n",
            " [-16 -11  -6  -1   4   2   3   1  -1   3   5  10   8   6   4   2   0  -2]\n",
            " [-18 -13  -8  -3   2   3   1   6   4   2   3   8   9   7   9   7   5   3]\n",
            " [-20 -15 -10  -5   0   5   3   4   9   7   5   6   7   8   7   8   6   8]\n",
            " [-22 -17 -12  -7  -2   3   8   6   7  12  10   8   9  10   8   6  11   9]\n",
            " [-24 -19 -14  -9  -4   1   6   7   5  10  15  13  11   9   9   7   9  10]\n",
            " [-26 -21 -16 -11  -6  -1   4   5   6   8  13  18  16  14  12  10  10   8]\n",
            " [-28 -23 -18 -13  -8  -3   2   7   5   6  11  16  17  15  17  15  13  11]\n",
            " [-30 -25 -20 -15 -10  -5   0   5   6   4   9  14  15  16  15  16  14  12]\n",
            " [-32 -27 -22 -17 -12  -7  -2   3   4   5   7  12  13  14  15  14  15  13]\n",
            " [-34 -29 -24 -19 -14  -9  -4   1   2   7   5  10  15  16  14  14  17  15]]\n",
            "[[0 1 1 1 1 1 1 1 1 1 1 1 1 1 1 1 1 1]\n",
            " [0 2 2 1 1 1 1 1 1 1 1 1 1 1 1 1 1 1]\n",
            " [0 0 0 2 1 2 1 1 1 1 1 1 1 1 1 1 1 1]\n",
            " [0 0 0 0 2 2 1 1 2 1 1 1 1 1 1 1 1 1]\n",
            " [0 2 0 2 1 0 2 1 0 2 2 1 1 1 1 1 1 1]\n",
            " [0 0 2 0 2 0 0 2 1 1 0 2 1 1 2 1 1 1]\n",
            " [0 0 0 2 2 1 2 0 2 2 1 2 2 1 1 1 2 1]\n",
            " [0 0 0 2 0 2 0 0 0 0 2 1 1 1 1 1 0 2]\n",
            " [0 0 0 0 2 1 2 1 1 2 0 2 1 1 1 1 1 1]\n",
            " [0 0 0 0 0 2 0 2 1 1 0 0 2 1 2 1 1 1]\n",
            " [0 0 0 0 0 2 1 0 2 1 1 0 0 2 0 2 1 2]\n",
            " [0 0 0 0 0 0 2 1 0 2 1 1 2 2 1 0 2 1]\n",
            " [0 0 0 0 0 0 0 2 0 0 2 1 1 1 2 1 0 2]\n",
            " [0 0 0 0 0 0 0 0 2 0 0 2 1 1 1 1 2 0]\n",
            " [0 0 0 0 0 0 0 2 1 0 0 0 2 1 2 1 1 1]\n",
            " [0 0 0 0 0 0 0 0 2 0 0 0 0 2 0 2 1 1]\n",
            " [0 0 0 0 0 0 0 0 0 2 0 0 0 0 2 0 2 1]\n",
            " [0 0 0 0 0 0 0 0 0 2 0 0 2 2 1 2 2 1]]\n"
          ]
        }
      ]
    },
    {
      "cell_type": "markdown",
      "source": [
        "As you can see, the score matrix contains all scores, culminating in the overall alignment score in the bottom right corner. The arrow matrix contains the choices taken to generate the score in each cell. 0 for vertical gap, 1 for horizontal gap, 2 for diagonal. \n",
        "\n",
        "Next, we need to generate the actual alignment by performing a traceback operation from the bottom right corner to the top left. "
      ],
      "metadata": {
        "id": "eDN0fhdxq7ZH"
      }
    },
    {
      "cell_type": "code",
      "source": [
        "#arguments: arrow matrix, sequence1, sequence2\n",
        "def Backtrace(arrows, seq1, seq2):\n",
        "    #st1 and st2 will store the aligned sequence strings\n",
        "    st1, st2 = '',''\n",
        "\n",
        "    # v and h will be indices that start at the bottom right position\n",
        "    v = arrows.shape[0]-1\n",
        "    h = arrows.shape[1]-1\n",
        "\n",
        "    while v>0 or h>0 :\n",
        "        if arrows[v,h] == 0:   #Vertical gap (insert gap in seq2)\n",
        "            st1 += seq1[v-1]\n",
        "            st2 += '-'\n",
        "            v-=1\n",
        "        elif arrows[v,h] == 1: #Horizontal gap (insert gap in seq1)\n",
        "            st1 += '-'\n",
        "            st2 += seq2[h-1]\n",
        "            h-=1\n",
        "        elif arrows[v,h] == 2: #Diagonal transition (aligned bases)\n",
        "            st1 += seq1[v-1]\n",
        "            st2 += seq2[h-1]\n",
        "            v-=1\n",
        "            h-=1\n",
        "    \n",
        "    #st1 and st2 now have the aligned sequences in reverse order\n",
        "    st1 = st1[::-1]\n",
        "    st2 = st2[::-1]\n",
        "\n",
        "    return st1, st2"
      ],
      "metadata": {
        "id": "EVpkb7hHsAzY"
      },
      "execution_count": null,
      "outputs": []
    },
    {
      "cell_type": "markdown",
      "source": [
        "Let's try it on the arrow matrix that was computed above:"
      ],
      "metadata": {
        "id": "yw87opcpuWE-"
      }
    },
    {
      "cell_type": "code",
      "source": [
        "seq1 = \"ACCGATGTACTGTAGGT\"\n",
        "seq2 = \"GAGTCTACTGTTTAATC\"\n",
        "\n",
        "s1, s2 = Backtrace(a, seq1, seq2)\n",
        "\n",
        "print(s1)\n",
        "print(s2)"
      ],
      "metadata": {
        "id": "52SD0_Y6ucQE",
        "colab": {
          "base_uri": "https://localhost:8080/"
        },
        "outputId": "358ef06f-5ab0-4cd9-e9cc-65f8e48891f1"
      },
      "execution_count": null,
      "outputs": [
        {
          "output_type": "stream",
          "name": "stdout",
          "text": [
            "-ACCGATGTACTGT--AGGT-\n",
            "GA--G-TCTACTGTTTAA-TC\n"
          ]
        }
      ]
    },
    {
      "cell_type": "markdown",
      "source": [
        "Finally, put it all together for longer sequences"
      ],
      "metadata": {
        "id": "nQqzPZTbupqJ"
      }
    },
    {
      "cell_type": "code",
      "source": [
        "seq1 = \"ACCGATGTACTGTAGGT\"\n",
        "seq2 = \"GAGTCTACTGTTTAATC\"\n",
        "\n",
        "\n",
        "\n",
        "s, a = NeedlemanWunsch(sim, gap, seq1, seq2)\n",
        "ascore = s[len(seq1), len(seq2)]\n",
        "\n",
        "s1, s2 = Backtrace(a, seq1, seq2)\n",
        "\n",
        "print(\"Alignment score = \", ascore)\n",
        "print(s1)\n",
        "print(s2)"
      ],
      "metadata": {
        "id": "Ih-lYgGDuwbt",
        "colab": {
          "base_uri": "https://localhost:8080/"
        },
        "outputId": "1a1bd982-884f-41a3-c7db-610027fa2c25"
      },
      "execution_count": null,
      "outputs": [
        {
          "output_type": "stream",
          "name": "stdout",
          "text": [
            "Alignment score =  15\n",
            "-ACCGATGTACTGT--AGGT-\n",
            "GA--G-TCTACTGTTTAA-TC\n"
          ]
        }
      ]
    },
    {
      "cell_type": "markdown",
      "source": [
        "We could also plot the scoring matrix as a heatmap, just to get a sense of the alignment scoring landscape. "
      ],
      "metadata": {
        "id": "6i2KHINY0JyP"
      }
    },
    {
      "cell_type": "code",
      "source": [
        "import seaborn as sns\n",
        "import matplotlib.pylab as plt\n",
        "ax = sns.heatmap(s)\n",
        "plt.show()"
      ],
      "metadata": {
        "id": "fDvz7dt80CDT"
      },
      "execution_count": null,
      "outputs": []
    },
    {
      "cell_type": "markdown",
      "source": [
        "## Smith-Waterman local alignment"
      ],
      "metadata": {
        "id": "UY3F4Olr8Edz"
      }
    },
    {
      "cell_type": "code",
      "source": [
        "#arguments: similarity matrix, gap penalty, sequence1, sequence2\n",
        "def SmithWaterman(sim_mat, gap_pen, seq1, seq2):\n",
        "    l1, l2 = len(seq1), len(seq2)\n",
        "    scores = zeros( (l1+1, l2+1), int )\n",
        "    arrows = zeros( (l1+1, l2+1), int )\n",
        "\n",
        "    #Define the scores for the first row and first column\n",
        "    scores[0,:] = zeros(l2+1)\n",
        "    scores[:,0] = zeros(l1+1)\n",
        "    arrows[0,:] = ones(l2+1)*3\n",
        "    arrows[:,0] = ones(l1+1)*3\n",
        "\n",
        "    maxscore = 0\n",
        "    maxi=0\n",
        "    maxj=0\n",
        "\n",
        "    #Dynamic programming part - iterate over rows & columns\n",
        "    for i in range(1, l1+1):\n",
        "        for j in range(1, l2+1):\n",
        "            f=zeros(4) #f is going to store our three scoring options in the current cell\n",
        "            \n",
        "            f[0] = scores[i-1, j]+gap_pen  #Vertical gap option\n",
        "            f[1] = scores[i, j-1]+gap_pen  #Horizontal gap option\n",
        "            n1 = index[seq1[i-1]]\n",
        "            n2 = index[seq2[j-1]]\n",
        "            f[2] = scores[i-1, j-1] + sim_mat[n1, n2] #Diagonal match/mismatch option\n",
        "            f[3]=0\n",
        "\n",
        "            scores[i,j]= f.max()\n",
        "            arrows[i,j] = f.argmax();\n",
        "\n",
        "            if(scores[i,j]>maxscore):\n",
        "              maxscore=scores[i,j]\n",
        "              maxi=i\n",
        "              maxj=j\n",
        "\n",
        "    return scores, arrows, maxi, maxj\n",
        "\n",
        "#arguments: arrow matrix, sequence1, sequence2\n",
        "def SWBacktrace(arrows, seq1, seq2, maxi, maxj):\n",
        "    #st1 and st2 will store the aligned sequence strings\n",
        "    st1, st2 = '',''\n",
        "\n",
        "    # v and h will be indices that start at the bottom right position\n",
        "    v = maxi\n",
        "    h = maxj\n",
        "\n",
        "    while v>0 or h>0 :\n",
        "        if arrows[v,h] == 0:   #Vertical gap (insert gap in seq2)\n",
        "            st1 += seq1[v-1]\n",
        "            st2 += '-'\n",
        "            v-=1\n",
        "        elif arrows[v,h] == 1: #Horizontal gap (insert gap in seq1)\n",
        "            st1 += '-'\n",
        "            st2 += seq2[h-1]\n",
        "            h-=1\n",
        "        elif arrows[v,h] == 2: #Diagonal transition (aligned bases)\n",
        "            st1 += seq1[v-1]\n",
        "            st2 += seq2[h-1]\n",
        "            v-=1\n",
        "            h-=1\n",
        "        elif arrows[v,h] == 3: #STOP\n",
        "          v=0\n",
        "          h=0\n",
        "    \n",
        "    #st1 and st2 now have the aligned sequences in reverse order\n",
        "    st1 = st1[::-1]\n",
        "    st2 = st2[::-1]\n",
        "\n",
        "    return st1, st2"
      ],
      "metadata": {
        "id": "6NeQQk9LduX1"
      },
      "execution_count": null,
      "outputs": []
    },
    {
      "cell_type": "code",
      "source": [
        "seq1 = \"ACCGATGTACTGTAGGT\"\n",
        "seq2 = \"GAGTCTACTGTTTAATC\"\n",
        "\n",
        "\n",
        "\n",
        "s, a,mi,mj = SmithWaterman(sim, gap, seq1, seq2)\n",
        "ascore = s[mi, mj]\n",
        "\n",
        "s1, s2 = SWBacktrace(a, seq1, seq2,mi,mj)\n",
        "\n",
        "print(\"Alignment score = \", ascore)\n",
        "print(s1)\n",
        "print(s2)\n",
        "print(mi,mj)\n",
        "print(s)\n",
        "print(a)"
      ],
      "metadata": {
        "colab": {
          "base_uri": "https://localhost:8080/"
        },
        "id": "oMAJiIllfU1c",
        "outputId": "d17bcb4b-3cd2-458b-cb62-b0dd188aa355"
      },
      "execution_count": null,
      "outputs": [
        {
          "output_type": "stream",
          "name": "stdout",
          "text": [
            "Alignment score =  24\n",
            "GA-TGTACTGT\n",
            "GAGTCTACTGT\n",
            "13 11\n",
            "[[ 0  0  0  0  0  0  0  0  0  0  0  0  0  0  0  0  0  0]\n",
            " [ 0  0  3  1  0  0  0  3  1  0  0  0  0  0  3  3  1  0]\n",
            " [ 0  0  1  2  0  3  1  1  6  4  2  0  0  0  1  2  2  4]\n",
            " [ 0  0  0  0  1  3  2  0  4  5  3  1  0  0  0  0  1  5]\n",
            " [ 0  3  1  3  1  1  2  1  2  3  8  6  4  2  0  0  0  3]\n",
            " [ 0  1  6  4  2  0  0  5  3  1  6  7  5  3  5  3  1  1]\n",
            " [ 0  0  4  5  7  5  3  3  4  6  4  9 10  8  6  4  6  4]\n",
            " [ 0  3  2  7  5  6  4  2  2  4  9  7  8  9  7  5  4  5]\n",
            " [ 0  1  2  5 10  8  9  7  5  5  7 12 10 11  9  7  8  6]\n",
            " [ 0  0  4  3  8  9  7 12 10  8  6 10 11  9 14 12 10  8]\n",
            " [ 0  0  2  3  6 11  9 10 15 13 11  9  9 10 12 13 11 13]\n",
            " [ 0  0  0  1  6  9 14 12 13 18 16 14 12 12 10 11 16 14]\n",
            " [ 0  3  1  3  4  7 12 13 11 16 21 19 17 15 13 11 14 15]\n",
            " [ 0  1  2  1  6  5 10 11 12 14 19 24 22 20 18 16 14 13]\n",
            " [ 0  0  4  2  4  5  8 13 11 12 17 22 23 21 23 21 19 17]\n",
            " [ 0  3  2  7  5  3  6 11 12 10 15 20 21 22 21 22 20 18]\n",
            " [ 0  3  2  5  6  4  4  9 10 11 13 18 19 20 21 20 21 19]\n",
            " [ 0  1  2  3  8  6  7  7  8 13 11 16 21 22 20 20 23 21]]\n",
            "[[3 3 3 3 3 3 3 3 3 3 3 3 3 3 3 3 3 3]\n",
            " [3 3 2 1 3 3 3 2 1 3 3 3 3 3 2 2 1 3]\n",
            " [3 3 0 2 1 2 1 0 2 1 1 1 3 3 0 2 2 2]\n",
            " [3 3 3 0 2 2 2 1 0 2 1 1 3 3 3 0 2 2]\n",
            " [3 2 1 2 1 0 2 2 0 0 2 1 1 1 1 3 3 0]\n",
            " [3 0 2 1 1 1 0 2 1 0 0 2 1 1 2 1 1 0]\n",
            " [3 3 0 2 2 1 1 0 2 2 0 2 2 1 1 1 2 1]\n",
            " [3 2 0 2 0 2 1 1 0 0 2 0 0 2 1 1 0 2]\n",
            " [3 0 2 0 2 1 2 1 1 2 0 2 1 2 1 1 2 1]\n",
            " [3 3 2 0 0 2 0 2 1 1 1 0 2 0 2 1 1 1]\n",
            " [3 3 0 2 0 2 1 0 2 1 1 1 0 2 0 2 1 2]\n",
            " [3 3 0 0 2 0 2 1 0 2 1 1 1 2 0 0 2 1]\n",
            " [3 2 1 2 0 0 0 2 0 0 2 1 1 1 1 1 0 2]\n",
            " [3 0 2 0 2 0 0 0 2 0 0 2 1 1 1 1 1 0]\n",
            " [3 3 2 1 0 2 0 2 1 0 0 0 2 1 2 1 1 1]\n",
            " [3 2 0 2 1 0 0 0 2 0 0 0 0 2 0 2 1 1]\n",
            " [3 2 2 0 2 1 0 0 0 2 0 0 0 0 2 0 2 1]\n",
            " [3 0 2 0 2 1 2 0 0 2 0 0 2 2 1 2 2 1]]\n"
          ]
        }
      ]
    },
    {
      "cell_type": "markdown",
      "source": [
        "# Question 3: Burrows-Wheeler Transform"
      ],
      "metadata": {
        "id": "7zjJEUcLUdGC"
      }
    },
    {
      "cell_type": "markdown",
      "source": [
        "## Part 1: Make the BWT"
      ],
      "metadata": {
        "id": "_RHy2CLV9Kv1"
      }
    },
    {
      "cell_type": "code",
      "source": [
        "from numpy import *"
      ],
      "metadata": {
        "id": "CLdEWn1A9GvG"
      },
      "execution_count": 4,
      "outputs": []
    },
    {
      "cell_type": "code",
      "source": [
        "def makeBWT(seq):\n",
        "\n",
        "  #Add end-of-sequence character\n",
        "  seq = seq + \"$\"\n",
        "\n",
        "  #Make rotations\n",
        "  rotations = []\n",
        "  rotations.append(seq)\n",
        "  for i in range(1,len(seq)):\n",
        "    seq = seq[-1:] + seq[:-1]\n",
        "    rotations.append(seq)\n",
        "\n",
        "  #Sort \n",
        "  sorted_rotations = sort(rotations).tolist()\n",
        "\n",
        "  #BWT is the last column\n",
        "  bwt = ''.join([x[-1] for x in sorted_rotations])\n",
        "  return(bwt)"
      ],
      "metadata": {
        "id": "M0y86aDmUcpN"
      },
      "execution_count": 5,
      "outputs": []
    },
    {
      "cell_type": "code",
      "source": [
        "#Test\n",
        "seq = \"GATCGATCAT\"\n",
        "bwt = makeBWT(seq)\n",
        "print(bwt)"
      ],
      "metadata": {
        "colab": {
          "base_uri": "https://localhost:8080/"
        },
        "id": "7K2LAEe1815X",
        "outputId": "db2fb661-0684-43a5-d4a7-9688aae2db65"
      },
      "execution_count": 6,
      "outputs": [
        {
          "output_type": "stream",
          "name": "stdout",
          "text": [
            "TCGGTTC$AAA\n"
          ]
        }
      ]
    },
    {
      "cell_type": "markdown",
      "source": [
        "## Part 2: Reverse the BWT"
      ],
      "metadata": {
        "id": "DJ5OYwV69O0m"
      }
    },
    {
      "cell_type": "code",
      "source": [
        "def reverseBWT(bwt):\n",
        "\n",
        "    #Count the letters used in the BWT. \n",
        "    letter_counts = {}\n",
        "    for l in bwt: \n",
        "        if(l in letter_counts):\n",
        "            letter_counts[l]+=1\n",
        "        else:\n",
        "            letter_counts[l]=1\n",
        "    uniq_letters = sorted(letter_counts.keys())\n",
        "\n",
        "    #Make the L-F mapping by iterating through the characters in the BWT.\n",
        "    #Because the first column is always an alphabetical sort of the BWT, the L-F\n",
        "    # mapping will always have $ = 0, first A = 1, last A = #numAs, first C = #numAs +1, etc.\n",
        "    lf_map = zeros(len(bwt), dtype=int)\n",
        "    curr_count = 0\n",
        "    for c in uniq_letters:\n",
        "        for i in range(len(bwt)):\n",
        "            if(bwt[i] == c):\n",
        "                lf_map[i]=curr_count\n",
        "                curr_count+=1\n",
        "    print(\"L-F map: \", lf_map)\n",
        "\n",
        "    #Use the L-F map to reverse the BWT. \n",
        "    #Start at index zero, because that is where the $ index will always point to\n",
        "    # (i.e., the character in bwt[0] is always the last character in the genome)\n",
        "    seq=''\n",
        "    curr_index=0;\n",
        "    for i in range(len(bwt)-1):\n",
        "        seq = bwt[curr_index]+seq\n",
        "        print(\"Step: \",curr_index,\" --> \", lf_map[curr_index])\n",
        "        curr_index = lf_map[curr_index]\n",
        "\n",
        "    return seq"
      ],
      "metadata": {
        "id": "1eySoqUT9aXh"
      },
      "execution_count": 41,
      "outputs": []
    },
    {
      "cell_type": "code",
      "source": [
        "#Test\n",
        "bwt = \"TCGGTTC$AAA\"\n",
        "seq = reverseBWT(bwt)\n",
        "print(\"Genome = \",seq)"
      ],
      "metadata": {
        "colab": {
          "base_uri": "https://localhost:8080/"
        },
        "id": "kpwBK9RQ_1ol",
        "outputId": "17c28cd4-50ce-4bab-ecc9-b38093eb935a"
      },
      "execution_count": 42,
      "outputs": [
        {
          "output_type": "stream",
          "name": "stdout",
          "text": [
            "L-F map:  [ 8  4  6  7  9 10  5  0  1  2  3]\n",
            "Step:  0  -->  8\n",
            "Step:  8  -->  1\n",
            "Step:  1  -->  4\n",
            "Step:  4  -->  9\n",
            "Step:  9  -->  2\n",
            "Step:  2  -->  6\n",
            "Step:  6  -->  5\n",
            "Step:  5  -->  10\n",
            "Step:  10  -->  3\n",
            "Step:  3  -->  7\n",
            "Genome =  GATCGATCAT\n"
          ]
        }
      ]
    }
  ]
}