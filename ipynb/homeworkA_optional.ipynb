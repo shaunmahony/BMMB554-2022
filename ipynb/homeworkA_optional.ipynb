{
  "nbformat": 4,
  "nbformat_minor": 0,
  "metadata": {
    "colab": {
      "name": "homeworkA-optional.ipynb",
      "provenance": [],
      "authorship_tag": "ABX9TyMrM7Pq5QIcTnikr58cG1kC"
    },
    "kernelspec": {
      "name": "python3",
      "display_name": "Python 3"
    },
    "language_info": {
      "name": "python"
    }
  },
  "cells": [
    {
      "cell_type": "markdown",
      "source": [
        "# Optional Homework Assignment: Calculate the GC content of a genome\n",
        "\n",
        "Let's put into practice some of the concepts we've learned so far.\n",
        "\n",
        "**Goal:** write some code to calculate the GC content of the sequences in a FASTA file. In other words, you want to read in the sequences that are contained in a FASTA file, and you want to count the proportion of bases that are 'G' or 'C'. \n",
        "\n",
        "There are likely several different ways to achieve the above goal. \n",
        "\n",
        "You can copy and paste blocks of code and functions from other notebooks we've used (they won't be useable across different notebooks). \n",
        "\n",
        "Save your notebook to your Google Drive and then share it with Shaun (sam77@psu.edu)"
      ],
      "metadata": {
        "id": "U6_mG6X5t0Y_"
      }
    },
    {
      "cell_type": "code",
      "execution_count": null,
      "metadata": {
        "id": "lqNmzHFntw2d"
      },
      "outputs": [],
      "source": [
        "## Let's start things off by downloading the SARS-CoV-2 genome FASTA file again\n",
        "\n",
        "!wget ftp://hgdownload.soe.ucsc.edu/goldenPath/wuhCor1/chromosomes/NC_045512v2.fa.gz\n",
        "!gunzip NC_045512v2.fa.gz\n",
        "!ls"
      ]
    },
    {
      "cell_type": "markdown",
      "source": [
        "Now, you take it from here! \n",
        "*Hint: you could really use a function that can parse a FASTA file right now!*"
      ],
      "metadata": {
        "id": "JF0oCyyjwFVM"
      }
    }
  ]
}