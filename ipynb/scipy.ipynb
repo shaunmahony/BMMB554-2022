{
  "nbformat": 4,
  "nbformat_minor": 0,
  "metadata": {
    "colab": {
      "name": "scipy.ipynb",
      "provenance": [],
      "authorship_tag": "ABX9TyNa660fbOLMDGlNUHeE2ZAv"
    },
    "kernelspec": {
      "name": "python3",
      "display_name": "Python 3"
    },
    "language_info": {
      "name": "python"
    }
  },
  "cells": [
    {
      "cell_type": "markdown",
      "source": [
        "# Using Scipy statistics\n",
        "*This notebook is based on course material (https://people.duke.edu/~ccc14/bios-821-2017/) from Cliburn Chan *"
      ],
      "metadata": {
        "id": "esRvnah_640V"
      }
    },
    {
      "cell_type": "code",
      "source": [
        "%matplotlib inline"
      ],
      "metadata": {
        "id": "liZUKjh87oS0"
      },
      "execution_count": null,
      "outputs": []
    },
    {
      "cell_type": "code",
      "source": [
        "import numpy as np\n",
        "import scipy.stats as stats\n",
        "import matplotlib.pyplot as plt\n",
        "np.set_printoptions(precision=3)\n",
        "plt.style.use('seaborn-notebook')"
      ],
      "metadata": {
        "id": "tKJva-8s7w_y"
      },
      "execution_count": null,
      "outputs": []
    },
    {
      "cell_type": "markdown",
      "source": [
        "## Random number generators"
      ],
      "metadata": {
        "id": "ahk6fB1U75R1"
      }
    },
    {
      "cell_type": "markdown",
      "source": [
        "### Create a distribution object"
      ],
      "metadata": {
        "id": "lZcm0MU88BUU"
      }
    },
    {
      "cell_type": "code",
      "source": [
        "d = stats.norm()"
      ],
      "metadata": {
        "id": "uGDUavv879H1"
      },
      "execution_count": null,
      "outputs": []
    },
    {
      "cell_type": "code",
      "source": [
        "d.mean(), d.std(), d.var()"
      ],
      "metadata": {
        "id": "Z0Oymnl38HzS"
      },
      "execution_count": null,
      "outputs": []
    },
    {
      "cell_type": "markdown",
      "source": [
        "### Get random variables"
      ],
      "metadata": {
        "id": "brMz4Qpo8QcS"
      }
    },
    {
      "cell_type": "code",
      "source": [
        "d.rvs(10)"
      ],
      "metadata": {
        "id": "Z7agDki-8TeT"
      },
      "execution_count": null,
      "outputs": []
    },
    {
      "cell_type": "markdown",
      "source": [
        "### Get the PDF"
      ],
      "metadata": {
        "id": "36KSqd4s8XCB"
      }
    },
    {
      "cell_type": "code",
      "source": [
        "x = np.linspace(-3,3,100)"
      ],
      "metadata": {
        "id": "9kj5BTgU8bpG"
      },
      "execution_count": null,
      "outputs": []
    },
    {
      "cell_type": "code",
      "source": [
        "y = d.pdf(x)"
      ],
      "metadata": {
        "id": "ExdNS9Hh8fNc"
      },
      "execution_count": null,
      "outputs": []
    },
    {
      "cell_type": "code",
      "source": [
        "plt.plot(x, y)"
      ],
      "metadata": {
        "id": "hCENqJg58gXa"
      },
      "execution_count": null,
      "outputs": []
    },
    {
      "cell_type": "markdown",
      "source": [
        "### Get the CDF"
      ],
      "metadata": {
        "id": "d0OLrEZb8maU"
      }
    },
    {
      "cell_type": "code",
      "source": [
        "y = d.cdf(x)"
      ],
      "metadata": {
        "id": "23HuBscK8pB1"
      },
      "execution_count": null,
      "outputs": []
    },
    {
      "cell_type": "code",
      "source": [
        "plt.plot(x, y)"
      ],
      "metadata": {
        "id": "d9a1xYGv8pyK"
      },
      "execution_count": null,
      "outputs": []
    },
    {
      "cell_type": "markdown",
      "source": [
        "### Get percentiles"
      ],
      "metadata": {
        "id": "mDZdAsBf8u5Q"
      }
    },
    {
      "cell_type": "code",
      "source": [
        "xp = d.ppf(y)"
      ],
      "metadata": {
        "id": "QcaQdFGA8wx2"
      },
      "execution_count": null,
      "outputs": []
    },
    {
      "cell_type": "code",
      "source": [
        "plt.plot(xp, y)"
      ],
      "metadata": {
        "id": "kUwoNRP080c1"
      },
      "execution_count": null,
      "outputs": []
    },
    {
      "cell_type": "markdown",
      "source": [
        "## Example \n",
        "\n",
        "Assume height has a normal distribution. Suppose the average male height is 70 inches (5'10\"), with a standard deviation of 4 inches.\n",
        "\n",
        "Make a plot of the distribution of heights between 50 and 90 inches.\n"
      ],
      "metadata": {
        "id": "yBKv5DAs9IOv"
      }
    },
    {
      "cell_type": "code",
      "source": [
        "d = stats.norm(loc=70, scale=4)"
      ],
      "metadata": {
        "id": "wnEiORmt96kV"
      },
      "execution_count": null,
      "outputs": []
    },
    {
      "cell_type": "code",
      "source": [
        "hs = np.linspace(50, 90, 100)"
      ],
      "metadata": {
        "id": "j113BL5D-Blg"
      },
      "execution_count": null,
      "outputs": []
    },
    {
      "cell_type": "code",
      "source": [
        "plt.plot(hs, d.pdf(hs))"
      ],
      "metadata": {
        "id": "kF5INmVD-R2I"
      },
      "execution_count": null,
      "outputs": []
    },
    {
      "cell_type": "markdown",
      "source": [
        "What height would a man need to be in the top 10 percentile?"
      ],
      "metadata": {
        "id": "kdZxDUjo-YBP"
      }
    },
    {
      "cell_type": "code",
      "source": [
        "d.ppf(0.9)"
      ],
      "metadata": {
        "id": "JDrlqAVs-dj1"
      },
      "execution_count": null,
      "outputs": []
    },
    {
      "cell_type": "code",
      "source": [
        "xp = np.linspace(d.ppf(0.9), 90, 100)\n",
        "y1 = np.zeros_like(xp)\n",
        "y2 = d.pdf(xp)\n",
        "plt.plot(hs, d.pdf(hs))\n",
        "plt.fill_between(xp, y1, y2, color='red', alpha=0.5)"
      ],
      "metadata": {
        "id": "aNe4MEYo-i4n"
      },
      "execution_count": null,
      "outputs": []
    },
    {
      "cell_type": "markdown",
      "source": [
        "What fraction of men have heights between 60 and 70 inches?"
      ],
      "metadata": {
        "id": "Oy2s8TzY-tK7"
      }
    },
    {
      "cell_type": "code",
      "source": [
        "d.cdf(70) - d.cdf(60)"
      ],
      "metadata": {
        "id": "jK-fxcuH-z2L"
      },
      "execution_count": null,
      "outputs": []
    },
    {
      "cell_type": "code",
      "source": [
        "xp = np.linspace(60, 70, 100)\n",
        "y1 = np.zeros_like(xp)\n",
        "y2 = d.pdf(xp)\n",
        "plt.plot(hs, d.pdf(hs))\n",
        "plt.fill_between(xp, y1, y2, color='red', alpha=0.5)"
      ],
      "metadata": {
        "id": "xzDRSVog-5Bn"
      },
      "execution_count": null,
      "outputs": []
    },
    {
      "cell_type": "markdown",
      "source": [
        "What percentile would you be if your height was 76 inches?"
      ],
      "metadata": {
        "id": "bdKAhyiK_Dfb"
      }
    },
    {
      "cell_type": "code",
      "source": [
        "d.cdf(76)"
      ],
      "metadata": {
        "id": "mgGiWfCC_JNd"
      },
      "execution_count": null,
      "outputs": []
    },
    {
      "cell_type": "code",
      "source": [
        "xs = 50, 76, 76\n",
        "ys = d.cdf(76), d.cdf(76), 0\n",
        "plt.plot(hs, d.cdf(hs))\n",
        "plt.plot(xs, ys, color='red', alpha=0.5)"
      ],
      "metadata": {
        "id": "EllUl3qU_Nau"
      },
      "execution_count": null,
      "outputs": []
    },
    {
      "cell_type": "markdown",
      "source": [
        "## Using simulation"
      ],
      "metadata": {
        "id": "WmLq6iB5_rww"
      }
    },
    {
      "cell_type": "markdown",
      "source": [
        "Simulate heights of 1 million men"
      ],
      "metadata": {
        "id": "HwUgWz9S_to6"
      }
    },
    {
      "cell_type": "code",
      "source": [
        "n = int(1e6)\n",
        "data = d.rvs(n)"
      ],
      "metadata": {
        "id": "BeYzHCVp_1EA"
      },
      "execution_count": null,
      "outputs": []
    },
    {
      "cell_type": "markdown",
      "source": [
        "What height do you need to be in the top 10 percentile?"
      ],
      "metadata": {
        "id": "XfWEXa31_8Nt"
      }
    },
    {
      "cell_type": "code",
      "source": [
        "data.sort()\n",
        "data[int(0.9 * n)]"
      ],
      "metadata": {
        "id": "25nVU8Le_-RX"
      },
      "execution_count": null,
      "outputs": []
    },
    {
      "cell_type": "markdown",
      "source": [
        "What fraction of men have heights between 60 and 70 inches?"
      ],
      "metadata": {
        "id": "Wkrc9HxiAMVF"
      }
    },
    {
      "cell_type": "code",
      "source": [
        "((data < 70).sum() - (data < 60).sum())/n"
      ],
      "metadata": {
        "id": "XaijwKetANBZ"
      },
      "execution_count": null,
      "outputs": []
    },
    {
      "cell_type": "markdown",
      "source": [
        "What percentile would you be if your height was 76 inches?"
      ],
      "metadata": {
        "id": "LooDQ7GuAZpU"
      }
    },
    {
      "cell_type": "code",
      "source": [
        "(data < 76).sum()/n"
      ],
      "metadata": {
        "id": "8miD1N3GAZYh"
      },
      "execution_count": null,
      "outputs": []
    },
    {
      "cell_type": "markdown",
      "source": [
        "## Estimating parameters"
      ],
      "metadata": {
        "id": "_J9tUxhEAfE-"
      }
    },
    {
      "cell_type": "code",
      "source": [
        "n = 50\n",
        "mu_ = 100\n",
        "sd_ = 15\n",
        "d_ = stats.norm(mu_, sd_)\n",
        "xs = d_.rvs(n)"
      ],
      "metadata": {
        "id": "N6wNT8_LAmBZ"
      },
      "execution_count": null,
      "outputs": []
    },
    {
      "cell_type": "code",
      "source": [
        "mu, sd = stats.norm.fit(xs)\n",
        "d = stats.norm(mu, sd)"
      ],
      "metadata": {
        "id": "R5lINoZBAmoI"
      },
      "execution_count": null,
      "outputs": []
    },
    {
      "cell_type": "code",
      "source": [
        "d1 = stats.norm(mu, sd/np.sqrt(n))\n",
        "ci = d1.interval(0.95)"
      ],
      "metadata": {
        "id": "DC0eRKYGArvA"
      },
      "execution_count": null,
      "outputs": []
    },
    {
      "cell_type": "code",
      "source": [
        "plt.hist(xs, histtype='step', linewidth=1)\n",
        "xp = np.linspace(xs.min() - sd_, xs.max() + sd_, 100)\n",
        "yp = d.pdf(xp)\n",
        "plt.plot(xp, yp, color='red')\n",
        "plt.axvline(mu, color='black')\n",
        "ymin, ymax = plt.ylim()\n",
        "plt.fill_between(ci, ymin, ymax, color='grey', alpha=0.5)\n",
        "plt.title('Fitted normal distribution with 95% CI',\n",
        "         fontsize=16)"
      ],
      "metadata": {
        "id": "-ipyXT_MAwNM"
      },
      "execution_count": null,
      "outputs": []
    }
  ]
}