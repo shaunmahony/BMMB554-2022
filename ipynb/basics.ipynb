{
  "nbformat": 4,
  "nbformat_minor": 0,
  "metadata": {
    "colab": {
      "name": "basics.ipynb",
      "provenance": [],
      "toc_visible": true
    },
    "kernelspec": {
      "name": "python3",
      "display_name": "Python 3"
    },
    "language_info": {
      "name": "python"
    }
  },
  "cells": [
    {
      "cell_type": "markdown",
      "source": [
        "# Python Basics\n",
        "*(an extremely short crash-course in the fundamentals of Python)*\n",
        "\n",
        "In programming, we write a set of instructions in text form (the source code), and we ''execute'' this set of instructions on a computer to perform some task. In many languages (e.g., C, C++), there is an intermediate step where we need to ''compile'' or translate the code into a form that the computer can execute. Python is an interpreted programming language; this means that there is no ''compile'' step, but rather the code is interpreted by the Python interpreter on the fly when we execute the program. This doesn't make much difference to us at this point, but just know that when we talk about a Python ''interpreter'' below, it is the program that is reading our code and translating it into machine instructions. "
      ],
      "metadata": {
        "id": "rZ-RG-JVJXtn"
      }
    },
    {
      "cell_type": "markdown",
      "source": [
        "##Comments\n",
        "A comment is a piece of text that is ignored by the Python interpreter when you run the program. Any text that is preceded by a `#` character is a comment. When you are writing any code, it's good practice to use lots of comments to explain to future readers (or future you) what you are doing in each step. "
      ],
      "metadata": {
        "id": "7-gBwSMcLJUI"
      }
    },
    {
      "cell_type": "code",
      "source": [
        "# This is a comment. Running this block of code does absolutely nothing. "
      ],
      "metadata": {
        "id": "5nV31010NNWV"
      },
      "execution_count": null,
      "outputs": []
    },
    {
      "cell_type": "code",
      "source": [
        "a = 10   #You can also have comments in-line with other code elements."
      ],
      "metadata": {
        "id": "Td2jlrQ4NgGw"
      },
      "execution_count": null,
      "outputs": []
    },
    {
      "cell_type": "markdown",
      "source": [
        "## Variables\n",
        "Variables are containers that store data. Any variable will have a name and value (or a set of values, but let's return to that later). So an example would be where you assign the value *10* to a variable you call ''*a*'', as follows:\n"
      ],
      "metadata": {
        "id": "pmB_hT0LJbr-"
      }
    },
    {
      "cell_type": "code",
      "execution_count": null,
      "metadata": {
        "id": "pLcaycPOJVcF"
      },
      "outputs": [],
      "source": [
        "a=10\n",
        "a"
      ]
    },
    {
      "cell_type": "markdown",
      "source": [
        "You can name variables almost anything you like, as long as they conform to the following rules:\n",
        "* you can include letters, digits, and underscores\n",
        "* you cannot start with a digit\n",
        "* you can mix uppercase and lowercase, but Python variable names are case sensitive so you need to stick with the same capitalization when you use the variable.\n",
        "\n"
      ],
      "metadata": {
        "id": "4e_KVzNGNsRN"
      }
    },
    {
      "cell_type": "markdown",
      "source": [
        "### Variable Types \n",
        "Let's start with the simplest case where we are dealing with variables that contain single pieces of data. The most common basic data types are:\n",
        "\n",
        "*   Integers\n",
        "*   Floating point numbers\n",
        "*   Strings (i.e., pieces of text)\n",
        "*   Booleans (true/false)\n",
        "\n",
        "**bold text** "
      ],
      "metadata": {
        "id": "_D1x9xV9OG8W"
      }
    },
    {
      "cell_type": "code",
      "source": [
        "# This is an integer\n",
        "a = 10\n",
        "\n",
        "# This is a float\n",
        "b = 20.5\n",
        "\n",
        "# This is a string \n",
        "c = 'ACGT'\n",
        "\n",
        "#This is a boolean\n",
        "d = True"
      ],
      "metadata": {
        "id": "h3drLwWrPRbf"
      },
      "execution_count": null,
      "outputs": []
    },
    {
      "cell_type": "markdown",
      "source": [
        "In many programming languages, you need to explicitly define the type that each variable has. But in Python, the type is automatically figured out during assignment. We can use the built-in function \"type\" to check what type has been assigned to a variable"
      ],
      "metadata": {
        "id": "Qd9HR-FwPQrC"
      }
    },
    {
      "cell_type": "code",
      "source": [
        "type(b)"
      ],
      "metadata": {
        "id": "v96ZYFWTPvOD"
      },
      "execution_count": null,
      "outputs": []
    },
    {
      "cell_type": "markdown",
      "source": [
        "What happens if we reassign a value of a different type to a variable?"
      ],
      "metadata": {
        "id": "MxYjZO9XP3LP"
      }
    },
    {
      "cell_type": "code",
      "source": [
        "# Try it\n",
        "a = 10.5\n",
        "type(a)"
      ],
      "metadata": {
        "id": "aup6i98LQDCF"
      },
      "execution_count": null,
      "outputs": []
    },
    {
      "cell_type": "markdown",
      "source": [
        "## Operations\n",
        "\n",
        "Once we have a set of variables, we typically want to perform calculations with them. With numeric variables, that might be a set of mathematical operations such as:\n",
        "* addition `+` \n",
        "* subtraction `-`\n",
        "* multiplication `*`\n",
        "* division `/`\n",
        "* raising to a power `**`   "
      ],
      "metadata": {
        "id": "5qhIIHBaQYD1"
      }
    },
    {
      "cell_type": "code",
      "source": [
        "# Try some operations out\n",
        "time = 10\n",
        "rate = 55\n",
        "cost = time * rate\n",
        "cost"
      ],
      "metadata": {
        "id": "WU2Lre0tQ95D"
      },
      "execution_count": null,
      "outputs": []
    },
    {
      "cell_type": "markdown",
      "source": [
        "Note how we made a new variable to hold the value resulting from the operation. Sometimes we might want to over-write or update the value that's contained in a variable; that's fine too. "
      ],
      "metadata": {
        "id": "TgIruCh5RPCA"
      }
    },
    {
      "cell_type": "code",
      "source": [
        "time = time+2\n",
        "time"
      ],
      "metadata": {
        "id": "NCKaRiX5ReEP"
      },
      "execution_count": null,
      "outputs": []
    },
    {
      "cell_type": "markdown",
      "source": [
        "There are also operations that work on strings. Let's see one here, but others are coming in the next notebook. "
      ],
      "metadata": {
        "id": "3mWNk1mwRqgY"
      }
    },
    {
      "cell_type": "code",
      "source": [
        "wordA = 'hello'\n",
        "wordB = 'world'\n",
        "my_sentence = wordA + ' ' + wordB\n",
        "my_sentence"
      ],
      "metadata": {
        "id": "ixYrYs47R1Qb"
      },
      "execution_count": null,
      "outputs": []
    },
    {
      "cell_type": "markdown",
      "source": [
        "And there are yet more operators (logical operators) that work on boolean variables to let you perform Boolean logic. For example: `and`, `or`, `not`"
      ],
      "metadata": {
        "id": "i-qIsorLS7nf"
      }
    },
    {
      "cell_type": "code",
      "source": [
        "boolA = True\n",
        "boolB = True\n",
        "boolC = False\n",
        "\n",
        "boolD = boolA or boolC\n",
        "boolD"
      ],
      "metadata": {
        "id": "dNyyS8RNTFjg"
      },
      "execution_count": null,
      "outputs": []
    },
    {
      "cell_type": "markdown",
      "source": [
        "## Built-in Python functions\n",
        "\n",
        "A \"**function**\" is a module of code that performs a specific task, and that you can re-use over and over again in your code. Usually a function will take in some data (the \"**arguments**\") and will \"**return**\" some computed values or behaviors. The Python language provides us with a set of built-in functions to perform common tasks. We saw one example above; the `type` function took in a variable and returned its type. \n",
        "\n",
        "We will come across lots and lots of functions that are either built into the Python language, or that come along with \"libraries\" that people have written to extend the functionality of Python. We will also learn how to define our own functions a little later, so that we can define some code for some specialized task, and reuse it over and over. \n",
        "\n",
        "A very commonly used built-in function is the `print` function. We can see in examples above that just typing a variable name alone will let us see the variable's value. However, we often want to write more formatted text and values to the screen. That's where `print` comes in. "
      ],
      "metadata": {
        "id": "_eDjqr0YSJba"
      }
    },
    {
      "cell_type": "code",
      "source": [
        "my_sentence = \"Hello World!\"\n",
        "print(my_sentence)"
      ],
      "metadata": {
        "id": "L25OrbStUwuy"
      },
      "execution_count": null,
      "outputs": []
    },
    {
      "cell_type": "code",
      "source": [
        "print(\"The text contained in the variable my_sentence is: \", my_sentence)"
      ],
      "metadata": {
        "id": "8Np10yPKU5GH"
      },
      "execution_count": null,
      "outputs": []
    },
    {
      "cell_type": "code",
      "source": [
        "print(\"We can also leave placeholders for variables\\nFor example, wordA={}, wordB={}\".format(wordA, wordB))"
      ],
      "metadata": {
        "id": "a6GCUkqyVBPL"
      },
      "execution_count": null,
      "outputs": []
    },
    {
      "cell_type": "markdown",
      "source": [
        "How do we know in advance what types of arguments a function should take? We can call help on the function, as below. Or we can search the internet :) "
      ],
      "metadata": {
        "id": "uktO5EqlWSvJ"
      }
    },
    {
      "cell_type": "code",
      "source": [
        "help(print)"
      ],
      "metadata": {
        "id": "FITH3uKRWNnT"
      },
      "execution_count": null,
      "outputs": []
    },
    {
      "cell_type": "markdown",
      "source": [
        "## Lists\n",
        "\n",
        "A **list** is one of several **container** types in Python where you can store multiple pieces of data. Each **element** in the list has an **index** (the position in the list, where counting starts at zero) and a value. Lists are **mutable**, which means you can change the elements' values after the list has been defined. This is not true of all Python containers; some are **immutable**. "
      ],
      "metadata": {
        "id": "aUdpwlEBVmlY"
      }
    },
    {
      "cell_type": "code",
      "source": [
        "# We define a list using square brackets\n",
        "my_list = [5, 15, 10, 20]\n",
        "my_list"
      ],
      "metadata": {
        "id": "7Pu9W_h5aTrw"
      },
      "execution_count": null,
      "outputs": []
    },
    {
      "cell_type": "code",
      "source": [
        "# You can access a particular element using its index\n",
        "print(my_list[1])"
      ],
      "metadata": {
        "id": "WCtCsnwdac9n"
      },
      "execution_count": null,
      "outputs": []
    },
    {
      "cell_type": "markdown",
      "source": [
        "You can also get a subset of values from a list:"
      ],
      "metadata": {
        "id": "sqE0ViAHnVE5"
      }
    },
    {
      "cell_type": "code",
      "source": [
        "my_list[0:2]"
      ],
      "metadata": {
        "id": "aCiPsxLtnjaW"
      },
      "execution_count": null,
      "outputs": []
    },
    {
      "cell_type": "markdown",
      "source": [
        "And you can count the indexes from the end of the list using negative indices:"
      ],
      "metadata": {
        "id": "5pBB5SmGnquc"
      }
    },
    {
      "cell_type": "code",
      "source": [
        "my_list[-1]"
      ],
      "metadata": {
        "id": "ZOwPW71AnyOi"
      },
      "execution_count": null,
      "outputs": []
    },
    {
      "cell_type": "markdown",
      "source": [
        "There are several methods (a type of function) that operate on lists to modify the contents of the list. Here's a few examples, but there are more. "
      ],
      "metadata": {
        "id": "Y5sCsUefavVh"
      }
    },
    {
      "cell_type": "code",
      "source": [
        "my_list.append(25)\n",
        "my_list"
      ],
      "metadata": {
        "id": "ck0WGWw3a8ei"
      },
      "execution_count": null,
      "outputs": []
    },
    {
      "cell_type": "code",
      "source": [
        "my_list.reverse()\n",
        "my_list"
      ],
      "metadata": {
        "id": "AxLACixNbAu0"
      },
      "execution_count": null,
      "outputs": []
    },
    {
      "cell_type": "code",
      "source": [
        "my_list.sort()\n",
        "my_list"
      ],
      "metadata": {
        "id": "UO3c4kLUbLM-"
      },
      "execution_count": null,
      "outputs": []
    },
    {
      "cell_type": "markdown",
      "source": [
        "## Dictionaries\n",
        "A **dictionary** is another common and useful container in Python. You can think of it as a lookup table (just like an English dictionary). Dictionaries contain a set of key:value pairs. Keys are the names or identifiers we give the entries, and values are the values associated with the entries. Both keys and values can be any of Pythons data types, and we can even mix different data types within the same dictionary. Here's an example:"
      ],
      "metadata": {
        "id": "BD0GrrcyxdKr"
      }
    },
    {
      "cell_type": "code",
      "source": [
        "ages = {\n",
        "    \"Mary\" : 22,\n",
        "    \"John\" : 25,\n",
        "    \"Frank\" : 21\n",
        "}\n",
        "print(ages)"
      ],
      "metadata": {
        "id": "DVIs1G9Hygg1"
      },
      "execution_count": null,
      "outputs": []
    },
    {
      "cell_type": "markdown",
      "source": [
        "Different entries can of course have the same values. However, the keys have to be unique. "
      ],
      "metadata": {
        "id": "5q8GLRfFzQMr"
      }
    },
    {
      "cell_type": "code",
      "source": [
        "ages = {\n",
        "    \"Mary\" : 22,\n",
        "    \"John\" : 25,\n",
        "    \"Frank\" : 22,\n",
        "    \"John\" : 31\n",
        "}\n",
        "print(ages)"
      ],
      "metadata": {
        "id": "4uG-Zolqze8k"
      },
      "execution_count": null,
      "outputs": []
    },
    {
      "cell_type": "markdown",
      "source": [
        "Unlike in lists, we don't access the entries of a dictionary via an index. Rather, we just look up the values by querying with a key. "
      ],
      "metadata": {
        "id": "-8SptFhTz1dI"
      }
    },
    {
      "cell_type": "code",
      "source": [
        "ages[\"Mary\"]"
      ],
      "metadata": {
        "id": "UcnxAa-i0JDd"
      },
      "execution_count": null,
      "outputs": []
    },
    {
      "cell_type": "code",
      "source": [
        "print(\"{}'s age is {}\".format(\"John\", ages[\"John\"]))"
      ],
      "metadata": {
        "id": "gkZTtkAb0M3O"
      },
      "execution_count": null,
      "outputs": []
    },
    {
      "cell_type": "markdown",
      "source": [
        "We can find out how many entries are in an index using the `len()` function."
      ],
      "metadata": {
        "id": "jFTJINb10wyq"
      }
    },
    {
      "cell_type": "code",
      "source": [
        "len(ages)"
      ],
      "metadata": {
        "id": "0CWKrdkY046c"
      },
      "execution_count": null,
      "outputs": []
    },
    {
      "cell_type": "markdown",
      "source": [
        "And we can get all keys in the dictionary using the method `.keys()`"
      ],
      "metadata": {
        "id": "rbZcyJe507wv"
      }
    },
    {
      "cell_type": "code",
      "source": [
        "ages.keys()"
      ],
      "metadata": {
        "id": "2LTnyzSi1DlO"
      },
      "execution_count": null,
      "outputs": []
    },
    {
      "cell_type": "markdown",
      "source": [
        "## Conditionals\n",
        "\n",
        "Up until now, all of our code has run one instruction after another. This would not produce very useful or interesting functionality. To make more complex instructions, we need to have some way to execute code only when some conditions are met. Conditionals are the first way to do that. A conditional is a block of code that is executed only when a defined logical statment is true. \n",
        "\n",
        "In Python, our basic conditional is the `if` statement. Let's see how it works with some examples:"
      ],
      "metadata": {
        "id": "bVvjr7oybPfe"
      }
    },
    {
      "cell_type": "code",
      "source": [
        "temperature = 60\n",
        "if temperature > 30 :\n",
        "    print(\"instrument is too hot\")\n",
        "    print(\"I will print this text too, because it is in the same clause\")\n",
        "\n",
        "print(\"This print statement is outside of the if clause\")"
      ],
      "metadata": {
        "id": "OGVuPzHScWox"
      },
      "execution_count": null,
      "outputs": []
    },
    {
      "cell_type": "markdown",
      "source": [
        "Note two important things above. Firstly, note how the `if` statement ends in a `:` character. **Secondly, note how the `print` statement is indented with a tab spacing.** This is how Python knows what instructions to execute *within* the if statement. Everything at the same indentation level (one tab in this case) is treated as being within this clause. Change the value of the temperature above such that the if statement will not execute. "
      ],
      "metadata": {
        "id": "Cn8OT9mQc3eK"
      }
    },
    {
      "cell_type": "markdown",
      "source": [
        "An `if-else` statement introduces two alternative sets of instructions; one that executes if the `if `statement is true, the other that executes if it is not. "
      ],
      "metadata": {
        "id": "UX0g_UkEeKh_"
      }
    },
    {
      "cell_type": "code",
      "source": [
        "temperature = 10\n",
        "if temperature > 30 :\n",
        "    print(\"instrument is too hot\")\n",
        "else :\n",
        "    print(\"instrument is fine - nothing to see here\")\n"
      ],
      "metadata": {
        "id": "39wBM-vfec1l"
      },
      "execution_count": null,
      "outputs": []
    },
    {
      "cell_type": "markdown",
      "source": [
        "And finally, you can extend to multiple clauses with the `if-elif-else` syntax. "
      ],
      "metadata": {
        "id": "zQIk45N3exWu"
      }
    },
    {
      "cell_type": "code",
      "source": [
        "temperature = 25\n",
        "if temperature > 30 :\n",
        "    print(\"instrument is too hot\")\n",
        "elif temperature > 20 and temperature <= 30 :\n",
        "    print(\"instrument is getting warm\")\n",
        "elif temperature > 10 and temperature <= 20 :\n",
        "    print(\"instrument is at optimal temperature\")\n",
        "else :\n",
        "    print(\"instrument is fairly cold actually\")"
      ],
      "metadata": {
        "id": "6nxYj_wheoTL"
      },
      "execution_count": null,
      "outputs": []
    },
    {
      "cell_type": "markdown",
      "source": [
        "## Loops\n",
        "\n",
        "The other basic way to make a program more functional and complex is to enable it to perform a given action many times. Loops are one way to do that. There are two basic types: `while` and `for`. "
      ],
      "metadata": {
        "id": "MwVrdumTfksI"
      }
    },
    {
      "cell_type": "markdown",
      "source": [
        "A `while` loop executes a set of instuctions **while** a defined logical statement is true. You'll see that the syntax below looks like an `if` statement, and it is! But the key difference is that the contents of the while loop will continue executing over and over until the statement is no longer true. So you have to be careful when programming to ensure that there will be a way to exit out of the `while` loop. "
      ],
      "metadata": {
        "id": "bt464uGWgdWN"
      }
    },
    {
      "cell_type": "code",
      "source": [
        "i=10\n",
        "while i < 20 :\n",
        "    print(i)\n",
        "    i=i+1\n",
        "  "
      ],
      "metadata": {
        "id": "zH5WS0UOhHSR"
      },
      "execution_count": null,
      "outputs": []
    },
    {
      "cell_type": "markdown",
      "source": [
        "A `for` loop iterates over a set of values and executes the encapsulated code each time. So, for example, we could do some computation with every element within a list. "
      ],
      "metadata": {
        "id": "JlWQGBLUhSo0"
      }
    },
    {
      "cell_type": "code",
      "source": [
        "my_list = [5, 10, 15, 20]\n",
        "\n",
        "for i in my_list :\n",
        "    j = 2 ** i\n",
        "    print(\"2 to the power of {} = {}\".format(i, j))"
      ],
      "metadata": {
        "id": "KyTepjhPhzCI"
      },
      "execution_count": null,
      "outputs": []
    },
    {
      "cell_type": "markdown",
      "source": [
        "The function `range` produces a list of numbers within some defined range of values. Handy if you want to iterate over a set of particular numbers.  "
      ],
      "metadata": {
        "id": "ejaSZYcejzah"
      }
    },
    {
      "cell_type": "code",
      "source": [
        "for i in range(0,10) :\n",
        "    print(i)"
      ],
      "metadata": {
        "id": "1MIInPMej-xK"
      },
      "execution_count": null,
      "outputs": []
    }
  ]
}