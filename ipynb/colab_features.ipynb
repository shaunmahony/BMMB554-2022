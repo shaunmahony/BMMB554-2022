{
  "nbformat": 4,
  "nbformat_minor": 0,
  "metadata": {
    "colab": {
      "name": "Overview of Colaboratory Features",
      "provenance": [],
      "collapsed_sections": [],
      "toc_visible": true,
      "include_colab_link": true
    },
    "kernelspec": {
      "display_name": "Python 3",
      "name": "python3"
    }
  },
  "cells": [
    {
      "cell_type": "markdown",
      "metadata": {
        "id": "view-in-github",
        "colab_type": "text"
      },
      "source": [
        "<a href=\"https://colab.research.google.com/github/nekrut/BMMB554/blob/master/2021/ipynb/colab_features.ipynb\" target=\"_parent\"><img src=\"https://colab.research.google.com/assets/colab-badge.svg\" alt=\"Open In Colab\"/></a>"
      ]
    },
    {
      "cell_type": "markdown",
      "metadata": {
        "id": "qVBnQ1ObGjNR"
      },
      "source": [
        "# Introduction to Colaboratory features | BMMB554\n",
        "\n",
        "(It combines two introductory notebooks from official colab documentation [Google's Colab Introduction notebook](https://colab.research.google.com/notebooks/basic_features_overview.ipynb) and [Markdown Basics](https://colab.research.google.com/notebooks/markdown_guide.ipynb))."
      ]
    },
    {
      "cell_type": "markdown",
      "metadata": {
        "id": "JyG45Qk3qQLS"
      },
      "source": [
        "# Cells\n",
        "A notebook is a list of cells. Cells contain either explanatory text or executable code and its output. Click a cell to select it."
      ]
    },
    {
      "cell_type": "markdown",
      "metadata": {
        "id": "KR921S_OQSHG"
      },
      "source": [
        "## Code cells\n",
        "Below is a **code cell**. Once the toolbar button indicates CONNECTED, click in the cell to select it and execute the contents in the following ways:\n",
        "\n",
        "* Click the **Play icon** in the left gutter of the cell;\n",
        "* Type **Cmd/Ctrl+Enter** to run the cell in place;\n",
        "* Type **Shift+Enter** to run the cell and move focus to the next cell (adding one if none exists); or\n",
        "* Type **Alt+Enter** to run the cell and insert a new code cell immediately below it.\n",
        "\n",
        "There are additional options for running some or all cells in the **Runtime** menu.\n"
      ]
    },
    {
      "cell_type": "code",
      "metadata": {
        "cellView": "both",
        "colab": {
          "height": 35
        },
        "id": "WUtu4316QSHL",
        "outputId": "67bdf0c3-d76f-4226-fc34-a2f2d0eba60b"
      },
      "source": [
        "a = 10\n",
        "a"
      ],
      "execution_count": null,
      "outputs": [
        {
          "output_type": "execute_result",
          "data": {
            "text/plain": [
              "10"
            ]
          },
          "metadata": {
            "tags": []
          },
          "execution_count": 0
        }
      ]
    },
    {
      "cell_type": "markdown",
      "metadata": {
        "id": "Id6tDF1HQSHD"
      },
      "source": [
        "## Text cells\n",
        "This is a **text cell**. You can **double-click** to edit this cell. Text cells\n",
        "use markdown syntax. To learn more, see our [markdown\n",
        "guide](/notebooks/markdown_guide.ipynb).\n",
        "\n",
        "You can also add math to text cells using [LaTeX](http://www.latex-project.org/)\n",
        "to be rendered by [MathJax](https://www.mathjax.org). Just place the statement\n",
        "within a pair of **\\$** signs. For example `$\\sqrt{3x-1}+(1+x)^2$` becomes\n",
        "$\\sqrt{3x-1}+(1+x)^2.$\n"
      ]
    },
    {
      "cell_type": "markdown",
      "metadata": {
        "id": "7bqjkGKwQSHW"
      },
      "source": [
        "## Adding and moving cells\n",
        "You can add new cells by using the **+ CODE** and **+ TEXT** buttons that show when you hover between cells. These buttons are also in the toolbar above the notebook where they can be used to add a cell below the currently selected cell.\n",
        "\n",
        "You can move a cell by selecting it and clicking **Cell Up** or **Cell Down** in the top toolbar. \n",
        "\n",
        "Consecutive cells can be selected by \"lasso selection\" by dragging from outside one cell and through the group.  Non-adjacent cells can be selected concurrently by clicking one and then holding down Ctrl while clicking another.  Similarly, using Shift instead of Ctrl will select all intermediate cells."
      ]
    },
    {
      "cell_type": "markdown",
      "metadata": {
        "id": "GOwlZRXEQSHZ"
      },
      "source": [
        "# Working with python\n",
        "Colaboratory is built on top of [Jupyter Notebook](https://jupyter.org/). Below are some examples of convenience functions provided."
      ]
    },
    {
      "cell_type": "markdown",
      "metadata": {
        "id": "RVuqWUXPQSHa"
      },
      "source": [
        "Long running python processes can be interrupted. Run the following cell and select **Runtime -> Interrupt execution** (*hotkey: Cmd/Ctrl-M I*) to stop execution."
      ]
    },
    {
      "cell_type": "code",
      "metadata": {
        "cellView": "both",
        "colab": {
          "base_uri": "https://localhost:8080/",
          "height": 231
        },
        "id": "d-S-3nYLQSHb",
        "outputId": "30a2e1f1-d0fb-48d4-bfe9-13710750ef46"
      },
      "source": [
        "import time\n",
        "print(\"Sleeping\")\n",
        "time.sleep(30) # sleep for a while; interrupt me!\n",
        "print(\"Done Sleeping\")"
      ],
      "execution_count": 1,
      "outputs": [
        {
          "output_type": "stream",
          "text": [
            "Sleeping\n"
          ],
          "name": "stdout"
        },
        {
          "output_type": "error",
          "ename": "KeyboardInterrupt",
          "evalue": "ignored",
          "traceback": [
            "\u001b[0;31m---------------------------------------------------------------------------\u001b[0m",
            "\u001b[0;31mKeyboardInterrupt\u001b[0m                         Traceback (most recent call last)",
            "\u001b[0;32m<ipython-input-1-fb6d98dc021a>\u001b[0m in \u001b[0;36m<module>\u001b[0;34m()\u001b[0m\n\u001b[1;32m      1\u001b[0m \u001b[0;32mimport\u001b[0m \u001b[0mtime\u001b[0m\u001b[0;34m\u001b[0m\u001b[0;34m\u001b[0m\u001b[0m\n\u001b[1;32m      2\u001b[0m \u001b[0mprint\u001b[0m\u001b[0;34m(\u001b[0m\u001b[0;34m\"Sleeping\"\u001b[0m\u001b[0;34m)\u001b[0m\u001b[0;34m\u001b[0m\u001b[0;34m\u001b[0m\u001b[0m\n\u001b[0;32m----> 3\u001b[0;31m \u001b[0mtime\u001b[0m\u001b[0;34m.\u001b[0m\u001b[0msleep\u001b[0m\u001b[0;34m(\u001b[0m\u001b[0;36m30\u001b[0m\u001b[0;34m)\u001b[0m \u001b[0;31m# sleep for a while; interrupt me!\u001b[0m\u001b[0;34m\u001b[0m\u001b[0;34m\u001b[0m\u001b[0m\n\u001b[0m\u001b[1;32m      4\u001b[0m \u001b[0mprint\u001b[0m\u001b[0;34m(\u001b[0m\u001b[0;34m\"Done Sleeping\"\u001b[0m\u001b[0;34m)\u001b[0m\u001b[0;34m\u001b[0m\u001b[0;34m\u001b[0m\u001b[0m\n",
            "\u001b[0;31mKeyboardInterrupt\u001b[0m: "
          ]
        }
      ]
    },
    {
      "cell_type": "markdown",
      "metadata": {
        "id": "Wej_mEyXQSHc"
      },
      "source": [
        "## System aliases\n",
        "\n",
        "Jupyter includes shortcuts for common operations, such as ls:"
      ]
    },
    {
      "cell_type": "code",
      "metadata": {
        "cellView": "both",
        "colab": {
          "height": 323
        },
        "id": "5OCYEvK5QSHf",
        "outputId": "2ee8ae66-72ed-425c-e20b-bc5ac307ef3e"
      },
      "source": [
        "!ls /bin"
      ],
      "execution_count": null,
      "outputs": [
        {
          "output_type": "stream",
          "text": [
            "\u001b[0m\u001b[01;36march\u001b[0m@      \u001b[01;32mdmesg\u001b[0m*          \u001b[01;32mls\u001b[0m*          \u001b[01;32mpwd\u001b[0m*        \u001b[01;32mtrue\u001b[0m*\r\n",
            "\u001b[01;36mawk\u001b[0m@       \u001b[01;32mdnsdomainname\u001b[0m*  \u001b[01;32mlsmod\u001b[0m*       \u001b[01;32mreadlink\u001b[0m*   \u001b[01;32mumount\u001b[0m*\r\n",
            "\u001b[01;36mbasename\u001b[0m@  \u001b[01;32mdomainname\u001b[0m*     \u001b[01;32mmail\u001b[0m*        \u001b[01;36mred\u001b[0m@        \u001b[01;32muname\u001b[0m*\r\n",
            "\u001b[01;32mbash\u001b[0m*      \u001b[01;32mecho\u001b[0m*           \u001b[01;32mmkdir\u001b[0m*       \u001b[01;32mrm\u001b[0m*         \u001b[01;32muncompress\u001b[0m*\r\n",
            "\u001b[01;36mbunzip2\u001b[0m@   \u001b[01;36med\u001b[0m@             \u001b[01;32mmknod\u001b[0m*       \u001b[01;32mrmdir\u001b[0m*      \u001b[01;32musleep\u001b[0m*\r\n",
            "\u001b[01;32mbusybox\u001b[0m*   \u001b[01;32megrep\u001b[0m*          \u001b[01;32mmktemp\u001b[0m*      \u001b[01;32mrun-parts\u001b[0m*  \u001b[01;32mver\u001b[0m*\r\n",
            "\u001b[01;36mbzip2\u001b[0m@     \u001b[01;32mfalse\u001b[0m*          \u001b[01;32mmore\u001b[0m*        \u001b[01;32msed\u001b[0m*        \u001b[01;32mwhich\u001b[0m*\r\n",
            "\u001b[01;32mcat\u001b[0m*       \u001b[01;32mfgrep\u001b[0m*          \u001b[01;32mmount\u001b[0m*       \u001b[01;36msh\u001b[0m@         \u001b[01;34mwrapper_checkpoints\u001b[0m/\r\n",
            "\u001b[01;32mchgrp\u001b[0m*     \u001b[01;36mgawk\u001b[0m@           \u001b[01;32mmountpoint\u001b[0m*  \u001b[01;32msleep\u001b[0m*      \u001b[01;32mzcat\u001b[0m*\r\n",
            "\u001b[01;32mchmod\u001b[0m*     \u001b[01;32mgrep\u001b[0m*           \u001b[01;32mmv\u001b[0m*          \u001b[01;36msort\u001b[0m@       \u001b[01;32mzcmp\u001b[0m*\r\n",
            "\u001b[01;32mchown\u001b[0m*     \u001b[01;32mgunzip\u001b[0m*         \u001b[01;32mnc\u001b[0m*          \u001b[01;32mstty\u001b[0m*       \u001b[01;32mzdiff\u001b[0m*\r\n",
            "\u001b[01;32mcp\u001b[0m*        \u001b[01;32mgzexe\u001b[0m*          \u001b[01;36mnetcat\u001b[0m@      \u001b[01;32msu\u001b[0m*         \u001b[01;32mzegrep\u001b[0m*\r\n",
            "\u001b[01;32mcpio\u001b[0m*      \u001b[01;32mgzip\u001b[0m*           \u001b[01;32mnetstat\u001b[0m*     \u001b[01;32msync\u001b[0m*       \u001b[01;32mzfgrep\u001b[0m*\r\n",
            "\u001b[01;36mcsh\u001b[0m@       \u001b[01;32mhostname\u001b[0m*       \u001b[01;36mnice\u001b[0m@        \u001b[01;32mtailf\u001b[0m*      \u001b[01;32mzforce\u001b[0m*\r\n",
            "\u001b[01;36mcut\u001b[0m@       \u001b[01;36migawk\u001b[0m@          \u001b[01;36mpidof\u001b[0m@       \u001b[01;32mtar\u001b[0m*        \u001b[01;32mzgrep\u001b[0m*\r\n",
            "\u001b[01;32mdate\u001b[0m*      \u001b[01;32mkill\u001b[0m*           \u001b[01;32mping\u001b[0m*        \u001b[01;36mtcsh\u001b[0m@       \u001b[01;32mzless\u001b[0m*\r\n",
            "\u001b[01;32mdd\u001b[0m*        \u001b[01;32mln\u001b[0m*             \u001b[01;32mping6\u001b[0m*       \u001b[01;32mtempfile\u001b[0m*   \u001b[01;32mzmore\u001b[0m*\r\n",
            "\u001b[01;32mdf\u001b[0m*        \u001b[01;32mlogin\u001b[0m*          \u001b[01;32mps\u001b[0m*          \u001b[01;32mtouch\u001b[0m*      \u001b[01;32mznew\u001b[0m*\r\n"
          ],
          "name": "stdout"
        }
      ]
    },
    {
      "cell_type": "markdown",
      "metadata": {
        "id": "y8Da6JWKQSHh"
      },
      "source": [
        "That `!ls` probably generated a large output. You can select the cell and clear the output by either: \n",
        "\n",
        "1. Clicking on the clear output button (x) in the toolbar above the cell; or\n",
        "2. Right clicking the left gutter of the output area and selecting \"Clear output\" from the context menu.\n",
        "\n",
        "Execute any other process using `!` with string interpolation from python variables, and note the result can be assigned to a variable:"
      ]
    },
    {
      "cell_type": "code",
      "metadata": {
        "cellView": "both",
        "colab": {
          "base_uri": "https://localhost:8080/"
        },
        "id": "zqGrv0blQSHj",
        "outputId": "bd278311-22b6-4a1e-cbf2-38a64776dfe2"
      },
      "source": [
        "message = 'Colaboratory is great!'\n",
        "foo = !echo -e '$message\\n$message'\n",
        "foo"
      ],
      "execution_count": 2,
      "outputs": [
        {
          "output_type": "execute_result",
          "data": {
            "text/plain": [
              "['Colaboratory is great!', 'Colaboratory is great!']"
            ]
          },
          "metadata": {
            "tags": []
          },
          "execution_count": 2
        }
      ]
    },
    {
      "cell_type": "markdown",
      "metadata": {
        "id": "qM4myQGfQboQ"
      },
      "source": [
        "## Magics\n",
        "Colaboratory shares the notion of magics from Jupyter. There are shorthand annotations that change how a cell's text is executed. To learn more, see [Jupyter's magics page](http://nbviewer.jupyter.org/github/ipython/ipython/blob/1.x/examples/notebooks/Cell%20Magics.ipynb). \n"
      ]
    },
    {
      "cell_type": "code",
      "metadata": {
        "cellView": "both",
        "colab": {
          "base_uri": "https://localhost:8080/",
          "height": 38
        },
        "id": "odfM-_GxWbCy",
        "outputId": "21ddc03e-5821-4e58-8769-e38dd4b1afb5"
      },
      "source": [
        "%%html\n",
        "<marquee style='width: 30%; color: blue;'><b>BMMB554</b></marquee>"
      ],
      "execution_count": 3,
      "outputs": [
        {
          "output_type": "display_data",
          "data": {
            "text/html": [
              "<marquee style='width: 30%; color: blue;'><b>BMMB554</b></marquee>"
            ],
            "text/plain": [
              "<IPython.core.display.HTML object>"
            ]
          },
          "metadata": {
            "tags": []
          }
        }
      ]
    },
    {
      "cell_type": "code",
      "metadata": {
        "colab": {
          "height": 221
        },
        "id": "_YrTcK7k22Fp",
        "outputId": "bb3a69dd-49b7-4a6c-966a-64f77007a525"
      },
      "source": [
        "%%html\n",
        "<svg xmlns=\"http://www.w3.org/2000/svg\" viewBox=\"0 0 450 400\" width=\"200\" height=\"200\">\n",
        "  <rect x=\"80\" y=\"60\" width=\"250\" height=\"250\" rx=\"20\" style=\"fill:red; stroke:black; fill-opacity:0.7\" />\n",
        "  <rect x=\"180\" y=\"110\" width=\"250\" height=\"250\" rx=\"40\" style=\"fill:blue; stroke:black; fill-opacity:0.5;\" />\n",
        "</svg>"
      ],
      "execution_count": null,
      "outputs": [
        {
          "output_type": "display_data",
          "data": {
            "text/html": [
              "<svg xmlns=\"http://www.w3.org/2000/svg\" viewBox=\"0 0 450 400\" width=\"200\" height=\"200\">\n",
              "  <rect x=\"80\" y=\"60\" width=\"250\" height=\"250\" rx=\"20\" style=\"fill:red; stroke:black; fill-opacity:0.7\" />\n",
              "  <rect x=\"180\" y=\"110\" width=\"250\" height=\"250\" rx=\"40\" style=\"fill:blue; stroke:black; fill-opacity:0.5;\" />\n",
              "</svg>"
            ],
            "text/plain": [
              "<IPython.core.display.HTML at 0x5636f4dd54d0>"
            ]
          },
          "metadata": {
            "tags": []
          }
        }
      ]
    },
    {
      "cell_type": "markdown",
      "metadata": {
        "id": "d4L9TOP9QSHn"
      },
      "source": [
        "## Tab-completion and exploring code\n",
        "\n",
        "Colab provides tab completion to explore attributes of Python objects, as well as to quickly view documentation strings. As an example, first run the following cell to import the  [`numpy`](http://www.numpy.org) module."
      ]
    },
    {
      "cell_type": "code",
      "metadata": {
        "cellView": "both",
        "id": "Q0JKWcmtQSHp"
      },
      "source": [
        "import numpy as np"
      ],
      "execution_count": 2,
      "outputs": []
    },
    {
      "cell_type": "markdown",
      "metadata": {
        "id": "1M890-bXeyYp"
      },
      "source": [
        "If you now insert your cursor after ``np.random.`` and press **Tab**, you will see the list of available completions within the ``np.random`` submodule."
      ]
    },
    {
      "cell_type": "code",
      "metadata": {
        "cellView": "both",
        "id": "j6QRIfUHQSHq"
      },
      "source": [
        "np.random.  "
      ],
      "execution_count": null,
      "outputs": []
    },
    {
      "cell_type": "markdown",
      "metadata": {
        "id": "g6MfomFhQSHs"
      },
      "source": [
        "If you type an open parenthesis followed by the **Tab** key after any function or class in the module, you will see a pop-up of its documentation string:"
      ]
    },
    {
      "cell_type": "code",
      "metadata": {
        "cellView": "both",
        "id": "SD0XnrVhQSHt",
        "colab": {
          "base_uri": "https://localhost:8080/"
        },
        "outputId": "0c0ba9a4-3ef4-47e1-f532-4f915ddc3448"
      },
      "source": [
        "np.random.rand("
      ],
      "execution_count": 4,
      "outputs": [
        {
          "output_type": "execute_result",
          "data": {
            "text/plain": [
              "array([0.95899654, 0.69441437, 0.4361267 ])"
            ]
          },
          "metadata": {
            "tags": []
          },
          "execution_count": 4
        }
      ]
    },
    {
      "cell_type": "markdown",
      "metadata": {
        "id": "9ReRLQaxJ-zP"
      },
      "source": [
        "To open the documentation in a persistent pane at the bottom of your screen, add a **?** after the object or method name and execute the cell using **Shift+Enter**:"
      ]
    },
    {
      "cell_type": "code",
      "metadata": {
        "cellView": "both",
        "id": "YgQ6Tu7DK17l",
        "colab": {
          "base_uri": "https://localhost:8080/"
        },
        "outputId": "f3a5ae4d-03ad-4637-b754-1db7942f03d7"
      },
      "source": [
        "np.random?"
      ],
      "execution_count": 1,
      "outputs": [
        {
          "output_type": "stream",
          "text": [
            "Object `np.random` not found.\n"
          ],
          "name": "stdout"
        }
      ]
    },
    {
      "cell_type": "markdown",
      "metadata": {
        "id": "TYTBdJXxfqiJ"
      },
      "source": [
        "## Exception Formatting"
      ]
    },
    {
      "cell_type": "markdown",
      "metadata": {
        "id": "4bqAVK-aQSHx"
      },
      "source": [
        "Exceptions are formatted nicely in Colab outputs:"
      ]
    },
    {
      "cell_type": "code",
      "metadata": {
        "cellView": "both",
        "id": "CrJf1PEmQSHx",
        "outputId": "a8c7a413-a1e6-49f1-c7b5-58986eff5047"
      },
      "source": [
        "x = 1\n",
        "y = 4\n",
        "z = y/(1-x)"
      ],
      "execution_count": null,
      "outputs": [
        {
          "output_type": "error",
          "ename": "ZeroDivisionError",
          "evalue": "",
          "traceback": [
            "\u001b[1;31m---------------------------------------------------------------------------\u001b[0m\n\u001b[1;31mZeroDivisionError\u001b[0m                         Traceback (most recent call last)",
            "\u001b[1;32m<ipython-input-14-dc39888fd1d2>\u001b[0m in \u001b[0;36m<module>\u001b[1;34m()\u001b[0m\n\u001b[0;32m      1\u001b[0m \u001b[0mx\u001b[0m \u001b[1;33m=\u001b[0m \u001b[1;36m1\u001b[0m\u001b[1;33m\u001b[0m\u001b[0m\n\u001b[0;32m      2\u001b[0m \u001b[0my\u001b[0m \u001b[1;33m=\u001b[0m \u001b[1;36m4\u001b[0m\u001b[1;33m\u001b[0m\u001b[0m\n\u001b[1;32m----> 3\u001b[1;33m \u001b[0mz\u001b[0m \u001b[1;33m=\u001b[0m \u001b[0my\u001b[0m\u001b[1;33m/\u001b[0m\u001b[1;33m(\u001b[0m\u001b[1;36m1\u001b[0m\u001b[1;33m-\u001b[0m\u001b[0mx\u001b[0m\u001b[1;33m)\u001b[0m\u001b[1;33m\u001b[0m\u001b[0m\n\u001b[0m",
            "\u001b[1;31mZeroDivisionError\u001b[0m: integer division or modulo by zero"
          ]
        }
      ]
    },
    {
      "cell_type": "markdown",
      "metadata": {
        "id": "7cRnhv_7N4Pa"
      },
      "source": [
        "## Rich, interactive outputs\n",
        "Until now all of the generated outputs have been text, but they can be more interesting, like the chart below. "
      ]
    },
    {
      "cell_type": "code",
      "metadata": {
        "colab": {
          "base_uri": "https://localhost:8080/",
          "height": 281
        },
        "id": "JVXnTqyE9RET",
        "outputId": "1789d2bd-7a68-40db-a500-7f80f44ad35a"
      },
      "source": [
        "import numpy as np\n",
        "from matplotlib import pyplot as plt\n",
        "\n",
        "ys = 200 + np.random.randn(200)\n",
        "x = [x for x in range(len(ys))]\n",
        "\n",
        "plt.plot(x, ys, '-')\n",
        "plt.fill_between(x, ys, 195, where=(ys > 195), facecolor='g', alpha=0.6)\n",
        "\n",
        "plt.title(\"Fills and Alpha Example\")\n",
        "plt.show()"
      ],
      "execution_count": 12,
      "outputs": [
        {
          "output_type": "display_data",
          "data": {
            "image/png": "[encoded data removed]",
            "text/plain": [
              "<Figure size 432x288 with 1 Axes>"
            ]
          },
          "metadata": {
            "tags": [],
            "needs_background": "light"
          }
        }
      ]
    },
    {
      "cell_type": "markdown",
      "metadata": {
        "id": "aro-UJgUQSH1"
      },
      "source": [
        "# Integration with Drive\n",
        "\n",
        "Colaboratory is integrated with Google Drive. It allows you to share, comment, and collaborate on the same document with multiple people:\n",
        "\n",
        "* The **SHARE** button (top-right of the toolbar) allows you to share the notebook and control permissions set on it.\n",
        "\n",
        "* **File->Make a Copy** creates a copy of the notebook in Drive.\n",
        "\n",
        "* **File->Save** saves the File to Drive. **File->Save and checkpoint** pins the version so it doesn't get deleted from the revision history. \n",
        "\n",
        "* **File->Revision history** shows the notebook's revision history. "
      ]
    },
    {
      "cell_type": "markdown",
      "metadata": {
        "id": "4hfV37gxpP_c"
      },
      "source": [
        "## Commenting on a cell\n",
        "You can comment on a Colaboratory notebook like you would on a Google Document. Comments are attached to cells, and are displayed next to the cell they refer to. If you have **comment-only** permissions, you will see a comment button on the top right of the cell when you hover over it.\n",
        "\n",
        "If you have edit or comment permissions you can comment on a cell in one of three ways: \n",
        "\n",
        "1. Select a cell and click the comment button in the toolbar above the top-right corner of the cell.\n",
        "1. Right click a text cell and select **Add a comment** from the context menu.\n",
        "3. Use the shortcut **Ctrl+Shift+M** to add a comment to the currently selected cell. \n",
        "\n",
        "You can resolve and reply to comments, and you can target comments to specific collaborators by typing *+[email address]* (e.g., `+user@domain.com`). Addressed collaborators will be emailed. \n",
        "\n",
        "The Comment button in the top-right corner of the page shows all comments attached to the notebook."
      ]
    },
    {
      "cell_type": "markdown",
      "metadata": {
        "id": "6Zex8S21KZnV"
      },
      "source": [
        ""
      ]
    },
    {
      "cell_type": "markdown",
      "metadata": {
        "id": "uTnBkRyvGvhW"
      },
      "source": [
        "Formatting text in Colaboratory: A guide to Colaboratory markdown\n",
        "==="
      ]
    },
    {
      "cell_type": "markdown",
      "metadata": {
        "id": "70pYkR9LiOV0"
      },
      "source": [
        "## What is markdown?\n",
        "\n",
        "Colaboratory has two types of cells: text and code. The text cells are formatted using a simple markup language called markdown, based on [the original](https://daringfireball.net/projects/markdown/syntax).\n",
        "\n",
        "## Quick reference\n",
        "\n",
        "To see the markdown source, double-click a text cell, showing both the markdown source (above) and the rendered version (below). Above the markdown source there is a toolbar to assist editing.\n",
        "\n",
        "Headers are created using \\#. Use multiple \\#\\#\\# for less emphasis. For example:\n",
        ">\\# This is equivalent to an &lt;h1> tag\n",
        "\n",
        ">\\##### This is equivalent to an &lt;h5> tag\n",
        "\n",
        "To make text **bold** surround it with \\*\\*two asterisks\\*\\*. To make text *italic* use a \\*single asterisk\\* or \\_underscore\\_. \\\n",
        "_**Bold** inside italics_ and **vice-_versa_** also work. ~~Strikethrough~~ uses \\~\\~two tildes\\~\\~ while `monospace` (such as code) uses \\`backtick\\`.\n",
        "\n",
        "Blocks are indented with \\>, and multiple levels of indentation are indicated by repetition: \\>\\>\\> indents three levels.\n",
        "\n",
        "Ordered lists are created by typing any number followed by a period at the beginning of a line. Unordered lists are \\* or - at the beginning of a line. Lists can be nested by indenting using two spaces for each level of nesting.\n",
        "\n",
        "[Links](https://research.google.com/colaboratory) are created with \\[brackets around the linked text\\](and-parentheses-around-the-url.html). Naked URLs, like https://google.com, will automatically be linkified.\n",
        "Another way to create links is using references, which look like [brackets around the linked text][an-arbitrary-reference-id] and then, later anywhere in the cell on its own line, \\[an-arbitrary-reference-id]: followed-by-a-URL.html\n",
        "\n",
        "A '!' character in front of a link turns it into an inline image link: !\\[Alt text]\\(link-to-an-image.png).\n",
        "\n",
        "$\\LaTeX$ equations are surrounded by `$`. For example, `$y = 0.1 x$` renders as the following inline equation: $y = 0.1 x$. Double the `$` to set the contents off on its own centered line.\n",
        "\n",
        "Horizontal rules are created with three or more hyphens, underscores, or asterisks (\\-\\-\\-, \\_\\_\\_, or \\*\\*\\*) on their own line.\n",
        "\n",
        "Tables are created using \\-\\-\\- for the boundary between the column header and columns and \\| between the columns.\n",
        "\n",
        "Please see also [GitHub's documentation](https://help.github.com/articles/basic-writing-and-formatting-syntax/) for a similar (but not identical) version of markdown."
      ]
    },
    {
      "cell_type": "markdown",
      "metadata": {
        "id": "eYaIiIaJOPqi"
      },
      "source": [
        "## Examples"
      ]
    },
    {
      "cell_type": "markdown",
      "metadata": {
        "id": "tPqPXAKKkzaM"
      },
      "source": [
        "Examples of markdown text with tags repeated, escaped the second time, to clarify their function:\n",
        "\n",
        "##### \\#\\#\\#\\#\\#This text is treated as an <h5> because it has five hashes at the beginning\n",
        "\n",
        "\\**italics*\\* and \\__italics_\\_\n",
        "\n",
        "**\\*\\*bold\\*\\***\n",
        "\n",
        "\\~\\~~~strikethrough~~\\~\\~\n",
        "\n",
        "\\``monospace`\\`\n",
        "\n",
        "No indent\n",
        ">\\>One level of indentation\n",
        ">>\\>\\>Two levels of indentation\n",
        "\n",
        "An ordered list:\n",
        "1. 1\\. One\n",
        "1. 1\\. Two\n",
        "1. 1\\. Three\n",
        "\n",
        "An unordered list:\n",
        "* \\* One\n",
        "* \\* Two\n",
        "* \\* Three\n",
        "\n",
        "A naked URL: https://google.com\n",
        "\n",
        "Linked URL: \\[[Colaboratory](https://research.google.com/colaboratory)]\\(https://research.google.com/colaboratory)\n",
        "\n",
        "A linked URL using references:\n",
        "\n",
        ">\\[[Colaboratory][colaboratory-label]]\\[colaboratory-label]\n",
        "\n",
        ">\\[colaboratory-label]: https://research.google.com/colaboratory\n",
        "[colaboratory-label]: https://research.google.com/colaboratory\n",
        "\n",
        "An inline image: !\\[Google's logo](https://www.google.com/images/logos/google_logo_41.png)\n",
        ">![Google's logo](https://www.google.com/images/logos/google_logo_41.png)\n",
        "\n",
        "Equations:\n",
        "\n",
        ">$y=x^2$\n",
        "\n",
        ">$e^{i\\pi} + 1 = 0$\n",
        "\n",
        ">$e^x=\\sum_{i=0}^\\infty \\frac{1}{i!}x^i$\n",
        "\n",
        ">$\\frac{n!}{k!(n-k)!} = {n \\choose k}$\n",
        "\n",
        ">$A_{m,n} =\n",
        " \\begin{pmatrix}\n",
        "  a_{1,1} & a_{1,2} & \\cdots & a_{1,n} \\\\\n",
        "  a_{2,1} & a_{2,2} & \\cdots & a_{2,n} \\\\\n",
        "  \\vdots  & \\vdots  & \\ddots & \\vdots  \\\\\n",
        "  a_{m,1} & a_{m,2} & \\cdots & a_{m,n}\n",
        " \\end{pmatrix}$\n",
        "\n",
        "Tables:\n",
        ">```\n",
        "First column name | Second column name\n",
        "--- | ---\n",
        "Row 1, Col 1 | Row 1, Col 2\n",
        "Row 2, Col 1 | Row 2, Col 2\n",
        "```\n",
        "\n",
        "becomes:\n",
        "\n",
        ">First column name | Second column name\n",
        ">--- | ---\n",
        ">Row 1, Col 1 | Row 1, Col 2\n",
        ">Row 2, Col 1 | Row 2, Col 2\n",
        "\n",
        "Horizontal rule done with three dashes (\\-\\-\\-):\n",
        "\n",
        "---\n",
        "\n"
      ]
    },
    {
      "cell_type": "markdown",
      "metadata": {
        "id": "w86a4I4fmkvD"
      },
      "source": [
        "## Differences between Colaboratory markdown and other markdown dialects\n",
        "\n",
        "Colaboratory uses [marked.js](https://github.com/chjj/marked) and so is similar but not quite identical to the markdown used by Jupyter and Github.\n",
        "\n",
        "The biggest differences are that Colaboratory supports (MathJax) $\\LaTeX$ equations like Jupyter, but does not allow HTML tags in the markdown unlike most other markdowns.\n",
        "\n",
        "Smaller differences are that Colaboratory does not support syntax highlighting in code blocks, nor does it support some GitHub additions like emojis and to-do checkboxes.\n",
        "\n",
        "If HTML must be included in a Colaboratory notebook, see the [%%html magic](/notebooks/basic_features_overview.ipynb#scrollTo=qM4myQGfQboQ)."
      ]
    },
    {
      "cell_type": "markdown",
      "metadata": {
        "id": "uSx6SUb1Komv"
      },
      "source": [
        "## Useful references"
      ]
    },
    {
      "cell_type": "markdown",
      "metadata": {
        "id": "5Y3CStVkLxqt"
      },
      "source": [
        "* [Github markdown basics](https://help.github.com/articles/markdown-basics/)\n",
        "* [Github flavored markdown](https://help.github.com/articles/github-flavored-markdown/)\n",
        "* [Original markdown spec: Syntax](http://daringfireball.net/projects/markdown/syntax)\n",
        "* [Original markdown spec: Basics](http://daringfireball.net/projects/markdown/basics)\n",
        "* [marked.js library used by Colaboratory](https://github.com/chjj/marked)\n",
        "* [LaTex mathematics for equations](https://en.wikibooks.org/wiki/LaTeX/Mathematics)"
      ]
    }
  ]
}